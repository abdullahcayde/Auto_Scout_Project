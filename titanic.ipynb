{
 "cells": [
  {
   "cell_type": "code",
   "execution_count": 1,
   "id": "0d722cc2-e8e2-4cd1-8203-08fe7b35cfa9",
   "metadata": {},
   "outputs": [],
   "source": [
    "import pandas as pd\n",
    "import numpy as np\n",
    "import seaborn as sns\n",
    "import matplotlib.pyplot as plt\n",
    "\n",
    "import warnings\n",
    "warnings.simplefilter(action='ignore')\n",
    "\n",
    "# Show 2 decimals\n",
    "pd.set_option('display.float_format', lambda x: '%.4f' % x)\n",
    "#pd.options.display.float_format = '{:,.2f}'.format\n",
    "\n",
    "#Butun kolon ve satirlari gormek icin\n",
    "pd.set_option('display.max_columns', None)\n",
    "pd.set_option('display.max_rows', None)\n",
    "\n",
    "# Set plot background\n",
    "sns.set_theme(style=\"whitegrid\")\n",
    "\n",
    "# Euro sign €\n",
    "#print (\"%s\"%(u\"\\N{euro sign}\"))"
   ]
  },
  {
   "cell_type": "code",
   "execution_count": 2,
   "id": "c36b866f-fa7c-477c-a1ed-a6f2652e0201",
   "metadata": {},
   "outputs": [],
   "source": [
    "from sklearn.compose import make_column_transformer\n",
    "from sklearn.preprocessing import OneHotEncoder\n",
    "from sklearn.linear_model import LogisticRegression\n",
    "from sklearn.pipeline import make_pipeline\n",
    "from sklearn.model_selection import cross_val_score"
   ]
  },
  {
   "cell_type": "markdown",
   "id": "e67abff2-b42c-4af9-bd6d-c8774b53d3e8",
   "metadata": {},
   "source": [
    "# Step 1: Load the dataset"
   ]
  },
  {
   "cell_type": "code",
   "execution_count": 3,
   "id": "cda0ec5e-7179-4d11-a642-53326c976993",
   "metadata": {},
   "outputs": [
    {
     "data": {
      "text/html": [
       "<div>\n",
       "<style scoped>\n",
       "    .dataframe tbody tr th:only-of-type {\n",
       "        vertical-align: middle;\n",
       "    }\n",
       "\n",
       "    .dataframe tbody tr th {\n",
       "        vertical-align: top;\n",
       "    }\n",
       "\n",
       "    .dataframe thead th {\n",
       "        text-align: right;\n",
       "    }\n",
       "</style>\n",
       "<table border=\"1\" class=\"dataframe\">\n",
       "  <thead>\n",
       "    <tr style=\"text-align: right;\">\n",
       "      <th></th>\n",
       "      <th>PassengerId</th>\n",
       "      <th>Survived</th>\n",
       "      <th>Pclass</th>\n",
       "      <th>Name</th>\n",
       "      <th>Sex</th>\n",
       "      <th>Age</th>\n",
       "      <th>SibSp</th>\n",
       "      <th>Parch</th>\n",
       "      <th>Ticket</th>\n",
       "      <th>Fare</th>\n",
       "      <th>Cabin</th>\n",
       "      <th>Embarked</th>\n",
       "    </tr>\n",
       "  </thead>\n",
       "  <tbody>\n",
       "    <tr>\n",
       "      <th>0</th>\n",
       "      <td>1</td>\n",
       "      <td>0</td>\n",
       "      <td>3</td>\n",
       "      <td>Braund, Mr. Owen Harris</td>\n",
       "      <td>male</td>\n",
       "      <td>22.0000</td>\n",
       "      <td>1</td>\n",
       "      <td>0</td>\n",
       "      <td>A/5 21171</td>\n",
       "      <td>7.2500</td>\n",
       "      <td>NaN</td>\n",
       "      <td>S</td>\n",
       "    </tr>\n",
       "    <tr>\n",
       "      <th>1</th>\n",
       "      <td>2</td>\n",
       "      <td>1</td>\n",
       "      <td>1</td>\n",
       "      <td>Cumings, Mrs. John Bradley (Florence Briggs Th...</td>\n",
       "      <td>female</td>\n",
       "      <td>38.0000</td>\n",
       "      <td>1</td>\n",
       "      <td>0</td>\n",
       "      <td>PC 17599</td>\n",
       "      <td>71.2833</td>\n",
       "      <td>C85</td>\n",
       "      <td>C</td>\n",
       "    </tr>\n",
       "    <tr>\n",
       "      <th>2</th>\n",
       "      <td>3</td>\n",
       "      <td>1</td>\n",
       "      <td>3</td>\n",
       "      <td>Heikkinen, Miss. Laina</td>\n",
       "      <td>female</td>\n",
       "      <td>26.0000</td>\n",
       "      <td>0</td>\n",
       "      <td>0</td>\n",
       "      <td>STON/O2. 3101282</td>\n",
       "      <td>7.9250</td>\n",
       "      <td>NaN</td>\n",
       "      <td>S</td>\n",
       "    </tr>\n",
       "    <tr>\n",
       "      <th>3</th>\n",
       "      <td>4</td>\n",
       "      <td>1</td>\n",
       "      <td>1</td>\n",
       "      <td>Futrelle, Mrs. Jacques Heath (Lily May Peel)</td>\n",
       "      <td>female</td>\n",
       "      <td>35.0000</td>\n",
       "      <td>1</td>\n",
       "      <td>0</td>\n",
       "      <td>113803</td>\n",
       "      <td>53.1000</td>\n",
       "      <td>C123</td>\n",
       "      <td>S</td>\n",
       "    </tr>\n",
       "    <tr>\n",
       "      <th>4</th>\n",
       "      <td>5</td>\n",
       "      <td>0</td>\n",
       "      <td>3</td>\n",
       "      <td>Allen, Mr. William Henry</td>\n",
       "      <td>male</td>\n",
       "      <td>35.0000</td>\n",
       "      <td>0</td>\n",
       "      <td>0</td>\n",
       "      <td>373450</td>\n",
       "      <td>8.0500</td>\n",
       "      <td>NaN</td>\n",
       "      <td>S</td>\n",
       "    </tr>\n",
       "  </tbody>\n",
       "</table>\n",
       "</div>"
      ],
      "text/plain": [
       "   PassengerId  Survived  Pclass  \\\n",
       "0            1         0       3   \n",
       "1            2         1       1   \n",
       "2            3         1       3   \n",
       "3            4         1       1   \n",
       "4            5         0       3   \n",
       "\n",
       "                                                Name     Sex     Age  SibSp  \\\n",
       "0                            Braund, Mr. Owen Harris    male 22.0000      1   \n",
       "1  Cumings, Mrs. John Bradley (Florence Briggs Th...  female 38.0000      1   \n",
       "2                             Heikkinen, Miss. Laina  female 26.0000      0   \n",
       "3       Futrelle, Mrs. Jacques Heath (Lily May Peel)  female 35.0000      1   \n",
       "4                           Allen, Mr. William Henry    male 35.0000      0   \n",
       "\n",
       "   Parch            Ticket    Fare Cabin Embarked  \n",
       "0      0         A/5 21171  7.2500   NaN        S  \n",
       "1      0          PC 17599 71.2833   C85        C  \n",
       "2      0  STON/O2. 3101282  7.9250   NaN        S  \n",
       "3      0            113803 53.1000  C123        S  \n",
       "4      0            373450  8.0500   NaN        S  "
      ]
     },
     "execution_count": 3,
     "metadata": {},
     "output_type": "execute_result"
    }
   ],
   "source": [
    "df = pd.read_csv('titanic.csv')\n",
    "df.head()"
   ]
  },
  {
   "cell_type": "code",
   "execution_count": 4,
   "id": "0259be34-64bf-4c2d-a97b-b57c5bceb5bc",
   "metadata": {},
   "outputs": [
    {
     "data": {
      "text/plain": [
       "(891, 12)"
      ]
     },
     "execution_count": 4,
     "metadata": {},
     "output_type": "execute_result"
    }
   ],
   "source": [
    "df.shape"
   ]
  },
  {
   "cell_type": "markdown",
   "id": "1ed932b6-bb23-4f97-9776-b3a7d26f6014",
   "metadata": {},
   "source": [
    "# Step 2: Select features"
   ]
  },
  {
   "cell_type": "code",
   "execution_count": 5,
   "id": "35d2a81b-32fe-4db1-8796-48be0a50a7ba",
   "metadata": {},
   "outputs": [
    {
     "data": {
      "text/plain": [
       "Index(['PassengerId', 'Survived', 'Pclass', 'Name', 'Sex', 'Age', 'SibSp',\n",
       "       'Parch', 'Ticket', 'Fare', 'Cabin', 'Embarked'],\n",
       "      dtype='object')"
      ]
     },
     "execution_count": 5,
     "metadata": {},
     "output_type": "execute_result"
    }
   ],
   "source": [
    "df.columns"
   ]
  },
  {
   "cell_type": "code",
   "execution_count": 6,
   "id": "5b81a7bf-76c9-438d-acc0-3704eea54d39",
   "metadata": {},
   "outputs": [
    {
     "data": {
      "text/plain": [
       "PassengerId      0\n",
       "Survived         0\n",
       "Pclass           0\n",
       "Name             0\n",
       "Sex              0\n",
       "Age            177\n",
       "SibSp            0\n",
       "Parch            0\n",
       "Ticket           0\n",
       "Fare             0\n",
       "Cabin          687\n",
       "Embarked         2\n",
       "dtype: int64"
      ]
     },
     "execution_count": 6,
     "metadata": {},
     "output_type": "execute_result"
    }
   ],
   "source": [
    "df.isna().sum()"
   ]
  },
  {
   "cell_type": "code",
   "execution_count": 7,
   "id": "18d26d1d-f7b4-4361-835e-5cc505dec9f0",
   "metadata": {},
   "outputs": [
    {
     "data": {
      "text/plain": [
       "(889, 4)"
      ]
     },
     "execution_count": 7,
     "metadata": {},
     "output_type": "execute_result"
    }
   ],
   "source": [
    "df = df.loc[df.Embarked.notna(), ['Survived', 'Pclass', 'Sex', 'Embarked']]\n",
    "df.shape"
   ]
  },
  {
   "cell_type": "code",
   "execution_count": 8,
   "id": "d1f14b08-b0fb-420a-a87d-ed013736fafe",
   "metadata": {},
   "outputs": [
    {
     "data": {
      "text/plain": [
       "Survived    0\n",
       "Pclass      0\n",
       "Sex         0\n",
       "Embarked    0\n",
       "dtype: int64"
      ]
     },
     "execution_count": 8,
     "metadata": {},
     "output_type": "execute_result"
    }
   ],
   "source": [
    "df.isnull().sum()"
   ]
  },
  {
   "cell_type": "markdown",
   "id": "d660bbab-767f-4787-8bd9-6f5ce5a9d724",
   "metadata": {},
   "source": [
    "# Step 3: Cross-validate a model with one feature"
   ]
  },
  {
   "cell_type": "code",
   "execution_count": 9,
   "id": "a04cce36-afb2-46dc-be76-91bbf126b00a",
   "metadata": {},
   "outputs": [],
   "source": [
    "X = df.loc[:, ['Pclass']]\n",
    "y = df.Survived"
   ]
  },
  {
   "cell_type": "code",
   "execution_count": 10,
   "id": "9e794747-fe55-47f0-bcce-21c0e5e1bb9f",
   "metadata": {},
   "outputs": [
    {
     "data": {
      "text/plain": [
       "(889, 1)"
      ]
     },
     "execution_count": 10,
     "metadata": {},
     "output_type": "execute_result"
    }
   ],
   "source": [
    "X.shape"
   ]
  },
  {
   "cell_type": "code",
   "execution_count": 11,
   "id": "7263bfec-4373-4c50-996d-457b67c2e226",
   "metadata": {},
   "outputs": [
    {
     "data": {
      "text/plain": [
       "(889,)"
      ]
     },
     "execution_count": 11,
     "metadata": {},
     "output_type": "execute_result"
    }
   ],
   "source": [
    "y.shape"
   ]
  },
  {
   "cell_type": "code",
   "execution_count": 12,
   "id": "6a802cb1-ae08-4b28-8b30-f684731b4832",
   "metadata": {},
   "outputs": [],
   "source": [
    "logreg = LogisticRegression()"
   ]
  },
  {
   "cell_type": "code",
   "execution_count": 13,
   "id": "f1a8fc88-a5d4-442f-be75-00aea39d255b",
   "metadata": {},
   "outputs": [
    {
     "data": {
      "text/plain": [
       "0.6783406335301212"
      ]
     },
     "execution_count": 13,
     "metadata": {},
     "output_type": "execute_result"
    }
   ],
   "source": [
    "cross_val_score(logreg, X, y, cv=5, scoring='accuracy').mean()"
   ]
  },
  {
   "cell_type": "code",
   "execution_count": 14,
   "id": "8aa26b21-e668-466f-9dcb-5181782cfaea",
   "metadata": {},
   "outputs": [
    {
     "data": {
      "text/plain": [
       "0   0.6175\n",
       "1   0.3825\n",
       "Name: Survived, dtype: float64"
      ]
     },
     "execution_count": 14,
     "metadata": {},
     "output_type": "execute_result"
    }
   ],
   "source": [
    "y.value_counts(normalize=True)"
   ]
  },
  {
   "cell_type": "markdown",
   "id": "ab352f73-bbc7-43db-b08f-66e4ce8e8315",
   "metadata": {},
   "source": [
    "# Step 4: Encode categorical features"
   ]
  },
  {
   "cell_type": "code",
   "execution_count": 15,
   "id": "600d8bcb-0ec8-4bb8-ac81-78ad279686a4",
   "metadata": {},
   "outputs": [
    {
     "data": {
      "text/html": [
       "<div>\n",
       "<style scoped>\n",
       "    .dataframe tbody tr th:only-of-type {\n",
       "        vertical-align: middle;\n",
       "    }\n",
       "\n",
       "    .dataframe tbody tr th {\n",
       "        vertical-align: top;\n",
       "    }\n",
       "\n",
       "    .dataframe thead th {\n",
       "        text-align: right;\n",
       "    }\n",
       "</style>\n",
       "<table border=\"1\" class=\"dataframe\">\n",
       "  <thead>\n",
       "    <tr style=\"text-align: right;\">\n",
       "      <th></th>\n",
       "      <th>Survived</th>\n",
       "      <th>Pclass</th>\n",
       "      <th>Sex</th>\n",
       "      <th>Embarked</th>\n",
       "    </tr>\n",
       "  </thead>\n",
       "  <tbody>\n",
       "    <tr>\n",
       "      <th>0</th>\n",
       "      <td>0</td>\n",
       "      <td>3</td>\n",
       "      <td>male</td>\n",
       "      <td>S</td>\n",
       "    </tr>\n",
       "    <tr>\n",
       "      <th>1</th>\n",
       "      <td>1</td>\n",
       "      <td>1</td>\n",
       "      <td>female</td>\n",
       "      <td>C</td>\n",
       "    </tr>\n",
       "    <tr>\n",
       "      <th>2</th>\n",
       "      <td>1</td>\n",
       "      <td>3</td>\n",
       "      <td>female</td>\n",
       "      <td>S</td>\n",
       "    </tr>\n",
       "    <tr>\n",
       "      <th>3</th>\n",
       "      <td>1</td>\n",
       "      <td>1</td>\n",
       "      <td>female</td>\n",
       "      <td>S</td>\n",
       "    </tr>\n",
       "    <tr>\n",
       "      <th>4</th>\n",
       "      <td>0</td>\n",
       "      <td>3</td>\n",
       "      <td>male</td>\n",
       "      <td>S</td>\n",
       "    </tr>\n",
       "  </tbody>\n",
       "</table>\n",
       "</div>"
      ],
      "text/plain": [
       "   Survived  Pclass     Sex Embarked\n",
       "0         0       3    male        S\n",
       "1         1       1  female        C\n",
       "2         1       3  female        S\n",
       "3         1       1  female        S\n",
       "4         0       3    male        S"
      ]
     },
     "execution_count": 15,
     "metadata": {},
     "output_type": "execute_result"
    }
   ],
   "source": [
    "df.head()"
   ]
  },
  {
   "cell_type": "code",
   "execution_count": 17,
   "id": "ae6c73aa-5bd6-4fe0-a7cd-4c6b277966a6",
   "metadata": {},
   "outputs": [],
   "source": [
    "ohe = OneHotEncoder(sparse=False)"
   ]
  },
  {
   "cell_type": "code",
   "execution_count": 18,
   "id": "b2abc65a-90bc-416d-9263-3fbcd6f4615f",
   "metadata": {},
   "outputs": [
    {
     "data": {
      "text/plain": [
       "array([[0., 1.],\n",
       "       [1., 0.],\n",
       "       [1., 0.],\n",
       "       ...,\n",
       "       [1., 0.],\n",
       "       [0., 1.],\n",
       "       [0., 1.]])"
      ]
     },
     "execution_count": 18,
     "metadata": {},
     "output_type": "execute_result"
    }
   ],
   "source": [
    "ohe.fit_transform(df[['Sex']])"
   ]
  },
  {
   "cell_type": "code",
   "execution_count": 19,
   "id": "c17dabda-6406-4e21-a688-7cae29ac8cca",
   "metadata": {},
   "outputs": [
    {
     "data": {
      "text/plain": [
       "[array(['female', 'male'], dtype=object)]"
      ]
     },
     "execution_count": 19,
     "metadata": {},
     "output_type": "execute_result"
    }
   ],
   "source": [
    "ohe.categories_"
   ]
  },
  {
   "cell_type": "code",
   "execution_count": 20,
   "id": "9ecff8b5-cf60-4c65-b879-b825821dbcaf",
   "metadata": {},
   "outputs": [
    {
     "data": {
      "text/plain": [
       "array([[0., 0., 1.],\n",
       "       [1., 0., 0.],\n",
       "       [0., 0., 1.],\n",
       "       ...,\n",
       "       [0., 0., 1.],\n",
       "       [1., 0., 0.],\n",
       "       [0., 1., 0.]])"
      ]
     },
     "execution_count": 20,
     "metadata": {},
     "output_type": "execute_result"
    }
   ],
   "source": [
    "ohe.fit_transform(df[['Embarked']])"
   ]
  },
  {
   "cell_type": "code",
   "execution_count": 21,
   "id": "42886e2c-6345-4e31-ba93-54ca2857d7f6",
   "metadata": {},
   "outputs": [
    {
     "data": {
      "text/plain": [
       "[array(['C', 'Q', 'S'], dtype=object)]"
      ]
     },
     "execution_count": 21,
     "metadata": {},
     "output_type": "execute_result"
    }
   ],
   "source": [
    "ohe.categories_"
   ]
  },
  {
   "cell_type": "markdown",
   "id": "9d3ec1ae-fff5-46d1-a555-be67e49c8409",
   "metadata": {},
   "source": [
    "# Step 5: Cross-validate a Pipeline with all features"
   ]
  },
  {
   "cell_type": "code",
   "execution_count": 22,
   "id": "a34e8d2d-45ef-4185-b8df-5591f04b688c",
   "metadata": {},
   "outputs": [
    {
     "data": {
      "text/html": [
       "<div>\n",
       "<style scoped>\n",
       "    .dataframe tbody tr th:only-of-type {\n",
       "        vertical-align: middle;\n",
       "    }\n",
       "\n",
       "    .dataframe tbody tr th {\n",
       "        vertical-align: top;\n",
       "    }\n",
       "\n",
       "    .dataframe thead th {\n",
       "        text-align: right;\n",
       "    }\n",
       "</style>\n",
       "<table border=\"1\" class=\"dataframe\">\n",
       "  <thead>\n",
       "    <tr style=\"text-align: right;\">\n",
       "      <th></th>\n",
       "      <th>Pclass</th>\n",
       "      <th>Sex</th>\n",
       "      <th>Embarked</th>\n",
       "    </tr>\n",
       "  </thead>\n",
       "  <tbody>\n",
       "    <tr>\n",
       "      <th>0</th>\n",
       "      <td>3</td>\n",
       "      <td>male</td>\n",
       "      <td>S</td>\n",
       "    </tr>\n",
       "    <tr>\n",
       "      <th>1</th>\n",
       "      <td>1</td>\n",
       "      <td>female</td>\n",
       "      <td>C</td>\n",
       "    </tr>\n",
       "    <tr>\n",
       "      <th>2</th>\n",
       "      <td>3</td>\n",
       "      <td>female</td>\n",
       "      <td>S</td>\n",
       "    </tr>\n",
       "    <tr>\n",
       "      <th>3</th>\n",
       "      <td>1</td>\n",
       "      <td>female</td>\n",
       "      <td>S</td>\n",
       "    </tr>\n",
       "    <tr>\n",
       "      <th>4</th>\n",
       "      <td>3</td>\n",
       "      <td>male</td>\n",
       "      <td>S</td>\n",
       "    </tr>\n",
       "  </tbody>\n",
       "</table>\n",
       "</div>"
      ],
      "text/plain": [
       "   Pclass     Sex Embarked\n",
       "0       3    male        S\n",
       "1       1  female        C\n",
       "2       3  female        S\n",
       "3       1  female        S\n",
       "4       3    male        S"
      ]
     },
     "execution_count": 22,
     "metadata": {},
     "output_type": "execute_result"
    }
   ],
   "source": [
    "X = df.drop('Survived', axis= 'columns')\n",
    "X.head()"
   ]
  },
  {
   "cell_type": "code",
   "execution_count": 23,
   "id": "db112af3-c3c9-47fe-85df-75dbeb8af60e",
   "metadata": {},
   "outputs": [],
   "source": [
    "column_trans = make_column_transformer(\n",
    "    (OneHotEncoder(), ['Sex', 'Embarked']),\n",
    "    remainder='passthrough')"
   ]
  },
  {
   "cell_type": "code",
   "execution_count": 24,
   "id": "7f2e52d8-41e9-4cfb-9ca5-6d6cc76a79b3",
   "metadata": {},
   "outputs": [
    {
     "data": {
      "text/plain": [
       "array([[0., 1., 0., 0., 1., 3.],\n",
       "       [1., 0., 1., 0., 0., 1.],\n",
       "       [1., 0., 0., 0., 1., 3.],\n",
       "       ...,\n",
       "       [1., 0., 0., 0., 1., 3.],\n",
       "       [0., 1., 1., 0., 0., 1.],\n",
       "       [0., 1., 0., 1., 0., 3.]])"
      ]
     },
     "execution_count": 24,
     "metadata": {},
     "output_type": "execute_result"
    }
   ],
   "source": [
    "column_trans.fit_transform(X)"
   ]
  },
  {
   "cell_type": "code",
   "execution_count": 25,
   "id": "ca37495e-035c-4868-a01c-495f51f3be0f",
   "metadata": {},
   "outputs": [],
   "source": [
    "pipe = make_pipeline(column_trans, logreg)"
   ]
  },
  {
   "cell_type": "code",
   "execution_count": 26,
   "id": "8af354d9-be9c-4249-952a-0a15c68883df",
   "metadata": {},
   "outputs": [
    {
     "data": {
      "text/plain": [
       "0.7727924839713071"
      ]
     },
     "execution_count": 26,
     "metadata": {},
     "output_type": "execute_result"
    }
   ],
   "source": [
    "cross_val_score(pipe, X, y, cv=5, scoring='accuracy').mean()"
   ]
  },
  {
   "cell_type": "markdown",
   "id": "29e69cfb-073c-4ae1-b41a-dc9950a62209",
   "metadata": {},
   "source": [
    "# Step 6: Make predictions on \"new\" data"
   ]
  },
  {
   "cell_type": "code",
   "execution_count": 33,
   "id": "ca4d83dc-c6a0-4453-a91d-755c70092ac8",
   "metadata": {},
   "outputs": [
    {
     "data": {
      "text/html": [
       "<div>\n",
       "<style scoped>\n",
       "    .dataframe tbody tr th:only-of-type {\n",
       "        vertical-align: middle;\n",
       "    }\n",
       "\n",
       "    .dataframe tbody tr th {\n",
       "        vertical-align: top;\n",
       "    }\n",
       "\n",
       "    .dataframe thead th {\n",
       "        text-align: right;\n",
       "    }\n",
       "</style>\n",
       "<table border=\"1\" class=\"dataframe\">\n",
       "  <thead>\n",
       "    <tr style=\"text-align: right;\">\n",
       "      <th></th>\n",
       "      <th>Pclass</th>\n",
       "      <th>Sex</th>\n",
       "      <th>Embarked</th>\n",
       "    </tr>\n",
       "  </thead>\n",
       "  <tbody>\n",
       "    <tr>\n",
       "      <th>599</th>\n",
       "      <td>1</td>\n",
       "      <td>male</td>\n",
       "      <td>C</td>\n",
       "    </tr>\n",
       "    <tr>\n",
       "      <th>512</th>\n",
       "      <td>1</td>\n",
       "      <td>male</td>\n",
       "      <td>S</td>\n",
       "    </tr>\n",
       "    <tr>\n",
       "      <th>273</th>\n",
       "      <td>1</td>\n",
       "      <td>male</td>\n",
       "      <td>C</td>\n",
       "    </tr>\n",
       "    <tr>\n",
       "      <th>215</th>\n",
       "      <td>1</td>\n",
       "      <td>female</td>\n",
       "      <td>C</td>\n",
       "    </tr>\n",
       "    <tr>\n",
       "      <th>790</th>\n",
       "      <td>3</td>\n",
       "      <td>male</td>\n",
       "      <td>Q</td>\n",
       "    </tr>\n",
       "  </tbody>\n",
       "</table>\n",
       "</div>"
      ],
      "text/plain": [
       "     Pclass     Sex Embarked\n",
       "599       1    male        C\n",
       "512       1    male        S\n",
       "273       1    male        C\n",
       "215       1  female        C\n",
       "790       3    male        Q"
      ]
     },
     "execution_count": 33,
     "metadata": {},
     "output_type": "execute_result"
    }
   ],
   "source": [
    "X_new = X.sample(5, random_state=99)\n",
    "X_new"
   ]
  },
  {
   "cell_type": "code",
   "execution_count": 34,
   "id": "28bcc467-50ec-4de3-8aa9-b0285d52dee6",
   "metadata": {},
   "outputs": [
    {
     "data": {
      "text/plain": [
       "Pipeline(steps=[('columntransformer',\n",
       "                 ColumnTransformer(remainder='passthrough',\n",
       "                                   transformers=[('onehotencoder',\n",
       "                                                  OneHotEncoder(),\n",
       "                                                  ['Sex', 'Embarked'])])),\n",
       "                ('logisticregression', LogisticRegression())])"
      ]
     },
     "execution_count": 34,
     "metadata": {},
     "output_type": "execute_result"
    }
   ],
   "source": [
    "pipe.fit(X, y)"
   ]
  },
  {
   "cell_type": "code",
   "execution_count": 32,
   "id": "c5371a62-1c20-4a60-8700-ce4c01cff269",
   "metadata": {},
   "outputs": [
    {
     "data": {
      "text/plain": [
       "array([1, 1, 0, 1, 0])"
      ]
     },
     "execution_count": 32,
     "metadata": {},
     "output_type": "execute_result"
    }
   ],
   "source": [
    "pipe.predict(X_new)"
   ]
  },
  {
   "cell_type": "markdown",
   "id": "ae9af21d-cc2d-4b48-99c3-acf5c50de5e4",
   "metadata": {},
   "source": [
    "# Recap"
   ]
  },
  {
   "cell_type": "code",
   "execution_count": 43,
   "id": "fedbd77d-299e-40cf-80ad-5e4fd055611f",
   "metadata": {},
   "outputs": [],
   "source": [
    "import pandas as pd\n",
    "from sklearn.compose import make_column_transformer\n",
    "from sklearn.preprocessing import OneHotEncoder\n",
    "from sklearn.linear_model import LogisticRegression\n",
    "from sklearn.pipeline import make_pipeline\n",
    "from sklearn.model_selection import cross_val_score"
   ]
  },
  {
   "cell_type": "code",
   "execution_count": null,
   "id": "f1a6173f-69ca-4cbb-8917-3b01b436d017",
   "metadata": {},
   "outputs": [],
   "source": [
    "df = pd.read_csv('http://bit.ly/kaggletrain')\n",
    "df = df.loc[df.Embarked.notna(), ['Survived', 'Pclass', 'Sex', 'Embarked']]\n",
    "X = df.drop('Survived', axis='columns')\n",
    "y = df.Survived"
   ]
  },
  {
   "cell_type": "code",
   "execution_count": null,
   "id": "76923b23-aef3-4aef-ac05-ab4ec9220db0",
   "metadata": {},
   "outputs": [],
   "source": [
    "column_trans = make_column_transformer(\n",
    "    (OneHotEncoder(), ['Sex', 'Embarked']),\n",
    "    remainder='passthrough')\n",
    "logreg = LogisticRegression(solver='lbfgs')"
   ]
  },
  {
   "cell_type": "code",
   "execution_count": null,
   "id": "eae07ec6-799c-4630-b75f-e1d0ffb4091e",
   "metadata": {},
   "outputs": [],
   "source": [
    "pipe = make_pipeline(column_trans, logreg)"
   ]
  },
  {
   "cell_type": "code",
   "execution_count": null,
   "id": "16986189-53cf-46b7-b77e-84e56f249dd8",
   "metadata": {},
   "outputs": [],
   "source": [
    "cross_val_score(pipe, X, y, cv=5, scoring='accuracy').mean()\n"
   ]
  },
  {
   "cell_type": "code",
   "execution_count": null,
   "id": "878fdc64-d585-4b8e-a6f4-18f4b13b98df",
   "metadata": {},
   "outputs": [],
   "source": [
    "X_new = X.sample(5, random_state=99)"
   ]
  },
  {
   "cell_type": "code",
   "execution_count": null,
   "id": "378dda93-abc1-4cdb-9f3d-99b6a85a6d28",
   "metadata": {},
   "outputs": [],
   "source": [
    "pipe.fit(X, y)\n",
    "pipe.predict(X_new)"
   ]
  },
  {
   "cell_type": "code",
   "execution_count": 37,
   "id": "068b4c8b-fd76-42e9-9aef-890e4d0f954d",
   "metadata": {},
   "outputs": [
    {
     "data": {
      "text/plain": [
       "dict_keys(['explained_variance', 'r2', 'max_error', 'neg_median_absolute_error', 'neg_mean_absolute_error', 'neg_mean_absolute_percentage_error', 'neg_mean_squared_error', 'neg_mean_squared_log_error', 'neg_root_mean_squared_error', 'neg_mean_poisson_deviance', 'neg_mean_gamma_deviance', 'accuracy', 'top_k_accuracy', 'roc_auc', 'roc_auc_ovr', 'roc_auc_ovo', 'roc_auc_ovr_weighted', 'roc_auc_ovo_weighted', 'balanced_accuracy', 'average_precision', 'neg_log_loss', 'neg_brier_score', 'adjusted_rand_score', 'rand_score', 'homogeneity_score', 'completeness_score', 'v_measure_score', 'mutual_info_score', 'adjusted_mutual_info_score', 'normalized_mutual_info_score', 'fowlkes_mallows_score', 'precision', 'precision_macro', 'precision_micro', 'precision_samples', 'precision_weighted', 'recall', 'recall_macro', 'recall_micro', 'recall_samples', 'recall_weighted', 'f1', 'f1_macro', 'f1_micro', 'f1_samples', 'f1_weighted', 'jaccard', 'jaccard_macro', 'jaccard_micro', 'jaccard_samples', 'jaccard_weighted'])"
      ]
     },
     "execution_count": 37,
     "metadata": {},
     "output_type": "execute_result"
    }
   ],
   "source": [
    "sklearn.metrics.SCORERS.keys()"
   ]
  },
  {
   "cell_type": "markdown",
   "id": "4beb0990-8a6c-4208-b827-7473ef0f1bdc",
   "metadata": {},
   "source": [
    "# GridSearchCV"
   ]
  },
  {
   "cell_type": "code",
   "execution_count": 47,
   "id": "8af30fb5-2d1e-4b57-abb7-f41668d2fd1f",
   "metadata": {},
   "outputs": [],
   "source": [
    "from sklearn.preprocessing import OneHotEncoder\n",
    "from sklearn.feature_extraction.text import CountVectorizer\n",
    "from sklearn.impute import SimpleImputer\n",
    "from sklearn.compose import ColumnTransformer\n",
    "from sklearn.linear_model import LogisticRegression\n",
    "from sklearn.pipeline import Pipeline\n",
    "from sklearn.model_selection import GridSearchCV\n",
    "\n",
    "from sklearn import set_config\n",
    "set_config(display='diagram')"
   ]
  },
  {
   "cell_type": "code",
   "execution_count": 56,
   "id": "ae76fa7e-9446-41bf-bdc6-a2a68d480a69",
   "metadata": {},
   "outputs": [],
   "source": [
    "df = pd.read_csv('titanic.csv')\n",
    "cols = ['Sex', 'Name', 'Age', 'Embarked']\n",
    "X = df[cols]\n",
    "y = df['Survived']"
   ]
  },
  {
   "cell_type": "code",
   "execution_count": 58,
   "id": "0eb237d7-ad00-4f2e-9305-a56af61b0621",
   "metadata": {},
   "outputs": [],
   "source": [
    "ct = ColumnTransformer(\n",
    "    [('ohe', OneHotEncoder(), ['Sex', 'Embarked']),\n",
    "     ('vectorizer', CountVectorizer(), 'Name'),\n",
    "     ('imputer', SimpleImputer(), ['Age'])])"
   ]
  },
  {
   "cell_type": "code",
   "execution_count": 59,
   "id": "d419d6f7-deaa-4b2c-b733-c248ad817791",
   "metadata": {},
   "outputs": [],
   "source": [
    "clf = LogisticRegression(solver='liblinear', random_state=1)"
   ]
  },
  {
   "cell_type": "code",
   "execution_count": 60,
   "id": "f820c4e3-3dc4-4753-8ab7-0fefaa76ce13",
   "metadata": {},
   "outputs": [],
   "source": [
    "pipe = Pipeline ([('preprocessor', ct), ('classifier', clf)])"
   ]
  },
  {
   "cell_type": "code",
   "execution_count": 61,
   "id": "cc35ee95-1223-4eca-bcb8-1d5564d291d4",
   "metadata": {},
   "outputs": [],
   "source": [
    "params = {}\n",
    "params['preprocessor__ohe__drop'] = [None, 'first']\n",
    "params['preprocessor__vectorizer__min_df'] = [1, 2, 3]\n",
    "params['preprocessor__vectorizer__ngram_range'] = [(1, 1), (1, 2)]\n",
    "params['classifier__C'] = [0.001, 0.01, 0.1, 1, 10, 100, 1000]\n",
    "params['classifier__penalty'] = ['l1', 'l2']"
   ]
  },
  {
   "cell_type": "code",
   "execution_count": 62,
   "id": "e3fc1662-bfae-48e7-b33b-533002f078e1",
   "metadata": {},
   "outputs": [
    {
     "name": "stdout",
     "output_type": "stream",
     "text": [
      "CPU times: user 29.3 s, sys: 289 ms, total: 29.6 s\n",
      "Wall time: 30.6 s\n"
     ]
    },
    {
     "data": {
      "text/html": [
       "<style>#sk-0209f3ad-107c-488c-abe7-59810afd93fb {color: black;background-color: white;}#sk-0209f3ad-107c-488c-abe7-59810afd93fb pre{padding: 0;}#sk-0209f3ad-107c-488c-abe7-59810afd93fb div.sk-toggleable {background-color: white;}#sk-0209f3ad-107c-488c-abe7-59810afd93fb label.sk-toggleable__label {cursor: pointer;display: block;width: 100%;margin-bottom: 0;padding: 0.3em;box-sizing: border-box;text-align: center;}#sk-0209f3ad-107c-488c-abe7-59810afd93fb label.sk-toggleable__label-arrow:before {content: \"▸\";float: left;margin-right: 0.25em;color: #696969;}#sk-0209f3ad-107c-488c-abe7-59810afd93fb label.sk-toggleable__label-arrow:hover:before {color: black;}#sk-0209f3ad-107c-488c-abe7-59810afd93fb div.sk-estimator:hover label.sk-toggleable__label-arrow:before {color: black;}#sk-0209f3ad-107c-488c-abe7-59810afd93fb div.sk-toggleable__content {max-height: 0;max-width: 0;overflow: hidden;text-align: left;background-color: #f0f8ff;}#sk-0209f3ad-107c-488c-abe7-59810afd93fb div.sk-toggleable__content pre {margin: 0.2em;color: black;border-radius: 0.25em;background-color: #f0f8ff;}#sk-0209f3ad-107c-488c-abe7-59810afd93fb input.sk-toggleable__control:checked~div.sk-toggleable__content {max-height: 200px;max-width: 100%;overflow: auto;}#sk-0209f3ad-107c-488c-abe7-59810afd93fb input.sk-toggleable__control:checked~label.sk-toggleable__label-arrow:before {content: \"▾\";}#sk-0209f3ad-107c-488c-abe7-59810afd93fb div.sk-estimator input.sk-toggleable__control:checked~label.sk-toggleable__label {background-color: #d4ebff;}#sk-0209f3ad-107c-488c-abe7-59810afd93fb div.sk-label input.sk-toggleable__control:checked~label.sk-toggleable__label {background-color: #d4ebff;}#sk-0209f3ad-107c-488c-abe7-59810afd93fb input.sk-hidden--visually {border: 0;clip: rect(1px 1px 1px 1px);clip: rect(1px, 1px, 1px, 1px);height: 1px;margin: -1px;overflow: hidden;padding: 0;position: absolute;width: 1px;}#sk-0209f3ad-107c-488c-abe7-59810afd93fb div.sk-estimator {font-family: monospace;background-color: #f0f8ff;border: 1px dotted black;border-radius: 0.25em;box-sizing: border-box;margin-bottom: 0.5em;}#sk-0209f3ad-107c-488c-abe7-59810afd93fb div.sk-estimator:hover {background-color: #d4ebff;}#sk-0209f3ad-107c-488c-abe7-59810afd93fb div.sk-parallel-item::after {content: \"\";width: 100%;border-bottom: 1px solid gray;flex-grow: 1;}#sk-0209f3ad-107c-488c-abe7-59810afd93fb div.sk-label:hover label.sk-toggleable__label {background-color: #d4ebff;}#sk-0209f3ad-107c-488c-abe7-59810afd93fb div.sk-serial::before {content: \"\";position: absolute;border-left: 1px solid gray;box-sizing: border-box;top: 2em;bottom: 0;left: 50%;}#sk-0209f3ad-107c-488c-abe7-59810afd93fb div.sk-serial {display: flex;flex-direction: column;align-items: center;background-color: white;padding-right: 0.2em;padding-left: 0.2em;}#sk-0209f3ad-107c-488c-abe7-59810afd93fb div.sk-item {z-index: 1;}#sk-0209f3ad-107c-488c-abe7-59810afd93fb div.sk-parallel {display: flex;align-items: stretch;justify-content: center;background-color: white;}#sk-0209f3ad-107c-488c-abe7-59810afd93fb div.sk-parallel::before {content: \"\";position: absolute;border-left: 1px solid gray;box-sizing: border-box;top: 2em;bottom: 0;left: 50%;}#sk-0209f3ad-107c-488c-abe7-59810afd93fb div.sk-parallel-item {display: flex;flex-direction: column;position: relative;background-color: white;}#sk-0209f3ad-107c-488c-abe7-59810afd93fb div.sk-parallel-item:first-child::after {align-self: flex-end;width: 50%;}#sk-0209f3ad-107c-488c-abe7-59810afd93fb div.sk-parallel-item:last-child::after {align-self: flex-start;width: 50%;}#sk-0209f3ad-107c-488c-abe7-59810afd93fb div.sk-parallel-item:only-child::after {width: 0;}#sk-0209f3ad-107c-488c-abe7-59810afd93fb div.sk-dashed-wrapped {border: 1px dashed gray;margin: 0 0.4em 0.5em 0.4em;box-sizing: border-box;padding-bottom: 0.4em;background-color: white;position: relative;}#sk-0209f3ad-107c-488c-abe7-59810afd93fb div.sk-label label {font-family: monospace;font-weight: bold;background-color: white;display: inline-block;line-height: 1.2em;}#sk-0209f3ad-107c-488c-abe7-59810afd93fb div.sk-label-container {position: relative;z-index: 2;text-align: center;}#sk-0209f3ad-107c-488c-abe7-59810afd93fb div.sk-container {/* jupyter's `normalize.less` sets `[hidden] { display: none; }` but bootstrap.min.css set `[hidden] { display: none !important; }` so we also need the `!important` here to be able to override the default hidden behavior on the sphinx rendered scikit-learn.org. See: https://github.com/scikit-learn/scikit-learn/issues/21755 */display: inline-block !important;position: relative;}#sk-0209f3ad-107c-488c-abe7-59810afd93fb div.sk-text-repr-fallback {display: none;}</style><div id=\"sk-0209f3ad-107c-488c-abe7-59810afd93fb\" class=\"sk-top-container\"><div class=\"sk-text-repr-fallback\"><pre>GridSearchCV(estimator=Pipeline(steps=[(&#x27;preprocessor&#x27;,\n",
       "                                        ColumnTransformer(transformers=[(&#x27;ohe&#x27;,\n",
       "                                                                         OneHotEncoder(),\n",
       "                                                                         [&#x27;Sex&#x27;,\n",
       "                                                                          &#x27;Embarked&#x27;]),\n",
       "                                                                        (&#x27;vectorizer&#x27;,\n",
       "                                                                         CountVectorizer(),\n",
       "                                                                         &#x27;Name&#x27;),\n",
       "                                                                        (&#x27;imputer&#x27;,\n",
       "                                                                         SimpleImputer(),\n",
       "                                                                         [&#x27;Age&#x27;])])),\n",
       "                                       (&#x27;classifier&#x27;,\n",
       "                                        LogisticRegression(random_state=1,\n",
       "                                                           solver=&#x27;liblinear&#x27;))]),\n",
       "             param_grid={&#x27;classifier__C&#x27;: [0.001, 0.01, 0.1, 1, 10, 100, 1000],\n",
       "                         &#x27;classifier__penalty&#x27;: [&#x27;l1&#x27;, &#x27;l2&#x27;],\n",
       "                         &#x27;preprocessor__ohe__drop&#x27;: [None, &#x27;first&#x27;],\n",
       "                         &#x27;preprocessor__vectorizer__min_df&#x27;: [1, 2, 3],\n",
       "                         &#x27;preprocessor__vectorizer__ngram_range&#x27;: [(1, 1),\n",
       "                                                                   (1, 2)]})</pre><b>Please rerun this cell to show the HTML repr or trust the notebook.</b></div><div class=\"sk-container\" hidden><div class=\"sk-item sk-dashed-wrapped\"><div class=\"sk-label-container\"><div class=\"sk-label sk-toggleable\"><input class=\"sk-toggleable__control sk-hidden--visually\" id=\"828b9ae9-4264-4917-960d-00d9cf657bce\" type=\"checkbox\" ><label for=\"828b9ae9-4264-4917-960d-00d9cf657bce\" class=\"sk-toggleable__label sk-toggleable__label-arrow\">GridSearchCV</label><div class=\"sk-toggleable__content\"><pre>GridSearchCV(estimator=Pipeline(steps=[(&#x27;preprocessor&#x27;,\n",
       "                                        ColumnTransformer(transformers=[(&#x27;ohe&#x27;,\n",
       "                                                                         OneHotEncoder(),\n",
       "                                                                         [&#x27;Sex&#x27;,\n",
       "                                                                          &#x27;Embarked&#x27;]),\n",
       "                                                                        (&#x27;vectorizer&#x27;,\n",
       "                                                                         CountVectorizer(),\n",
       "                                                                         &#x27;Name&#x27;),\n",
       "                                                                        (&#x27;imputer&#x27;,\n",
       "                                                                         SimpleImputer(),\n",
       "                                                                         [&#x27;Age&#x27;])])),\n",
       "                                       (&#x27;classifier&#x27;,\n",
       "                                        LogisticRegression(random_state=1,\n",
       "                                                           solver=&#x27;liblinear&#x27;))]),\n",
       "             param_grid={&#x27;classifier__C&#x27;: [0.001, 0.01, 0.1, 1, 10, 100, 1000],\n",
       "                         &#x27;classifier__penalty&#x27;: [&#x27;l1&#x27;, &#x27;l2&#x27;],\n",
       "                         &#x27;preprocessor__ohe__drop&#x27;: [None, &#x27;first&#x27;],\n",
       "                         &#x27;preprocessor__vectorizer__min_df&#x27;: [1, 2, 3],\n",
       "                         &#x27;preprocessor__vectorizer__ngram_range&#x27;: [(1, 1),\n",
       "                                                                   (1, 2)]})</pre></div></div></div><div class=\"sk-parallel\"><div class=\"sk-parallel-item\"><div class=\"sk-item\"><div class=\"sk-serial\"><div class=\"sk-item\"><div class=\"sk-serial\"><div class=\"sk-item sk-dashed-wrapped\"><div class=\"sk-label-container\"><div class=\"sk-label sk-toggleable\"><input class=\"sk-toggleable__control sk-hidden--visually\" id=\"8a374e0f-14e5-48f7-b5e6-1a114bbb60d7\" type=\"checkbox\" ><label for=\"8a374e0f-14e5-48f7-b5e6-1a114bbb60d7\" class=\"sk-toggleable__label sk-toggleable__label-arrow\">preprocessor: ColumnTransformer</label><div class=\"sk-toggleable__content\"><pre>ColumnTransformer(transformers=[(&#x27;ohe&#x27;, OneHotEncoder(), [&#x27;Sex&#x27;, &#x27;Embarked&#x27;]),\n",
       "                                (&#x27;vectorizer&#x27;, CountVectorizer(), &#x27;Name&#x27;),\n",
       "                                (&#x27;imputer&#x27;, SimpleImputer(), [&#x27;Age&#x27;])])</pre></div></div></div><div class=\"sk-parallel\"><div class=\"sk-parallel-item\"><div class=\"sk-item\"><div class=\"sk-label-container\"><div class=\"sk-label sk-toggleable\"><input class=\"sk-toggleable__control sk-hidden--visually\" id=\"f2fb5045-00d1-4b9d-bd4d-0870df845b07\" type=\"checkbox\" ><label for=\"f2fb5045-00d1-4b9d-bd4d-0870df845b07\" class=\"sk-toggleable__label sk-toggleable__label-arrow\">ohe</label><div class=\"sk-toggleable__content\"><pre>[&#x27;Sex&#x27;, &#x27;Embarked&#x27;]</pre></div></div></div><div class=\"sk-serial\"><div class=\"sk-item\"><div class=\"sk-estimator sk-toggleable\"><input class=\"sk-toggleable__control sk-hidden--visually\" id=\"22dd0274-c7a9-4214-b2a5-e8da6c632403\" type=\"checkbox\" ><label for=\"22dd0274-c7a9-4214-b2a5-e8da6c632403\" class=\"sk-toggleable__label sk-toggleable__label-arrow\">OneHotEncoder</label><div class=\"sk-toggleable__content\"><pre>OneHotEncoder()</pre></div></div></div></div></div></div><div class=\"sk-parallel-item\"><div class=\"sk-item\"><div class=\"sk-label-container\"><div class=\"sk-label sk-toggleable\"><input class=\"sk-toggleable__control sk-hidden--visually\" id=\"3b7d06bc-67a5-4207-acbe-81c6e0ea5411\" type=\"checkbox\" ><label for=\"3b7d06bc-67a5-4207-acbe-81c6e0ea5411\" class=\"sk-toggleable__label sk-toggleable__label-arrow\">vectorizer</label><div class=\"sk-toggleable__content\"><pre>Name</pre></div></div></div><div class=\"sk-serial\"><div class=\"sk-item\"><div class=\"sk-estimator sk-toggleable\"><input class=\"sk-toggleable__control sk-hidden--visually\" id=\"1134505c-a866-40e1-8905-dff240ffe235\" type=\"checkbox\" ><label for=\"1134505c-a866-40e1-8905-dff240ffe235\" class=\"sk-toggleable__label sk-toggleable__label-arrow\">CountVectorizer</label><div class=\"sk-toggleable__content\"><pre>CountVectorizer()</pre></div></div></div></div></div></div><div class=\"sk-parallel-item\"><div class=\"sk-item\"><div class=\"sk-label-container\"><div class=\"sk-label sk-toggleable\"><input class=\"sk-toggleable__control sk-hidden--visually\" id=\"343fc550-7f12-47f7-937b-4b63e4e8ce67\" type=\"checkbox\" ><label for=\"343fc550-7f12-47f7-937b-4b63e4e8ce67\" class=\"sk-toggleable__label sk-toggleable__label-arrow\">imputer</label><div class=\"sk-toggleable__content\"><pre>[&#x27;Age&#x27;]</pre></div></div></div><div class=\"sk-serial\"><div class=\"sk-item\"><div class=\"sk-estimator sk-toggleable\"><input class=\"sk-toggleable__control sk-hidden--visually\" id=\"ca470a21-11dc-4beb-afa6-119c0a71d9dc\" type=\"checkbox\" ><label for=\"ca470a21-11dc-4beb-afa6-119c0a71d9dc\" class=\"sk-toggleable__label sk-toggleable__label-arrow\">SimpleImputer</label><div class=\"sk-toggleable__content\"><pre>SimpleImputer()</pre></div></div></div></div></div></div></div></div><div class=\"sk-item\"><div class=\"sk-estimator sk-toggleable\"><input class=\"sk-toggleable__control sk-hidden--visually\" id=\"f53296c3-8c55-48b4-a481-162436857397\" type=\"checkbox\" ><label for=\"f53296c3-8c55-48b4-a481-162436857397\" class=\"sk-toggleable__label sk-toggleable__label-arrow\">LogisticRegression</label><div class=\"sk-toggleable__content\"><pre>LogisticRegression(random_state=1, solver=&#x27;liblinear&#x27;)</pre></div></div></div></div></div></div></div></div></div></div></div></div>"
      ],
      "text/plain": [
       "GridSearchCV(estimator=Pipeline(steps=[('preprocessor',\n",
       "                                        ColumnTransformer(transformers=[('ohe',\n",
       "                                                                         OneHotEncoder(),\n",
       "                                                                         ['Sex',\n",
       "                                                                          'Embarked']),\n",
       "                                                                        ('vectorizer',\n",
       "                                                                         CountVectorizer(),\n",
       "                                                                         'Name'),\n",
       "                                                                        ('imputer',\n",
       "                                                                         SimpleImputer(),\n",
       "                                                                         ['Age'])])),\n",
       "                                       ('classifier',\n",
       "                                        LogisticRegression(random_state=1,\n",
       "                                                           solver='liblinear'))]),\n",
       "             param_grid={'classifier__C': [0.001, 0.01, 0.1, 1, 10, 100, 1000],\n",
       "                         'classifier__penalty': ['l1', 'l2'],\n",
       "                         'preprocessor__ohe__drop': [None, 'first'],\n",
       "                         'preprocessor__vectorizer__min_df': [1, 2, 3],\n",
       "                         'preprocessor__vectorizer__ngram_range': [(1, 1),\n",
       "                                                                   (1, 2)]})"
      ]
     },
     "execution_count": 62,
     "metadata": {},
     "output_type": "execute_result"
    }
   ],
   "source": [
    "grid = GridSearchCV(pipe, params)\n",
    "%time grid.fit(X, y)"
   ]
  },
  {
   "cell_type": "code",
   "execution_count": 68,
   "id": "dd3c9063-38cd-45e8-973f-e645f603db88",
   "metadata": {},
   "outputs": [
    {
     "name": "stdout",
     "output_type": "stream",
     "text": [
      "CPU times: user 2.13 s, sys: 101 ms, total: 2.23 s\n",
      "Wall time: 16.9 s\n"
     ]
    },
    {
     "data": {
      "text/plain": [
       "{'classifier__C': 10,\n",
       " 'classifier__penalty': 'l1',\n",
       " 'preprocessor__ohe__drop': None,\n",
       " 'preprocessor__vectorizer__min_df': 1,\n",
       " 'preprocessor__vectorizer__ngram_range': (1, 2)}"
      ]
     },
     "execution_count": 68,
     "metadata": {},
     "output_type": "execute_result"
    }
   ],
   "source": [
    "grid = GridSearchCV(pipe, params, n_jobs=-1)\n",
    "%time grid.fit(X, y)\n",
    "grid.best_params_"
   ]
  },
  {
   "cell_type": "code",
   "execution_count": 70,
   "id": "d2efd80e-83cd-421e-bef5-f25213d2699c",
   "metadata": {},
   "outputs": [],
   "source": [
    "params_best = {}\n",
    "params['preprocessor__ohe__drop'] = [None]\n",
    "params['preprocessor__vectorizer__min_df'] = [1]\n",
    "params['preprocessor__vectorizer__ngram_range'] = [(1, 2)]\n",
    "params['classifier__C'] = [10]\n",
    "params['classifier__penalty'] = ['l1']"
   ]
  },
  {
   "cell_type": "code",
   "execution_count": 73,
   "id": "85d66ed0-87d7-4563-ba54-03a29039ea51",
   "metadata": {},
   "outputs": [
    {
     "name": "stdout",
     "output_type": "stream",
     "text": [
      "CPU times: user 108 ms, sys: 21.6 ms, total: 130 ms\n",
      "Wall time: 350 ms\n"
     ]
    },
    {
     "data": {
      "text/html": [
       "<style>#sk-bcc04fcd-b427-4af3-b72a-0067d9bac58a {color: black;background-color: white;}#sk-bcc04fcd-b427-4af3-b72a-0067d9bac58a pre{padding: 0;}#sk-bcc04fcd-b427-4af3-b72a-0067d9bac58a div.sk-toggleable {background-color: white;}#sk-bcc04fcd-b427-4af3-b72a-0067d9bac58a label.sk-toggleable__label {cursor: pointer;display: block;width: 100%;margin-bottom: 0;padding: 0.3em;box-sizing: border-box;text-align: center;}#sk-bcc04fcd-b427-4af3-b72a-0067d9bac58a label.sk-toggleable__label-arrow:before {content: \"▸\";float: left;margin-right: 0.25em;color: #696969;}#sk-bcc04fcd-b427-4af3-b72a-0067d9bac58a label.sk-toggleable__label-arrow:hover:before {color: black;}#sk-bcc04fcd-b427-4af3-b72a-0067d9bac58a div.sk-estimator:hover label.sk-toggleable__label-arrow:before {color: black;}#sk-bcc04fcd-b427-4af3-b72a-0067d9bac58a div.sk-toggleable__content {max-height: 0;max-width: 0;overflow: hidden;text-align: left;background-color: #f0f8ff;}#sk-bcc04fcd-b427-4af3-b72a-0067d9bac58a div.sk-toggleable__content pre {margin: 0.2em;color: black;border-radius: 0.25em;background-color: #f0f8ff;}#sk-bcc04fcd-b427-4af3-b72a-0067d9bac58a input.sk-toggleable__control:checked~div.sk-toggleable__content {max-height: 200px;max-width: 100%;overflow: auto;}#sk-bcc04fcd-b427-4af3-b72a-0067d9bac58a input.sk-toggleable__control:checked~label.sk-toggleable__label-arrow:before {content: \"▾\";}#sk-bcc04fcd-b427-4af3-b72a-0067d9bac58a div.sk-estimator input.sk-toggleable__control:checked~label.sk-toggleable__label {background-color: #d4ebff;}#sk-bcc04fcd-b427-4af3-b72a-0067d9bac58a div.sk-label input.sk-toggleable__control:checked~label.sk-toggleable__label {background-color: #d4ebff;}#sk-bcc04fcd-b427-4af3-b72a-0067d9bac58a input.sk-hidden--visually {border: 0;clip: rect(1px 1px 1px 1px);clip: rect(1px, 1px, 1px, 1px);height: 1px;margin: -1px;overflow: hidden;padding: 0;position: absolute;width: 1px;}#sk-bcc04fcd-b427-4af3-b72a-0067d9bac58a div.sk-estimator {font-family: monospace;background-color: #f0f8ff;border: 1px dotted black;border-radius: 0.25em;box-sizing: border-box;margin-bottom: 0.5em;}#sk-bcc04fcd-b427-4af3-b72a-0067d9bac58a div.sk-estimator:hover {background-color: #d4ebff;}#sk-bcc04fcd-b427-4af3-b72a-0067d9bac58a div.sk-parallel-item::after {content: \"\";width: 100%;border-bottom: 1px solid gray;flex-grow: 1;}#sk-bcc04fcd-b427-4af3-b72a-0067d9bac58a div.sk-label:hover label.sk-toggleable__label {background-color: #d4ebff;}#sk-bcc04fcd-b427-4af3-b72a-0067d9bac58a div.sk-serial::before {content: \"\";position: absolute;border-left: 1px solid gray;box-sizing: border-box;top: 2em;bottom: 0;left: 50%;}#sk-bcc04fcd-b427-4af3-b72a-0067d9bac58a div.sk-serial {display: flex;flex-direction: column;align-items: center;background-color: white;padding-right: 0.2em;padding-left: 0.2em;}#sk-bcc04fcd-b427-4af3-b72a-0067d9bac58a div.sk-item {z-index: 1;}#sk-bcc04fcd-b427-4af3-b72a-0067d9bac58a div.sk-parallel {display: flex;align-items: stretch;justify-content: center;background-color: white;}#sk-bcc04fcd-b427-4af3-b72a-0067d9bac58a div.sk-parallel::before {content: \"\";position: absolute;border-left: 1px solid gray;box-sizing: border-box;top: 2em;bottom: 0;left: 50%;}#sk-bcc04fcd-b427-4af3-b72a-0067d9bac58a div.sk-parallel-item {display: flex;flex-direction: column;position: relative;background-color: white;}#sk-bcc04fcd-b427-4af3-b72a-0067d9bac58a div.sk-parallel-item:first-child::after {align-self: flex-end;width: 50%;}#sk-bcc04fcd-b427-4af3-b72a-0067d9bac58a div.sk-parallel-item:last-child::after {align-self: flex-start;width: 50%;}#sk-bcc04fcd-b427-4af3-b72a-0067d9bac58a div.sk-parallel-item:only-child::after {width: 0;}#sk-bcc04fcd-b427-4af3-b72a-0067d9bac58a div.sk-dashed-wrapped {border: 1px dashed gray;margin: 0 0.4em 0.5em 0.4em;box-sizing: border-box;padding-bottom: 0.4em;background-color: white;position: relative;}#sk-bcc04fcd-b427-4af3-b72a-0067d9bac58a div.sk-label label {font-family: monospace;font-weight: bold;background-color: white;display: inline-block;line-height: 1.2em;}#sk-bcc04fcd-b427-4af3-b72a-0067d9bac58a div.sk-label-container {position: relative;z-index: 2;text-align: center;}#sk-bcc04fcd-b427-4af3-b72a-0067d9bac58a div.sk-container {/* jupyter's `normalize.less` sets `[hidden] { display: none; }` but bootstrap.min.css set `[hidden] { display: none !important; }` so we also need the `!important` here to be able to override the default hidden behavior on the sphinx rendered scikit-learn.org. See: https://github.com/scikit-learn/scikit-learn/issues/21755 */display: inline-block !important;position: relative;}#sk-bcc04fcd-b427-4af3-b72a-0067d9bac58a div.sk-text-repr-fallback {display: none;}</style><div id=\"sk-bcc04fcd-b427-4af3-b72a-0067d9bac58a\" class=\"sk-top-container\"><div class=\"sk-text-repr-fallback\"><pre>GridSearchCV(estimator=Pipeline(steps=[(&#x27;preprocessor&#x27;,\n",
       "                                        ColumnTransformer(transformers=[(&#x27;ohe&#x27;,\n",
       "                                                                         OneHotEncoder(),\n",
       "                                                                         [&#x27;Sex&#x27;,\n",
       "                                                                          &#x27;Embarked&#x27;]),\n",
       "                                                                        (&#x27;vectorizer&#x27;,\n",
       "                                                                         CountVectorizer(),\n",
       "                                                                         &#x27;Name&#x27;),\n",
       "                                                                        (&#x27;imputer&#x27;,\n",
       "                                                                         SimpleImputer(),\n",
       "                                                                         [&#x27;Age&#x27;])])),\n",
       "                                       (&#x27;classifier&#x27;,\n",
       "                                        LogisticRegression(random_state=1,\n",
       "                                                           solver=&#x27;liblinear&#x27;))]),\n",
       "             n_jobs=-1, param_grid={})</pre><b>Please rerun this cell to show the HTML repr or trust the notebook.</b></div><div class=\"sk-container\" hidden><div class=\"sk-item sk-dashed-wrapped\"><div class=\"sk-label-container\"><div class=\"sk-label sk-toggleable\"><input class=\"sk-toggleable__control sk-hidden--visually\" id=\"c9c4b87a-f7b8-45d6-ac74-d33bfd19ff87\" type=\"checkbox\" ><label for=\"c9c4b87a-f7b8-45d6-ac74-d33bfd19ff87\" class=\"sk-toggleable__label sk-toggleable__label-arrow\">GridSearchCV</label><div class=\"sk-toggleable__content\"><pre>GridSearchCV(estimator=Pipeline(steps=[(&#x27;preprocessor&#x27;,\n",
       "                                        ColumnTransformer(transformers=[(&#x27;ohe&#x27;,\n",
       "                                                                         OneHotEncoder(),\n",
       "                                                                         [&#x27;Sex&#x27;,\n",
       "                                                                          &#x27;Embarked&#x27;]),\n",
       "                                                                        (&#x27;vectorizer&#x27;,\n",
       "                                                                         CountVectorizer(),\n",
       "                                                                         &#x27;Name&#x27;),\n",
       "                                                                        (&#x27;imputer&#x27;,\n",
       "                                                                         SimpleImputer(),\n",
       "                                                                         [&#x27;Age&#x27;])])),\n",
       "                                       (&#x27;classifier&#x27;,\n",
       "                                        LogisticRegression(random_state=1,\n",
       "                                                           solver=&#x27;liblinear&#x27;))]),\n",
       "             n_jobs=-1, param_grid={})</pre></div></div></div><div class=\"sk-parallel\"><div class=\"sk-parallel-item\"><div class=\"sk-item\"><div class=\"sk-serial\"><div class=\"sk-item\"><div class=\"sk-serial\"><div class=\"sk-item sk-dashed-wrapped\"><div class=\"sk-label-container\"><div class=\"sk-label sk-toggleable\"><input class=\"sk-toggleable__control sk-hidden--visually\" id=\"60f933f3-f309-4d65-9127-9982a880e70b\" type=\"checkbox\" ><label for=\"60f933f3-f309-4d65-9127-9982a880e70b\" class=\"sk-toggleable__label sk-toggleable__label-arrow\">preprocessor: ColumnTransformer</label><div class=\"sk-toggleable__content\"><pre>ColumnTransformer(transformers=[(&#x27;ohe&#x27;, OneHotEncoder(), [&#x27;Sex&#x27;, &#x27;Embarked&#x27;]),\n",
       "                                (&#x27;vectorizer&#x27;, CountVectorizer(), &#x27;Name&#x27;),\n",
       "                                (&#x27;imputer&#x27;, SimpleImputer(), [&#x27;Age&#x27;])])</pre></div></div></div><div class=\"sk-parallel\"><div class=\"sk-parallel-item\"><div class=\"sk-item\"><div class=\"sk-label-container\"><div class=\"sk-label sk-toggleable\"><input class=\"sk-toggleable__control sk-hidden--visually\" id=\"0bac99ba-bb00-4b3b-a9fb-84e461a0a759\" type=\"checkbox\" ><label for=\"0bac99ba-bb00-4b3b-a9fb-84e461a0a759\" class=\"sk-toggleable__label sk-toggleable__label-arrow\">ohe</label><div class=\"sk-toggleable__content\"><pre>[&#x27;Sex&#x27;, &#x27;Embarked&#x27;]</pre></div></div></div><div class=\"sk-serial\"><div class=\"sk-item\"><div class=\"sk-estimator sk-toggleable\"><input class=\"sk-toggleable__control sk-hidden--visually\" id=\"aac0f933-fb71-45bb-adc4-0bb9cab87b11\" type=\"checkbox\" ><label for=\"aac0f933-fb71-45bb-adc4-0bb9cab87b11\" class=\"sk-toggleable__label sk-toggleable__label-arrow\">OneHotEncoder</label><div class=\"sk-toggleable__content\"><pre>OneHotEncoder()</pre></div></div></div></div></div></div><div class=\"sk-parallel-item\"><div class=\"sk-item\"><div class=\"sk-label-container\"><div class=\"sk-label sk-toggleable\"><input class=\"sk-toggleable__control sk-hidden--visually\" id=\"66972990-ffe9-40b9-84d6-e56ba68dd373\" type=\"checkbox\" ><label for=\"66972990-ffe9-40b9-84d6-e56ba68dd373\" class=\"sk-toggleable__label sk-toggleable__label-arrow\">vectorizer</label><div class=\"sk-toggleable__content\"><pre>Name</pre></div></div></div><div class=\"sk-serial\"><div class=\"sk-item\"><div class=\"sk-estimator sk-toggleable\"><input class=\"sk-toggleable__control sk-hidden--visually\" id=\"f42104f0-a37e-4b4a-adec-5bbeece67bf0\" type=\"checkbox\" ><label for=\"f42104f0-a37e-4b4a-adec-5bbeece67bf0\" class=\"sk-toggleable__label sk-toggleable__label-arrow\">CountVectorizer</label><div class=\"sk-toggleable__content\"><pre>CountVectorizer()</pre></div></div></div></div></div></div><div class=\"sk-parallel-item\"><div class=\"sk-item\"><div class=\"sk-label-container\"><div class=\"sk-label sk-toggleable\"><input class=\"sk-toggleable__control sk-hidden--visually\" id=\"995c940d-035a-4f10-9911-6e40faa11ba4\" type=\"checkbox\" ><label for=\"995c940d-035a-4f10-9911-6e40faa11ba4\" class=\"sk-toggleable__label sk-toggleable__label-arrow\">imputer</label><div class=\"sk-toggleable__content\"><pre>[&#x27;Age&#x27;]</pre></div></div></div><div class=\"sk-serial\"><div class=\"sk-item\"><div class=\"sk-estimator sk-toggleable\"><input class=\"sk-toggleable__control sk-hidden--visually\" id=\"c768273a-0fe1-4ac7-886f-a3975a9665be\" type=\"checkbox\" ><label for=\"c768273a-0fe1-4ac7-886f-a3975a9665be\" class=\"sk-toggleable__label sk-toggleable__label-arrow\">SimpleImputer</label><div class=\"sk-toggleable__content\"><pre>SimpleImputer()</pre></div></div></div></div></div></div></div></div><div class=\"sk-item\"><div class=\"sk-estimator sk-toggleable\"><input class=\"sk-toggleable__control sk-hidden--visually\" id=\"8760d358-765b-49c8-a5f2-d03ed7feb7a3\" type=\"checkbox\" ><label for=\"8760d358-765b-49c8-a5f2-d03ed7feb7a3\" class=\"sk-toggleable__label sk-toggleable__label-arrow\">LogisticRegression</label><div class=\"sk-toggleable__content\"><pre>LogisticRegression(random_state=1, solver=&#x27;liblinear&#x27;)</pre></div></div></div></div></div></div></div></div></div></div></div></div>"
      ],
      "text/plain": [
       "GridSearchCV(estimator=Pipeline(steps=[('preprocessor',\n",
       "                                        ColumnTransformer(transformers=[('ohe',\n",
       "                                                                         OneHotEncoder(),\n",
       "                                                                         ['Sex',\n",
       "                                                                          'Embarked']),\n",
       "                                                                        ('vectorizer',\n",
       "                                                                         CountVectorizer(),\n",
       "                                                                         'Name'),\n",
       "                                                                        ('imputer',\n",
       "                                                                         SimpleImputer(),\n",
       "                                                                         ['Age'])])),\n",
       "                                       ('classifier',\n",
       "                                        LogisticRegression(random_state=1,\n",
       "                                                           solver='liblinear'))]),\n",
       "             n_jobs=-1, param_grid={})"
      ]
     },
     "execution_count": 73,
     "metadata": {},
     "output_type": "execute_result"
    }
   ],
   "source": [
    "grid_tuned = GridSearchCV(pipe, params_best, n_jobs=-1)\n",
    "%time grid_tuned.fit(X, y)"
   ]
  },
  {
   "cell_type": "code",
   "execution_count": 81,
   "id": "176344c5-b049-453b-861b-ecc0e973d00e",
   "metadata": {},
   "outputs": [
    {
     "data": {
      "text/html": [
       "<div>\n",
       "<style scoped>\n",
       "    .dataframe tbody tr th:only-of-type {\n",
       "        vertical-align: middle;\n",
       "    }\n",
       "\n",
       "    .dataframe tbody tr th {\n",
       "        vertical-align: top;\n",
       "    }\n",
       "\n",
       "    .dataframe thead th {\n",
       "        text-align: right;\n",
       "    }\n",
       "</style>\n",
       "<table border=\"1\" class=\"dataframe\">\n",
       "  <thead>\n",
       "    <tr style=\"text-align: right;\">\n",
       "      <th></th>\n",
       "      <th>PassengerId</th>\n",
       "      <th>Survived</th>\n",
       "      <th>Pclass</th>\n",
       "      <th>Name</th>\n",
       "      <th>Sex</th>\n",
       "      <th>Age</th>\n",
       "      <th>SibSp</th>\n",
       "      <th>Parch</th>\n",
       "      <th>Ticket</th>\n",
       "      <th>Fare</th>\n",
       "      <th>Cabin</th>\n",
       "      <th>Embarked</th>\n",
       "    </tr>\n",
       "  </thead>\n",
       "  <tbody>\n",
       "    <tr>\n",
       "      <th>427</th>\n",
       "      <td>428</td>\n",
       "      <td>1</td>\n",
       "      <td>2</td>\n",
       "      <td>Phillips, Miss. Kate Florence (\"Mrs Kate Louis...</td>\n",
       "      <td>female</td>\n",
       "      <td>19.0000</td>\n",
       "      <td>0</td>\n",
       "      <td>0</td>\n",
       "      <td>250655</td>\n",
       "      <td>26.0000</td>\n",
       "      <td>NaN</td>\n",
       "      <td>S</td>\n",
       "    </tr>\n",
       "    <tr>\n",
       "      <th>110</th>\n",
       "      <td>111</td>\n",
       "      <td>0</td>\n",
       "      <td>1</td>\n",
       "      <td>Porter, Mr. Walter Chamberlain</td>\n",
       "      <td>male</td>\n",
       "      <td>47.0000</td>\n",
       "      <td>0</td>\n",
       "      <td>0</td>\n",
       "      <td>110465</td>\n",
       "      <td>52.0000</td>\n",
       "      <td>C110</td>\n",
       "      <td>S</td>\n",
       "    </tr>\n",
       "    <tr>\n",
       "      <th>504</th>\n",
       "      <td>505</td>\n",
       "      <td>1</td>\n",
       "      <td>1</td>\n",
       "      <td>Maioni, Miss. Roberta</td>\n",
       "      <td>female</td>\n",
       "      <td>16.0000</td>\n",
       "      <td>0</td>\n",
       "      <td>0</td>\n",
       "      <td>110152</td>\n",
       "      <td>86.5000</td>\n",
       "      <td>B79</td>\n",
       "      <td>S</td>\n",
       "    </tr>\n",
       "    <tr>\n",
       "      <th>557</th>\n",
       "      <td>558</td>\n",
       "      <td>0</td>\n",
       "      <td>1</td>\n",
       "      <td>Robbins, Mr. Victor</td>\n",
       "      <td>male</td>\n",
       "      <td>NaN</td>\n",
       "      <td>0</td>\n",
       "      <td>0</td>\n",
       "      <td>PC 17757</td>\n",
       "      <td>227.5250</td>\n",
       "      <td>NaN</td>\n",
       "      <td>C</td>\n",
       "    </tr>\n",
       "    <tr>\n",
       "      <th>607</th>\n",
       "      <td>608</td>\n",
       "      <td>1</td>\n",
       "      <td>1</td>\n",
       "      <td>Daniel, Mr. Robert Williams</td>\n",
       "      <td>male</td>\n",
       "      <td>27.0000</td>\n",
       "      <td>0</td>\n",
       "      <td>0</td>\n",
       "      <td>113804</td>\n",
       "      <td>30.5000</td>\n",
       "      <td>NaN</td>\n",
       "      <td>S</td>\n",
       "    </tr>\n",
       "  </tbody>\n",
       "</table>\n",
       "</div>"
      ],
      "text/plain": [
       "     PassengerId  Survived  Pclass  \\\n",
       "427          428         1       2   \n",
       "110          111         0       1   \n",
       "504          505         1       1   \n",
       "557          558         0       1   \n",
       "607          608         1       1   \n",
       "\n",
       "                                                  Name     Sex     Age  SibSp  \\\n",
       "427  Phillips, Miss. Kate Florence (\"Mrs Kate Louis...  female 19.0000      0   \n",
       "110                     Porter, Mr. Walter Chamberlain    male 47.0000      0   \n",
       "504                              Maioni, Miss. Roberta  female 16.0000      0   \n",
       "557                                Robbins, Mr. Victor    male     NaN      0   \n",
       "607                        Daniel, Mr. Robert Williams    male 27.0000      0   \n",
       "\n",
       "     Parch    Ticket     Fare Cabin Embarked  \n",
       "427      0    250655  26.0000   NaN        S  \n",
       "110      0    110465  52.0000  C110        S  \n",
       "504      0    110152  86.5000   B79        S  \n",
       "557      0  PC 17757 227.5250   NaN        C  \n",
       "607      0    113804  30.5000   NaN        S  "
      ]
     },
     "execution_count": 81,
     "metadata": {},
     "output_type": "execute_result"
    }
   ],
   "source": [
    "X_new = X.sample(5)\n",
    "df.loc[X_new.index]"
   ]
  },
  {
   "cell_type": "code",
   "execution_count": 82,
   "id": "097e8773-4095-4058-b7ab-32bc0c5c9748",
   "metadata": {},
   "outputs": [
    {
     "data": {
      "text/plain": [
       "array([1, 0, 1, 0, 0])"
      ]
     },
     "execution_count": 82,
     "metadata": {},
     "output_type": "execute_result"
    }
   ],
   "source": [
    "grid_tuned.predict(X_new)"
   ]
  },
  {
   "cell_type": "code",
   "execution_count": 79,
   "id": "c9c9c5d8-0963-4b9c-ad16-55c9475d0482",
   "metadata": {},
   "outputs": [
    {
     "data": {
      "text/plain": [
       "PassengerId                       738\n",
       "Survived                            1\n",
       "Pclass                              1\n",
       "Name           Lesurer, Mr. Gustave J\n",
       "Sex                              male\n",
       "Age                           35.0000\n",
       "SibSp                               0\n",
       "Parch                               0\n",
       "Ticket                       PC 17755\n",
       "Fare                         512.3292\n",
       "Cabin                            B101\n",
       "Embarked                            C\n",
       "Name: 737, dtype: object"
      ]
     },
     "execution_count": 79,
     "metadata": {},
     "output_type": "execute_result"
    }
   ],
   "source": [
    "df.loc[737]"
   ]
  },
  {
   "cell_type": "code",
   "execution_count": null,
   "id": "111b71f4-651f-4cf0-8dfe-a7754f9902aa",
   "metadata": {},
   "outputs": [],
   "source": []
  }
 ],
 "metadata": {
  "kernelspec": {
   "display_name": "Python 3 (ipykernel)",
   "language": "python",
   "name": "python3"
  },
  "language_info": {
   "codemirror_mode": {
    "name": "ipython",
    "version": 3
   },
   "file_extension": ".py",
   "mimetype": "text/x-python",
   "name": "python",
   "nbconvert_exporter": "python",
   "pygments_lexer": "ipython3",
   "version": "3.9.12"
  }
 },
 "nbformat": 4,
 "nbformat_minor": 5
}
