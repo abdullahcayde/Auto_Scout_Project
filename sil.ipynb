{
 "cells": [
  {
   "cell_type": "code",
   "execution_count": 2,
   "id": "c44564a0-1a9a-452a-b49e-4935c5d6426d",
   "metadata": {},
   "outputs": [],
   "source": [
    "import pandas as pd\n",
    "import numpy as np"
   ]
  },
  {
   "cell_type": "code",
   "execution_count": 2,
   "id": "cb4e95b8-2947-4897-a7ca-45b8b2c0d749",
   "metadata": {},
   "outputs": [
    {
     "data": {
      "text/html": [
       "<div>\n",
       "<style scoped>\n",
       "    .dataframe tbody tr th:only-of-type {\n",
       "        vertical-align: middle;\n",
       "    }\n",
       "\n",
       "    .dataframe tbody tr th {\n",
       "        vertical-align: top;\n",
       "    }\n",
       "\n",
       "    .dataframe thead th {\n",
       "        text-align: right;\n",
       "    }\n",
       "</style>\n",
       "<table border=\"1\" class=\"dataframe\">\n",
       "  <thead>\n",
       "    <tr style=\"text-align: right;\">\n",
       "      <th></th>\n",
       "      <th>name</th>\n",
       "      <th>age</th>\n",
       "    </tr>\n",
       "  </thead>\n",
       "  <tbody>\n",
       "    <tr>\n",
       "      <th>0</th>\n",
       "      <td>alice</td>\n",
       "      <td>2</td>\n",
       "    </tr>\n",
       "    <tr>\n",
       "      <th>1</th>\n",
       "      <td>bob</td>\n",
       "      <td>15</td>\n",
       "    </tr>\n",
       "    <tr>\n",
       "      <th>2</th>\n",
       "      <td>charlie</td>\n",
       "      <td>30</td>\n",
       "    </tr>\n",
       "    <tr>\n",
       "      <th>3</th>\n",
       "      <td>daniel</td>\n",
       "      <td>70</td>\n",
       "    </tr>\n",
       "  </tbody>\n",
       "</table>\n",
       "</div>"
      ],
      "text/plain": [
       "      name  age\n",
       "0    alice    2\n",
       "1      bob   15\n",
       "2  charlie   30\n",
       "3   daniel   70"
      ]
     },
     "execution_count": 2,
     "metadata": {},
     "output_type": "execute_result"
    }
   ],
   "source": [
    "df = pd.DataFrame({\n",
    "    'name': ['alice','bob','charlie','daniel'],\n",
    "    'age': [2,15,30,70]\n",
    "})\n",
    "df    "
   ]
  },
  {
   "cell_type": "code",
   "execution_count": 3,
   "id": "9510c1db-5215-4198-97c8-a1ec0710d4c6",
   "metadata": {},
   "outputs": [
    {
     "data": {
      "text/html": [
       "<div>\n",
       "<style scoped>\n",
       "    .dataframe tbody tr th:only-of-type {\n",
       "        vertical-align: middle;\n",
       "    }\n",
       "\n",
       "    .dataframe tbody tr th {\n",
       "        vertical-align: top;\n",
       "    }\n",
       "\n",
       "    .dataframe thead th {\n",
       "        text-align: right;\n",
       "    }\n",
       "</style>\n",
       "<table border=\"1\" class=\"dataframe\">\n",
       "  <thead>\n",
       "    <tr style=\"text-align: right;\">\n",
       "      <th></th>\n",
       "      <th>name</th>\n",
       "      <th>age</th>\n",
       "      <th>age_cat</th>\n",
       "    </tr>\n",
       "  </thead>\n",
       "  <tbody>\n",
       "    <tr>\n",
       "      <th>0</th>\n",
       "      <td>alice</td>\n",
       "      <td>2</td>\n",
       "      <td>Young</td>\n",
       "    </tr>\n",
       "    <tr>\n",
       "      <th>1</th>\n",
       "      <td>bob</td>\n",
       "      <td>15</td>\n",
       "      <td>Young</td>\n",
       "    </tr>\n",
       "    <tr>\n",
       "      <th>2</th>\n",
       "      <td>charlie</td>\n",
       "      <td>30</td>\n",
       "      <td>Old</td>\n",
       "    </tr>\n",
       "    <tr>\n",
       "      <th>3</th>\n",
       "      <td>daniel</td>\n",
       "      <td>70</td>\n",
       "      <td>Old</td>\n",
       "    </tr>\n",
       "  </tbody>\n",
       "</table>\n",
       "</div>"
      ],
      "text/plain": [
       "      name  age age_cat\n",
       "0    alice    2   Young\n",
       "1      bob   15   Young\n",
       "2  charlie   30     Old\n",
       "3   daniel   70     Old"
      ]
     },
     "execution_count": 3,
     "metadata": {},
     "output_type": "execute_result"
    }
   ],
   "source": [
    "df.assign(\n",
    "    age_cat = lambda x : x.age.map(lambda x : 'Young' if x < 30 else 'Old')\n",
    ")"
   ]
  },
  {
   "cell_type": "code",
   "execution_count": 4,
   "id": "81dcbee5-cfd4-401c-816b-7011e4917b62",
   "metadata": {},
   "outputs": [
    {
     "data": {
      "text/html": [
       "<div>\n",
       "<style scoped>\n",
       "    .dataframe tbody tr th:only-of-type {\n",
       "        vertical-align: middle;\n",
       "    }\n",
       "\n",
       "    .dataframe tbody tr th {\n",
       "        vertical-align: top;\n",
       "    }\n",
       "\n",
       "    .dataframe thead th {\n",
       "        text-align: right;\n",
       "    }\n",
       "</style>\n",
       "<table border=\"1\" class=\"dataframe\">\n",
       "  <thead>\n",
       "    <tr style=\"text-align: right;\">\n",
       "      <th></th>\n",
       "      <th>make</th>\n",
       "      <th>price</th>\n",
       "    </tr>\n",
       "  </thead>\n",
       "  <tbody>\n",
       "    <tr>\n",
       "      <th>0</th>\n",
       "      <td>audi</td>\n",
       "      <td>200</td>\n",
       "    </tr>\n",
       "    <tr>\n",
       "      <th>1</th>\n",
       "      <td>audi</td>\n",
       "      <td>200</td>\n",
       "    </tr>\n",
       "    <tr>\n",
       "      <th>2</th>\n",
       "      <td>mercedes</td>\n",
       "      <td>3000</td>\n",
       "    </tr>\n",
       "    <tr>\n",
       "      <th>3</th>\n",
       "      <td>toyota</td>\n",
       "      <td>70000</td>\n",
       "    </tr>\n",
       "    <tr>\n",
       "      <th>4</th>\n",
       "      <td>honda</td>\n",
       "      <td>5000</td>\n",
       "    </tr>\n",
       "  </tbody>\n",
       "</table>\n",
       "</div>"
      ],
      "text/plain": [
       "       make  price\n",
       "0      audi    200\n",
       "1      audi    200\n",
       "2  mercedes   3000\n",
       "3    toyota  70000\n",
       "4     honda   5000"
      ]
     },
     "execution_count": 4,
     "metadata": {},
     "output_type": "execute_result"
    }
   ],
   "source": [
    "df = pd.DataFrame({\n",
    "    'make': ['audi','audi','mercedes','toyota', 'honda'],\n",
    "    'price': [200,200,3000,70000,5000]\n",
    "})\n",
    "df    "
   ]
  },
  {
   "cell_type": "code",
   "execution_count": 5,
   "id": "533e3424-e8dc-4c52-a998-ababfe8d5236",
   "metadata": {},
   "outputs": [
    {
     "data": {
      "text/html": [
       "<div>\n",
       "<style scoped>\n",
       "    .dataframe tbody tr th:only-of-type {\n",
       "        vertical-align: middle;\n",
       "    }\n",
       "\n",
       "    .dataframe tbody tr th {\n",
       "        vertical-align: top;\n",
       "    }\n",
       "\n",
       "    .dataframe thead th {\n",
       "        text-align: right;\n",
       "    }\n",
       "</style>\n",
       "<table border=\"1\" class=\"dataframe\">\n",
       "  <thead>\n",
       "    <tr style=\"text-align: right;\">\n",
       "      <th></th>\n",
       "      <th>make</th>\n",
       "      <th>price</th>\n",
       "      <th>make_country</th>\n",
       "    </tr>\n",
       "  </thead>\n",
       "  <tbody>\n",
       "    <tr>\n",
       "      <th>0</th>\n",
       "      <td>audi</td>\n",
       "      <td>200</td>\n",
       "      <td>German</td>\n",
       "    </tr>\n",
       "    <tr>\n",
       "      <th>1</th>\n",
       "      <td>audi</td>\n",
       "      <td>200</td>\n",
       "      <td>German</td>\n",
       "    </tr>\n",
       "    <tr>\n",
       "      <th>2</th>\n",
       "      <td>mercedes</td>\n",
       "      <td>3000</td>\n",
       "      <td>German</td>\n",
       "    </tr>\n",
       "    <tr>\n",
       "      <th>3</th>\n",
       "      <td>toyota</td>\n",
       "      <td>70000</td>\n",
       "      <td>Japan</td>\n",
       "    </tr>\n",
       "    <tr>\n",
       "      <th>4</th>\n",
       "      <td>honda</td>\n",
       "      <td>5000</td>\n",
       "      <td>Japan</td>\n",
       "    </tr>\n",
       "  </tbody>\n",
       "</table>\n",
       "</div>"
      ],
      "text/plain": [
       "       make  price make_country\n",
       "0      audi    200       German\n",
       "1      audi    200       German\n",
       "2  mercedes   3000       German\n",
       "3    toyota  70000        Japan\n",
       "4     honda   5000        Japan"
      ]
     },
     "execution_count": 5,
     "metadata": {},
     "output_type": "execute_result"
    }
   ],
   "source": [
    "german_list = ['audi', 'mercedes', 'bmw', ]\n",
    "japan_list = ['toyota', 'honda', 'mazda']\n",
    "\n",
    "conditions = [ \n",
    "    (df.make.isin(german_list)),\n",
    "    (df.make.isin(japan_list)),\n",
    "]\n",
    "\n",
    "values = ['German', 'Japan']\n",
    "\n",
    "df['make_country'] = np.select(conditions, values)\n",
    "df"
   ]
  },
  {
   "cell_type": "code",
   "execution_count": 6,
   "id": "df744248-00d0-4cf9-ae72-4a77b1665171",
   "metadata": {},
   "outputs": [],
   "source": [
    "German = ['audi', 'mercedes', 'bmw']\n",
    "df.loc[df.make.isin(German),  'country'] = 'German'"
   ]
  },
  {
   "cell_type": "code",
   "execution_count": 7,
   "id": "3582105a-28e2-4920-88d4-2e3df448cdb5",
   "metadata": {},
   "outputs": [
    {
     "data": {
      "text/html": [
       "<div>\n",
       "<style scoped>\n",
       "    .dataframe tbody tr th:only-of-type {\n",
       "        vertical-align: middle;\n",
       "    }\n",
       "\n",
       "    .dataframe tbody tr th {\n",
       "        vertical-align: top;\n",
       "    }\n",
       "\n",
       "    .dataframe thead th {\n",
       "        text-align: right;\n",
       "    }\n",
       "</style>\n",
       "<table border=\"1\" class=\"dataframe\">\n",
       "  <thead>\n",
       "    <tr style=\"text-align: right;\">\n",
       "      <th></th>\n",
       "      <th>make</th>\n",
       "      <th>price</th>\n",
       "      <th>make_country</th>\n",
       "      <th>country</th>\n",
       "    </tr>\n",
       "  </thead>\n",
       "  <tbody>\n",
       "    <tr>\n",
       "      <th>0</th>\n",
       "      <td>audi</td>\n",
       "      <td>299</td>\n",
       "      <td>German</td>\n",
       "      <td>German</td>\n",
       "    </tr>\n",
       "    <tr>\n",
       "      <th>1</th>\n",
       "      <td>audi</td>\n",
       "      <td>200</td>\n",
       "      <td>German</td>\n",
       "      <td>German</td>\n",
       "    </tr>\n",
       "    <tr>\n",
       "      <th>2</th>\n",
       "      <td>mercedes</td>\n",
       "      <td>3000</td>\n",
       "      <td>German</td>\n",
       "      <td>German</td>\n",
       "    </tr>\n",
       "    <tr>\n",
       "      <th>3</th>\n",
       "      <td>toyota</td>\n",
       "      <td>299</td>\n",
       "      <td>Japan</td>\n",
       "      <td>NaN</td>\n",
       "    </tr>\n",
       "    <tr>\n",
       "      <th>4</th>\n",
       "      <td>honda</td>\n",
       "      <td>5000</td>\n",
       "      <td>Japan</td>\n",
       "      <td>NaN</td>\n",
       "    </tr>\n",
       "  </tbody>\n",
       "</table>\n",
       "</div>"
      ],
      "text/plain": [
       "       make  price make_country country\n",
       "0      audi    299       German  German\n",
       "1      audi    200       German  German\n",
       "2  mercedes   3000       German  German\n",
       "3    toyota    299        Japan     NaN\n",
       "4     honda   5000        Japan     NaN"
      ]
     },
     "execution_count": 7,
     "metadata": {},
     "output_type": "execute_result"
    }
   ],
   "source": [
    "df.loc[[0,3], 'price'] = 299\n",
    "df"
   ]
  },
  {
   "cell_type": "code",
   "execution_count": 8,
   "id": "379a063f-b9ef-4bd2-86fc-5cad426e0711",
   "metadata": {},
   "outputs": [
    {
     "data": {
      "text/plain": [
       "299"
      ]
     },
     "execution_count": 8,
     "metadata": {},
     "output_type": "execute_result"
    }
   ],
   "source": [
    "df.loc[0, 'price']"
   ]
  },
  {
   "cell_type": "code",
   "execution_count": 9,
   "id": "bb03c6c5-ed72-4832-af81-8acf3eef451b",
   "metadata": {},
   "outputs": [
    {
     "data": {
      "text/html": [
       "<div>\n",
       "<style scoped>\n",
       "    .dataframe tbody tr th:only-of-type {\n",
       "        vertical-align: middle;\n",
       "    }\n",
       "\n",
       "    .dataframe tbody tr th {\n",
       "        vertical-align: top;\n",
       "    }\n",
       "\n",
       "    .dataframe thead th {\n",
       "        text-align: right;\n",
       "    }\n",
       "</style>\n",
       "<table border=\"1\" class=\"dataframe\">\n",
       "  <thead>\n",
       "    <tr style=\"text-align: right;\">\n",
       "      <th></th>\n",
       "      <th>make</th>\n",
       "      <th>price</th>\n",
       "      <th>make_country</th>\n",
       "      <th>country</th>\n",
       "    </tr>\n",
       "  </thead>\n",
       "  <tbody>\n",
       "    <tr>\n",
       "      <th>0</th>\n",
       "      <td>audi</td>\n",
       "      <td>299</td>\n",
       "      <td>German</td>\n",
       "      <td>German</td>\n",
       "    </tr>\n",
       "    <tr>\n",
       "      <th>1</th>\n",
       "      <td>audi</td>\n",
       "      <td>200</td>\n",
       "      <td>German</td>\n",
       "      <td>German</td>\n",
       "    </tr>\n",
       "    <tr>\n",
       "      <th>2</th>\n",
       "      <td>mercedes</td>\n",
       "      <td>3000</td>\n",
       "      <td>German</td>\n",
       "      <td>German</td>\n",
       "    </tr>\n",
       "    <tr>\n",
       "      <th>3</th>\n",
       "      <td>toyota</td>\n",
       "      <td>299</td>\n",
       "      <td>Japan</td>\n",
       "      <td>NaN</td>\n",
       "    </tr>\n",
       "    <tr>\n",
       "      <th>4</th>\n",
       "      <td>honda</td>\n",
       "      <td>5000</td>\n",
       "      <td>Japan</td>\n",
       "      <td>NaN</td>\n",
       "    </tr>\n",
       "  </tbody>\n",
       "</table>\n",
       "</div>"
      ],
      "text/plain": [
       "       make  price make_country country\n",
       "0      audi    299       German  German\n",
       "1      audi    200       German  German\n",
       "2  mercedes   3000       German  German\n",
       "3    toyota    299        Japan     NaN\n",
       "4     honda   5000        Japan     NaN"
      ]
     },
     "execution_count": 9,
     "metadata": {},
     "output_type": "execute_result"
    }
   ],
   "source": [
    "df"
   ]
  },
  {
   "cell_type": "code",
   "execution_count": 10,
   "id": "8f667d8b-3830-4ccf-b212-92fb4398e451",
   "metadata": {},
   "outputs": [
    {
     "data": {
      "text/plain": [
       "0    False\n",
       "1    False\n",
       "2    False\n",
       "3    False\n",
       "4    False\n",
       "dtype: bool"
      ]
     },
     "execution_count": 10,
     "metadata": {},
     "output_type": "execute_result"
    }
   ],
   "source": [
    "df.duplicated()"
   ]
  },
  {
   "cell_type": "code",
   "execution_count": 11,
   "id": "5730cb83-a601-4c62-8004-c9c45e0306f2",
   "metadata": {},
   "outputs": [
    {
     "data": {
      "text/plain": [
       "0    False\n",
       "1    False\n",
       "2    False\n",
       "3    False\n",
       "4    False\n",
       "dtype: bool"
      ]
     },
     "execution_count": 11,
     "metadata": {},
     "output_type": "execute_result"
    }
   ],
   "source": [
    "df.duplicated(keep= 'last')"
   ]
  },
  {
   "cell_type": "code",
   "execution_count": 12,
   "id": "d18eb6d8-d1e8-4e95-a340-70b4900ad0c8",
   "metadata": {},
   "outputs": [
    {
     "data": {
      "text/plain": [
       "0    False\n",
       "1    False\n",
       "2    False\n",
       "3    False\n",
       "4    False\n",
       "dtype: bool"
      ]
     },
     "execution_count": 12,
     "metadata": {},
     "output_type": "execute_result"
    }
   ],
   "source": [
    "df.duplicated(keep= 'first')"
   ]
  },
  {
   "cell_type": "code",
   "execution_count": 13,
   "id": "dac0ba35-6e7a-436a-b2fd-35a24e8e3405",
   "metadata": {},
   "outputs": [
    {
     "data": {
      "text/plain": [
       "0    False\n",
       "1    False\n",
       "2    False\n",
       "3    False\n",
       "4    False\n",
       "dtype: bool"
      ]
     },
     "execution_count": 13,
     "metadata": {},
     "output_type": "execute_result"
    }
   ],
   "source": [
    "df.duplicated(keep= False)"
   ]
  },
  {
   "cell_type": "code",
   "execution_count": 14,
   "id": "88cac6c6-9b82-4327-a9f6-8b8bad2f4701",
   "metadata": {},
   "outputs": [
    {
     "data": {
      "text/plain": [
       "0     True\n",
       "1     True\n",
       "2    False\n",
       "3    False\n",
       "4    False\n",
       "dtype: bool"
      ]
     },
     "execution_count": 14,
     "metadata": {},
     "output_type": "execute_result"
    }
   ],
   "source": [
    "df.duplicated(subset=['make', 'country'], keep= False)"
   ]
  },
  {
   "cell_type": "code",
   "execution_count": 15,
   "id": "bebb95f1-f7a2-4d3d-8f21-211c381272a5",
   "metadata": {},
   "outputs": [
    {
     "data": {
      "text/html": [
       "<div>\n",
       "<style scoped>\n",
       "    .dataframe tbody tr th:only-of-type {\n",
       "        vertical-align: middle;\n",
       "    }\n",
       "\n",
       "    .dataframe tbody tr th {\n",
       "        vertical-align: top;\n",
       "    }\n",
       "\n",
       "    .dataframe thead th {\n",
       "        text-align: right;\n",
       "    }\n",
       "</style>\n",
       "<table border=\"1\" class=\"dataframe\">\n",
       "  <thead>\n",
       "    <tr style=\"text-align: right;\">\n",
       "      <th></th>\n",
       "      <th>make</th>\n",
       "      <th>price</th>\n",
       "      <th>make_country</th>\n",
       "      <th>country</th>\n",
       "    </tr>\n",
       "  </thead>\n",
       "  <tbody>\n",
       "    <tr>\n",
       "      <th>0</th>\n",
       "      <td>audi</td>\n",
       "      <td>299</td>\n",
       "      <td>German</td>\n",
       "      <td>German</td>\n",
       "    </tr>\n",
       "    <tr>\n",
       "      <th>1</th>\n",
       "      <td>audi</td>\n",
       "      <td>200</td>\n",
       "      <td>German</td>\n",
       "      <td>German</td>\n",
       "    </tr>\n",
       "    <tr>\n",
       "      <th>2</th>\n",
       "      <td>mercedes</td>\n",
       "      <td>3000</td>\n",
       "      <td>German</td>\n",
       "      <td>German</td>\n",
       "    </tr>\n",
       "    <tr>\n",
       "      <th>3</th>\n",
       "      <td>toyota</td>\n",
       "      <td>299</td>\n",
       "      <td>Japan</td>\n",
       "      <td>NaN</td>\n",
       "    </tr>\n",
       "    <tr>\n",
       "      <th>4</th>\n",
       "      <td>honda</td>\n",
       "      <td>5000</td>\n",
       "      <td>Japan</td>\n",
       "      <td>NaN</td>\n",
       "    </tr>\n",
       "  </tbody>\n",
       "</table>\n",
       "</div>"
      ],
      "text/plain": [
       "       make  price make_country country\n",
       "0      audi    299       German  German\n",
       "1      audi    200       German  German\n",
       "2  mercedes   3000       German  German\n",
       "3    toyota    299        Japan     NaN\n",
       "4     honda   5000        Japan     NaN"
      ]
     },
     "execution_count": 15,
     "metadata": {},
     "output_type": "execute_result"
    }
   ],
   "source": [
    "df"
   ]
  },
  {
   "cell_type": "code",
   "execution_count": 16,
   "id": "0b67450d-1ee2-4b32-a76a-8065d49e973c",
   "metadata": {},
   "outputs": [
    {
     "name": "stdout",
     "output_type": "stream",
     "text": [
      "(5, 4)\n"
     ]
    },
    {
     "data": {
      "text/plain": [
       "(5, 4)"
      ]
     },
     "execution_count": 16,
     "metadata": {},
     "output_type": "execute_result"
    }
   ],
   "source": [
    "print(df.shape)\n",
    "df.drop_duplicates().shape"
   ]
  },
  {
   "cell_type": "code",
   "execution_count": 36,
   "id": "2c97ff5c-0eb6-4278-ac70-4f4a90eed049",
   "metadata": {},
   "outputs": [
    {
     "data": {
      "text/html": [
       "<div>\n",
       "<style scoped>\n",
       "    .dataframe tbody tr th:only-of-type {\n",
       "        vertical-align: middle;\n",
       "    }\n",
       "\n",
       "    .dataframe tbody tr th {\n",
       "        vertical-align: top;\n",
       "    }\n",
       "\n",
       "    .dataframe thead th {\n",
       "        text-align: right;\n",
       "    }\n",
       "</style>\n",
       "<table border=\"1\" class=\"dataframe\">\n",
       "  <thead>\n",
       "    <tr style=\"text-align: right;\">\n",
       "      <th></th>\n",
       "      <th>location</th>\n",
       "      <th>make</th>\n",
       "      <th>model</th>\n",
       "      <th>make_model</th>\n",
       "      <th>age</th>\n",
       "      <th>short_description</th>\n",
       "      <th>year</th>\n",
       "      <th>price</th>\n",
       "      <th>mileage_km</th>\n",
       "      <th>registration</th>\n",
       "      <th>...</th>\n",
       "      <th>Safety &amp; Security</th>\n",
       "      <th>extras</th>\n",
       "      <th>colour</th>\n",
       "      <th>manufacturer_color</th>\n",
       "      <th>paint</th>\n",
       "      <th>upholstery_colour</th>\n",
       "      <th>upholstery</th>\n",
       "      <th>power_kw</th>\n",
       "      <th>power_hp</th>\n",
       "      <th>make_country</th>\n",
       "    </tr>\n",
       "  </thead>\n",
       "  <tbody>\n",
       "    <tr>\n",
       "      <th>0</th>\n",
       "      <td>LOON OP ZAND</td>\n",
       "      <td>Audi</td>\n",
       "      <td>A3</td>\n",
       "      <td>Audi-A3</td>\n",
       "      <td>19.0</td>\n",
       "      <td>2.0 FSI Ambition Pro Line</td>\n",
       "      <td>2003.0</td>\n",
       "      <td>4450.0</td>\n",
       "      <td>191066.0</td>\n",
       "      <td>2003-08-01</td>\n",
       "      <td>...</td>\n",
       "      <td>'ABS', 'Alarm system', 'Central door lock', 'C...</td>\n",
       "      <td>'Alloy wheels'</td>\n",
       "      <td>Grey</td>\n",
       "      <td>None</td>\n",
       "      <td>Metallic</td>\n",
       "      <td>Black</td>\n",
       "      <td>Cloth</td>\n",
       "      <td>110.0</td>\n",
       "      <td>150.0</td>\n",
       "      <td>German</td>\n",
       "    </tr>\n",
       "    <tr>\n",
       "      <th>1</th>\n",
       "      <td>HEERLEN</td>\n",
       "      <td>Audi</td>\n",
       "      <td>A3</td>\n",
       "      <td>Audi-A3</td>\n",
       "      <td>9.0</td>\n",
       "      <td>Sportback 1.4 TFSI Ambiente/ECC/PDC//Lichtmeta...</td>\n",
       "      <td>2013.0</td>\n",
       "      <td>12950.0</td>\n",
       "      <td>94758.0</td>\n",
       "      <td>2013-10-01</td>\n",
       "      <td>...</td>\n",
       "      <td>'Alarm system', 'Central door lock', 'Central ...</td>\n",
       "      <td>'Alloy wheels (16\")'</td>\n",
       "      <td>White</td>\n",
       "      <td>None</td>\n",
       "      <td>None</td>\n",
       "      <td>Black</td>\n",
       "      <td>Cloth</td>\n",
       "      <td>92.0</td>\n",
       "      <td>125.0</td>\n",
       "      <td>German</td>\n",
       "    </tr>\n",
       "  </tbody>\n",
       "</table>\n",
       "<p>2 rows × 50 columns</p>\n",
       "</div>"
      ],
      "text/plain": [
       "       location  make model make_model   age  \\\n",
       "0  LOON OP ZAND  Audi    A3    Audi-A3  19.0   \n",
       "1       HEERLEN  Audi    A3    Audi-A3   9.0   \n",
       "\n",
       "                                   short_description    year    price  \\\n",
       "0                          2.0 FSI Ambition Pro Line  2003.0   4450.0   \n",
       "1  Sportback 1.4 TFSI Ambiente/ECC/PDC//Lichtmeta...  2013.0  12950.0   \n",
       "\n",
       "   mileage_km registration  ...  \\\n",
       "0    191066.0   2003-08-01  ...   \n",
       "1     94758.0   2013-10-01  ...   \n",
       "\n",
       "                                   Safety & Security                extras  \\\n",
       "0  'ABS', 'Alarm system', 'Central door lock', 'C...        'Alloy wheels'   \n",
       "1  'Alarm system', 'Central door lock', 'Central ...  'Alloy wheels (16\")'   \n",
       "\n",
       "  colour manufacturer_color     paint  upholstery_colour  upholstery power_kw  \\\n",
       "0   Grey               None  Metallic              Black       Cloth    110.0   \n",
       "1  White               None      None              Black       Cloth     92.0   \n",
       "\n",
       "  power_hp  make_country  \n",
       "0    150.0        German  \n",
       "1    125.0        German  \n",
       "\n",
       "[2 rows x 50 columns]"
      ]
     },
     "execution_count": 36,
     "metadata": {},
     "output_type": "execute_result"
    }
   ],
   "source": [
    "df = pd.read_csv('auto_02.csv')\n",
    "df.drop('Unnamed: 0', axis=1, inplace=True)\n",
    "df.head(2)"
   ]
  },
  {
   "cell_type": "code",
   "execution_count": 37,
   "id": "a38b6c7a-2331-4441-9bde-76f69c98fbbb",
   "metadata": {},
   "outputs": [
    {
     "data": {
      "text/plain": [
       "location                   1570\n",
       "make                       1570\n",
       "model                      1570\n",
       "make_model                 1570\n",
       "age                        1570\n",
       "short_description          1567\n",
       "year                       1570\n",
       "price                         0\n",
       "mileage_km                 1570\n",
       "registration               1570\n",
       "fuel_type                  1570\n",
       "seller                     1570\n",
       "body_type                  1570\n",
       "type                       1570\n",
       "drivetrain                 1570\n",
       "seats                      1471\n",
       "doors                      1567\n",
       "country_version            1570\n",
       "offer_number               1570\n",
       "warranty_months             487\n",
       "first_registration         1570\n",
       "production_date             187\n",
       "general_inspection          878\n",
       "last_service               1570\n",
       "full_service_history       1570\n",
       "non_smoker_vehicle         1570\n",
       "previous_owner             1570\n",
       "last_timing_belt_change    1570\n",
       "Gearbox                    1570\n",
       "engine_size_cc             1477\n",
       "gears                      1570\n",
       "cylinders                  1459\n",
       "empty_weight_kg            1549\n",
       "Fuel_type                  1570\n",
       "fuel_consumption           1446\n",
       "co2_emissions_g_km_comb    1233\n",
       "emission_class             1570\n",
       "emissions_sticker          1570\n",
       "Comfort & Convenience      1570\n",
       "Entertainment & Media      1570\n",
       "Safety & Security          1570\n",
       "extras                     1570\n",
       "colour                     1570\n",
       "manufacturer_color         1570\n",
       "paint                      1570\n",
       "upholstery_colour          1570\n",
       "upholstery                 1570\n",
       "power_kw                   1496\n",
       "power_hp                   1496\n",
       "make_country               1570\n",
       "dtype: int64"
      ]
     },
     "execution_count": 37,
     "metadata": {},
     "output_type": "execute_result"
    }
   ],
   "source": [
    "df.loc[df.price.isnull(), :].count()"
   ]
  },
  {
   "cell_type": "code",
   "execution_count": 19,
   "id": "3b9a13ef-61c6-4fb3-b0c8-ca44f0e8aa27",
   "metadata": {},
   "outputs": [
    {
     "data": {
      "text/plain": [
       "3995"
      ]
     },
     "execution_count": 19,
     "metadata": {},
     "output_type": "execute_result"
    }
   ],
   "source": [
    "df.duplicated(keep= False).sum()"
   ]
  },
  {
   "cell_type": "code",
   "execution_count": 20,
   "id": "fd56c3aa-ad5b-4448-b241-c12950465fec",
   "metadata": {},
   "outputs": [
    {
     "data": {
      "text/plain": [
       "3123"
      ]
     },
     "execution_count": 20,
     "metadata": {},
     "output_type": "execute_result"
    }
   ],
   "source": [
    "df.duplicated(subset=['make_model', 'year', 'mileage_km','price', 'short_description' ]).sum()"
   ]
  },
  {
   "cell_type": "code",
   "execution_count": 21,
   "id": "92be985a-4c57-4d04-b81c-742ac0b6a8fb",
   "metadata": {},
   "outputs": [
    {
     "data": {
      "text/html": [
       "<div>\n",
       "<style scoped>\n",
       "    .dataframe tbody tr th:only-of-type {\n",
       "        vertical-align: middle;\n",
       "    }\n",
       "\n",
       "    .dataframe tbody tr th {\n",
       "        vertical-align: top;\n",
       "    }\n",
       "\n",
       "    .dataframe thead th {\n",
       "        text-align: right;\n",
       "    }\n",
       "</style>\n",
       "<table border=\"1\" class=\"dataframe\">\n",
       "  <thead>\n",
       "    <tr style=\"text-align: right;\">\n",
       "      <th></th>\n",
       "      <th>location</th>\n",
       "      <th>make</th>\n",
       "      <th>model</th>\n",
       "      <th>make_model</th>\n",
       "      <th>age</th>\n",
       "      <th>short_description</th>\n",
       "      <th>year</th>\n",
       "      <th>price</th>\n",
       "      <th>mileage_km</th>\n",
       "      <th>registration</th>\n",
       "      <th>...</th>\n",
       "      <th>Safety &amp; Security</th>\n",
       "      <th>extras</th>\n",
       "      <th>colour</th>\n",
       "      <th>manufacturer_color</th>\n",
       "      <th>paint</th>\n",
       "      <th>upholstery_colour</th>\n",
       "      <th>upholstery</th>\n",
       "      <th>power_kw</th>\n",
       "      <th>power_hp</th>\n",
       "      <th>make_country</th>\n",
       "    </tr>\n",
       "  </thead>\n",
       "  <tbody>\n",
       "    <tr>\n",
       "      <th>415</th>\n",
       "      <td>ROTTERDAM</td>\n",
       "      <td>Audi</td>\n",
       "      <td>A3</td>\n",
       "      <td>Audi-A3</td>\n",
       "      <td>12.0</td>\n",
       "      <td>1.4 TFSI S-edition</td>\n",
       "      <td>2010.0</td>\n",
       "      <td>6749.0</td>\n",
       "      <td>220000.0</td>\n",
       "      <td>2010-03-01</td>\n",
       "      <td>...</td>\n",
       "      <td>'Central door lock with remote control', 'Dayt...</td>\n",
       "      <td>'Alloy wheels', 'Roof rack', 'Spoiler', 'Sport...</td>\n",
       "      <td>Black</td>\n",
       "      <td>None</td>\n",
       "      <td>None</td>\n",
       "      <td>Black</td>\n",
       "      <td>Partleather</td>\n",
       "      <td>92.0</td>\n",
       "      <td>125.0</td>\n",
       "      <td>German</td>\n",
       "    </tr>\n",
       "    <tr>\n",
       "      <th>604</th>\n",
       "      <td>ZUILICHEM</td>\n",
       "      <td>Audi</td>\n",
       "      <td>A1</td>\n",
       "      <td>Audi-A1</td>\n",
       "      <td>10.0</td>\n",
       "      <td>1.2 TFSI Connect 2012 Airco Navigatie Cruise C...</td>\n",
       "      <td>2012.0</td>\n",
       "      <td>5950.0</td>\n",
       "      <td>291473.0</td>\n",
       "      <td>2012-01-01</td>\n",
       "      <td>...</td>\n",
       "      <td>'ABS', 'Central door lock', 'Central door lock...</td>\n",
       "      <td>'Alloy wheels (16\")'</td>\n",
       "      <td>Black</td>\n",
       "      <td>None</td>\n",
       "      <td>None</td>\n",
       "      <td>None</td>\n",
       "      <td>None</td>\n",
       "      <td>63.0</td>\n",
       "      <td>86.0</td>\n",
       "      <td>German</td>\n",
       "    </tr>\n",
       "    <tr>\n",
       "      <th>607</th>\n",
       "      <td>GORINCHEM</td>\n",
       "      <td>Audi</td>\n",
       "      <td>A1</td>\n",
       "      <td>Audi-A1</td>\n",
       "      <td>12.0</td>\n",
       "      <td>1.2 TFSI Attraction Airco</td>\n",
       "      <td>2010.0</td>\n",
       "      <td>5950.0</td>\n",
       "      <td>221136.0</td>\n",
       "      <td>2010-12-01</td>\n",
       "      <td>...</td>\n",
       "      <td>'ABS', 'Alarm system', 'Central door lock', 'C...</td>\n",
       "      <td>'Alloy wheels'</td>\n",
       "      <td>White</td>\n",
       "      <td>None</td>\n",
       "      <td>None</td>\n",
       "      <td>None</td>\n",
       "      <td>Cloth</td>\n",
       "      <td>63.0</td>\n",
       "      <td>86.0</td>\n",
       "      <td>German</td>\n",
       "    </tr>\n",
       "    <tr>\n",
       "      <th>625</th>\n",
       "      <td>OOSTDIJK</td>\n",
       "      <td>Audi</td>\n",
       "      <td>A3</td>\n",
       "      <td>Audi-A3</td>\n",
       "      <td>13.0</td>\n",
       "      <td>1.4 TFSI Attraction</td>\n",
       "      <td>2009.0</td>\n",
       "      <td>5700.0</td>\n",
       "      <td>200250.0</td>\n",
       "      <td>2009-04-01</td>\n",
       "      <td>...</td>\n",
       "      <td>'ABS', 'Central door lock with remote control'...</td>\n",
       "      <td>'Alloy wheels (16\")', 'Spare tyre', 'Trailer h...</td>\n",
       "      <td>Blue</td>\n",
       "      <td>None</td>\n",
       "      <td>Metallic</td>\n",
       "      <td>Blue</td>\n",
       "      <td>Cloth</td>\n",
       "      <td>92.0</td>\n",
       "      <td>125.0</td>\n",
       "      <td>German</td>\n",
       "    </tr>\n",
       "    <tr>\n",
       "      <th>635</th>\n",
       "      <td>WOMMELS</td>\n",
       "      <td>Audi</td>\n",
       "      <td>A3</td>\n",
       "      <td>Audi-A3</td>\n",
       "      <td>16.0</td>\n",
       "      <td>1.6 FSI Ambiente</td>\n",
       "      <td>2006.0</td>\n",
       "      <td>2750.0</td>\n",
       "      <td>289500.0</td>\n",
       "      <td>2006-11-01</td>\n",
       "      <td>...</td>\n",
       "      <td>'Central door lock', 'Central door lock with r...</td>\n",
       "      <td>'Alloy wheels (16\")', 'Automatically dimming i...</td>\n",
       "      <td>Blue</td>\n",
       "      <td>None</td>\n",
       "      <td>None</td>\n",
       "      <td>None</td>\n",
       "      <td>None</td>\n",
       "      <td>85.0</td>\n",
       "      <td>116.0</td>\n",
       "      <td>German</td>\n",
       "    </tr>\n",
       "    <tr>\n",
       "      <th>638</th>\n",
       "      <td>WOMMELS</td>\n",
       "      <td>Audi</td>\n",
       "      <td>A3</td>\n",
       "      <td>Audi-A3</td>\n",
       "      <td>16.0</td>\n",
       "      <td>1.6 FSI Ambiente</td>\n",
       "      <td>2006.0</td>\n",
       "      <td>2750.0</td>\n",
       "      <td>289500.0</td>\n",
       "      <td>2006-11-01</td>\n",
       "      <td>...</td>\n",
       "      <td>'Central door lock', 'Central door lock with r...</td>\n",
       "      <td>'Alloy wheels (16\")', 'Automatically dimming i...</td>\n",
       "      <td>Blue</td>\n",
       "      <td>None</td>\n",
       "      <td>None</td>\n",
       "      <td>None</td>\n",
       "      <td>None</td>\n",
       "      <td>85.0</td>\n",
       "      <td>116.0</td>\n",
       "      <td>German</td>\n",
       "    </tr>\n",
       "  </tbody>\n",
       "</table>\n",
       "<p>6 rows × 50 columns</p>\n",
       "</div>"
      ],
      "text/plain": [
       "      location  make model make_model   age  \\\n",
       "415  ROTTERDAM  Audi    A3    Audi-A3  12.0   \n",
       "604  ZUILICHEM  Audi    A1    Audi-A1  10.0   \n",
       "607  GORINCHEM  Audi    A1    Audi-A1  12.0   \n",
       "625   OOSTDIJK  Audi    A3    Audi-A3  13.0   \n",
       "635    WOMMELS  Audi    A3    Audi-A3  16.0   \n",
       "638    WOMMELS  Audi    A3    Audi-A3  16.0   \n",
       "\n",
       "                                     short_description    year   price  \\\n",
       "415                                 1.4 TFSI S-edition  2010.0  6749.0   \n",
       "604  1.2 TFSI Connect 2012 Airco Navigatie Cruise C...  2012.0  5950.0   \n",
       "607                          1.2 TFSI Attraction Airco  2010.0  5950.0   \n",
       "625                                1.4 TFSI Attraction  2009.0  5700.0   \n",
       "635                                   1.6 FSI Ambiente  2006.0  2750.0   \n",
       "638                                   1.6 FSI Ambiente  2006.0  2750.0   \n",
       "\n",
       "     mileage_km registration  ...  \\\n",
       "415    220000.0   2010-03-01  ...   \n",
       "604    291473.0   2012-01-01  ...   \n",
       "607    221136.0   2010-12-01  ...   \n",
       "625    200250.0   2009-04-01  ...   \n",
       "635    289500.0   2006-11-01  ...   \n",
       "638    289500.0   2006-11-01  ...   \n",
       "\n",
       "                                     Safety & Security  \\\n",
       "415  'Central door lock with remote control', 'Dayt...   \n",
       "604  'ABS', 'Central door lock', 'Central door lock...   \n",
       "607  'ABS', 'Alarm system', 'Central door lock', 'C...   \n",
       "625  'ABS', 'Central door lock with remote control'...   \n",
       "635  'Central door lock', 'Central door lock with r...   \n",
       "638  'Central door lock', 'Central door lock with r...   \n",
       "\n",
       "                                                extras colour  \\\n",
       "415  'Alloy wheels', 'Roof rack', 'Spoiler', 'Sport...  Black   \n",
       "604                               'Alloy wheels (16\")'  Black   \n",
       "607                                     'Alloy wheels'  White   \n",
       "625  'Alloy wheels (16\")', 'Spare tyre', 'Trailer h...   Blue   \n",
       "635  'Alloy wheels (16\")', 'Automatically dimming i...   Blue   \n",
       "638  'Alloy wheels (16\")', 'Automatically dimming i...   Blue   \n",
       "\n",
       "    manufacturer_color     paint  upholstery_colour   upholstery power_kw  \\\n",
       "415               None      None              Black  Partleather     92.0   \n",
       "604               None      None               None         None     63.0   \n",
       "607               None      None               None        Cloth     63.0   \n",
       "625               None  Metallic               Blue        Cloth     92.0   \n",
       "635               None      None               None         None     85.0   \n",
       "638               None      None               None         None     85.0   \n",
       "\n",
       "    power_hp  make_country  \n",
       "415    125.0        German  \n",
       "604     86.0        German  \n",
       "607     86.0        German  \n",
       "625    125.0        German  \n",
       "635    116.0        German  \n",
       "638    116.0        German  \n",
       "\n",
       "[6 rows x 50 columns]"
      ]
     },
     "execution_count": 21,
     "metadata": {},
     "output_type": "execute_result"
    }
   ],
   "source": [
    "df.loc[df.duplicated(keep=False), :].head(6)"
   ]
  },
  {
   "cell_type": "code",
   "execution_count": 22,
   "id": "f745cbc1-b25a-4583-9d71-7b4109ea2d12",
   "metadata": {},
   "outputs": [
    {
     "data": {
      "text/plain": [
       "2012"
      ]
     },
     "execution_count": 22,
     "metadata": {},
     "output_type": "execute_result"
    }
   ],
   "source": [
    "df.duplicated().sum()"
   ]
  },
  {
   "cell_type": "code",
   "execution_count": 23,
   "id": "ccf12418-1a90-4de1-8dba-cecfe5ac2885",
   "metadata": {},
   "outputs": [
    {
     "data": {
      "text/plain": [
       "2012"
      ]
     },
     "execution_count": 23,
     "metadata": {},
     "output_type": "execute_result"
    }
   ],
   "source": [
    "df.duplicated(keep ='last').sum()"
   ]
  },
  {
   "cell_type": "code",
   "execution_count": 45,
   "id": "e0950609-f94f-40a2-b6c1-89aee36f17f3",
   "metadata": {},
   "outputs": [
    {
     "data": {
      "text/html": [
       "<div>\n",
       "<style scoped>\n",
       "    .dataframe tbody tr th:only-of-type {\n",
       "        vertical-align: middle;\n",
       "    }\n",
       "\n",
       "    .dataframe tbody tr th {\n",
       "        vertical-align: top;\n",
       "    }\n",
       "\n",
       "    .dataframe thead th {\n",
       "        text-align: right;\n",
       "    }\n",
       "</style>\n",
       "<table border=\"1\" class=\"dataframe\">\n",
       "  <thead>\n",
       "    <tr style=\"text-align: right;\">\n",
       "      <th></th>\n",
       "      <th>make</th>\n",
       "      <th>price</th>\n",
       "    </tr>\n",
       "  </thead>\n",
       "  <tbody>\n",
       "    <tr>\n",
       "      <th>0</th>\n",
       "      <td>audi</td>\n",
       "      <td>NaN</td>\n",
       "    </tr>\n",
       "    <tr>\n",
       "      <th>1</th>\n",
       "      <td>audi</td>\n",
       "      <td>200.0</td>\n",
       "    </tr>\n",
       "    <tr>\n",
       "      <th>2</th>\n",
       "      <td>audi</td>\n",
       "      <td>200.0</td>\n",
       "    </tr>\n",
       "    <tr>\n",
       "      <th>3</th>\n",
       "      <td>mercedes</td>\n",
       "      <td>3000.0</td>\n",
       "    </tr>\n",
       "    <tr>\n",
       "      <th>4</th>\n",
       "      <td>NaN</td>\n",
       "      <td>70000.0</td>\n",
       "    </tr>\n",
       "    <tr>\n",
       "      <th>5</th>\n",
       "      <td>honda</td>\n",
       "      <td>NaN</td>\n",
       "    </tr>\n",
       "  </tbody>\n",
       "</table>\n",
       "</div>"
      ],
      "text/plain": [
       "       make    price\n",
       "0      audi      NaN\n",
       "1      audi    200.0\n",
       "2      audi    200.0\n",
       "3  mercedes   3000.0\n",
       "4       NaN  70000.0\n",
       "5     honda      NaN"
      ]
     },
     "execution_count": 45,
     "metadata": {},
     "output_type": "execute_result"
    }
   ],
   "source": [
    "df = pd.DataFrame({\n",
    "    'make': ['audi','audi','audi','mercedes',np.NaN, 'honda'],\n",
    "    'price': [np.NaN,200,200,3000,70000,np.NaN]\n",
    "})\n",
    "df    "
   ]
  },
  {
   "cell_type": "code",
   "execution_count": 46,
   "id": "c4ee57be-9571-4d04-863e-074a0aa91247",
   "metadata": {},
   "outputs": [
    {
     "data": {
      "text/html": [
       "<div>\n",
       "<style scoped>\n",
       "    .dataframe tbody tr th:only-of-type {\n",
       "        vertical-align: middle;\n",
       "    }\n",
       "\n",
       "    .dataframe tbody tr th {\n",
       "        vertical-align: top;\n",
       "    }\n",
       "\n",
       "    .dataframe thead th {\n",
       "        text-align: right;\n",
       "    }\n",
       "</style>\n",
       "<table border=\"1\" class=\"dataframe\">\n",
       "  <thead>\n",
       "    <tr style=\"text-align: right;\">\n",
       "      <th></th>\n",
       "      <th>make</th>\n",
       "      <th>price</th>\n",
       "    </tr>\n",
       "  </thead>\n",
       "  <tbody>\n",
       "    <tr>\n",
       "      <th>2</th>\n",
       "      <td>audi</td>\n",
       "      <td>200.0</td>\n",
       "    </tr>\n",
       "  </tbody>\n",
       "</table>\n",
       "</div>"
      ],
      "text/plain": [
       "   make  price\n",
       "2  audi  200.0"
      ]
     },
     "execution_count": 46,
     "metadata": {},
     "output_type": "execute_result"
    }
   ],
   "source": [
    "df.loc[df.duplicated() , :]"
   ]
  },
  {
   "cell_type": "code",
   "execution_count": 51,
   "id": "db43b020-3a29-40af-b295-5aa8714774e7",
   "metadata": {},
   "outputs": [
    {
     "data": {
      "text/plain": [
       "make     1\n",
       "price    2\n",
       "dtype: int64"
      ]
     },
     "execution_count": 51,
     "metadata": {},
     "output_type": "execute_result"
    }
   ],
   "source": [
    "df.isnull().sum()"
   ]
  },
  {
   "cell_type": "code",
   "execution_count": 59,
   "id": "53523035-e998-4057-a2fe-42ea1d84b658",
   "metadata": {},
   "outputs": [
    {
     "data": {
      "text/html": [
       "<div>\n",
       "<style scoped>\n",
       "    .dataframe tbody tr th:only-of-type {\n",
       "        vertical-align: middle;\n",
       "    }\n",
       "\n",
       "    .dataframe tbody tr th {\n",
       "        vertical-align: top;\n",
       "    }\n",
       "\n",
       "    .dataframe thead th {\n",
       "        text-align: right;\n",
       "    }\n",
       "</style>\n",
       "<table border=\"1\" class=\"dataframe\">\n",
       "  <thead>\n",
       "    <tr style=\"text-align: right;\">\n",
       "      <th></th>\n",
       "      <th>make</th>\n",
       "      <th>price</th>\n",
       "    </tr>\n",
       "  </thead>\n",
       "  <tbody>\n",
       "    <tr>\n",
       "      <th>1</th>\n",
       "      <td>audi</td>\n",
       "      <td>200.0</td>\n",
       "    </tr>\n",
       "    <tr>\n",
       "      <th>2</th>\n",
       "      <td>audi</td>\n",
       "      <td>200.0</td>\n",
       "    </tr>\n",
       "    <tr>\n",
       "      <th>3</th>\n",
       "      <td>mercedes</td>\n",
       "      <td>3000.0</td>\n",
       "    </tr>\n",
       "    <tr>\n",
       "      <th>4</th>\n",
       "      <td>NaN</td>\n",
       "      <td>70000.0</td>\n",
       "    </tr>\n",
       "  </tbody>\n",
       "</table>\n",
       "</div>"
      ],
      "text/plain": [
       "       make    price\n",
       "1      audi    200.0\n",
       "2      audi    200.0\n",
       "3  mercedes   3000.0\n",
       "4       NaN  70000.0"
      ]
     },
     "execution_count": 59,
     "metadata": {},
     "output_type": "execute_result"
    }
   ],
   "source": [
    "df.dropna(subset=['price'], inplace=False)"
   ]
  },
  {
   "cell_type": "code",
   "execution_count": 8,
   "id": "b4f9c3bb-03bc-4a65-a1e1-d6c5a242c876",
   "metadata": {},
   "outputs": [
    {
     "data": {
      "text/html": [
       "<div>\n",
       "<style scoped>\n",
       "    .dataframe tbody tr th:only-of-type {\n",
       "        vertical-align: middle;\n",
       "    }\n",
       "\n",
       "    .dataframe tbody tr th {\n",
       "        vertical-align: top;\n",
       "    }\n",
       "\n",
       "    .dataframe thead th {\n",
       "        text-align: right;\n",
       "    }\n",
       "</style>\n",
       "<table border=\"1\" class=\"dataframe\">\n",
       "  <thead>\n",
       "    <tr style=\"text-align: right;\">\n",
       "      <th></th>\n",
       "      <th>name</th>\n",
       "      <th>toy</th>\n",
       "      <th>born</th>\n",
       "    </tr>\n",
       "  </thead>\n",
       "  <tbody>\n",
       "    <tr>\n",
       "      <th>0</th>\n",
       "      <td>Alfred</td>\n",
       "      <td>NaN</td>\n",
       "      <td>NaT</td>\n",
       "    </tr>\n",
       "    <tr>\n",
       "      <th>1</th>\n",
       "      <td>Batman</td>\n",
       "      <td>Batmobile</td>\n",
       "      <td>1940-04-25</td>\n",
       "    </tr>\n",
       "    <tr>\n",
       "      <th>2</th>\n",
       "      <td>Catwoman</td>\n",
       "      <td>Bullwhip</td>\n",
       "      <td>NaT</td>\n",
       "    </tr>\n",
       "    <tr>\n",
       "      <th>3</th>\n",
       "      <td>NaN</td>\n",
       "      <td>Lego</td>\n",
       "      <td>2020-04-25</td>\n",
       "    </tr>\n",
       "  </tbody>\n",
       "</table>\n",
       "</div>"
      ],
      "text/plain": [
       "       name        toy       born\n",
       "0    Alfred        NaN        NaT\n",
       "1    Batman  Batmobile 1940-04-25\n",
       "2  Catwoman   Bullwhip        NaT\n",
       "3       NaN       Lego 2020-04-25"
      ]
     },
     "execution_count": 8,
     "metadata": {},
     "output_type": "execute_result"
    }
   ],
   "source": [
    "df = pd.DataFrame({\"name\": ['Alfred', 'Batman', 'Catwoman', np.NAN],\n",
    "\n",
    "                   \"toy\": [np.nan, 'Batmobile', 'Bullwhip', 'Lego'],\n",
    "\n",
    "                   \"born\": [pd.NaT, pd.Timestamp(\"1940-04-25\"),\n",
    "\n",
    "                            pd.NaT, pd.Timestamp(\"2020-04-25\")]})\n",
    "df"
   ]
  },
  {
   "cell_type": "code",
   "execution_count": 12,
   "id": "837f3f97-bb05-46b4-ba72-d58faec42364",
   "metadata": {},
   "outputs": [
    {
     "data": {
      "text/html": [
       "<div>\n",
       "<style scoped>\n",
       "    .dataframe tbody tr th:only-of-type {\n",
       "        vertical-align: middle;\n",
       "    }\n",
       "\n",
       "    .dataframe tbody tr th {\n",
       "        vertical-align: top;\n",
       "    }\n",
       "\n",
       "    .dataframe thead th {\n",
       "        text-align: right;\n",
       "    }\n",
       "</style>\n",
       "<table border=\"1\" class=\"dataframe\">\n",
       "  <thead>\n",
       "    <tr style=\"text-align: right;\">\n",
       "      <th></th>\n",
       "      <th>name</th>\n",
       "      <th>toy</th>\n",
       "      <th>born</th>\n",
       "    </tr>\n",
       "  </thead>\n",
       "  <tbody>\n",
       "    <tr>\n",
       "      <th>1</th>\n",
       "      <td>Batman</td>\n",
       "      <td>Batmobile</td>\n",
       "      <td>1940-04-25</td>\n",
       "    </tr>\n",
       "    <tr>\n",
       "      <th>2</th>\n",
       "      <td>Catwoman</td>\n",
       "      <td>Bullwhip</td>\n",
       "      <td>NaT</td>\n",
       "    </tr>\n",
       "  </tbody>\n",
       "</table>\n",
       "</div>"
      ],
      "text/plain": [
       "       name        toy       born\n",
       "1    Batman  Batmobile 1940-04-25\n",
       "2  Catwoman   Bullwhip        NaT"
      ]
     },
     "execution_count": 12,
     "metadata": {},
     "output_type": "execute_result"
    }
   ],
   "source": [
    "df.dropna(subset=['name', 'toy'], how='any')"
   ]
  },
  {
   "cell_type": "code",
   "execution_count": 16,
   "id": "e7d46e74-1a38-4cc8-b83f-32f146a38d48",
   "metadata": {},
   "outputs": [
    {
     "data": {
      "text/html": [
       "<div>\n",
       "<style scoped>\n",
       "    .dataframe tbody tr th:only-of-type {\n",
       "        vertical-align: middle;\n",
       "    }\n",
       "\n",
       "    .dataframe tbody tr th {\n",
       "        vertical-align: top;\n",
       "    }\n",
       "\n",
       "    .dataframe thead th {\n",
       "        text-align: right;\n",
       "    }\n",
       "</style>\n",
       "<table border=\"1\" class=\"dataframe\">\n",
       "  <thead>\n",
       "    <tr style=\"text-align: right;\">\n",
       "      <th></th>\n",
       "      <th>location</th>\n",
       "      <th>make</th>\n",
       "      <th>model</th>\n",
       "      <th>make_model</th>\n",
       "      <th>age</th>\n",
       "      <th>short_description</th>\n",
       "      <th>year</th>\n",
       "      <th>price</th>\n",
       "      <th>mileage_km</th>\n",
       "      <th>registration</th>\n",
       "      <th>...</th>\n",
       "      <th>Safety &amp; Security</th>\n",
       "      <th>extras</th>\n",
       "      <th>colour</th>\n",
       "      <th>manufacturer_color</th>\n",
       "      <th>paint</th>\n",
       "      <th>upholstery_colour</th>\n",
       "      <th>upholstery</th>\n",
       "      <th>power_kw</th>\n",
       "      <th>power_hp</th>\n",
       "      <th>make_country</th>\n",
       "    </tr>\n",
       "  </thead>\n",
       "  <tbody>\n",
       "    <tr>\n",
       "      <th>0</th>\n",
       "      <td>APLHEN AAN DEN RIJN</td>\n",
       "      <td>BMW</td>\n",
       "      <td>316</td>\n",
       "      <td>BMW-316</td>\n",
       "      <td>21.0</td>\n",
       "      <td>Compact 316ti Executive</td>\n",
       "      <td>2001.0</td>\n",
       "      <td>1450.0</td>\n",
       "      <td>231339.0</td>\n",
       "      <td>2001-09-01</td>\n",
       "      <td>...</td>\n",
       "      <td>'ABS', 'Alarm system', 'Central door lock', 'C...</td>\n",
       "      <td>'Sport suspension'</td>\n",
       "      <td>Blue</td>\n",
       "      <td>None</td>\n",
       "      <td>Metallic</td>\n",
       "      <td>None</td>\n",
       "      <td>Cloth</td>\n",
       "      <td>85.0</td>\n",
       "      <td>116.0</td>\n",
       "      <td>German</td>\n",
       "    </tr>\n",
       "  </tbody>\n",
       "</table>\n",
       "<p>1 rows × 50 columns</p>\n",
       "</div>"
      ],
      "text/plain": [
       "              location make model make_model   age        short_description  \\\n",
       "0  APLHEN AAN DEN RIJN  BMW   316    BMW-316  21.0  Compact 316ti Executive   \n",
       "\n",
       "     year   price  mileage_km registration  ...  \\\n",
       "0  2001.0  1450.0    231339.0   2001-09-01  ...   \n",
       "\n",
       "                                   Safety & Security              extras  \\\n",
       "0  'ABS', 'Alarm system', 'Central door lock', 'C...  'Sport suspension'   \n",
       "\n",
       "  colour manufacturer_color     paint  upholstery_colour  upholstery power_kw  \\\n",
       "0   Blue               None  Metallic               None       Cloth     85.0   \n",
       "\n",
       "  power_hp  make_country  \n",
       "0    116.0        German  \n",
       "\n",
       "[1 rows x 50 columns]"
      ]
     },
     "execution_count": 16,
     "metadata": {},
     "output_type": "execute_result"
    }
   ],
   "source": [
    "df = pd.read_csv('df_mer_bmw.csv')\n",
    "df.drop('Unnamed: 0', axis=1, inplace= True)\n",
    "df.head(1)\n"
   ]
  },
  {
   "cell_type": "code",
   "execution_count": 90,
   "id": "4e56f525-253b-4332-9d93-0066e54e2eb5",
   "metadata": {},
   "outputs": [
    {
     "data": {
      "text/plain": [
       "(294,)"
      ]
     },
     "execution_count": 90,
     "metadata": {},
     "output_type": "execute_result"
    }
   ],
   "source": [
    "small_30_tf = (df.make_model.value_counts() < 30)\n",
    "(small_30_tf).index.values"
   ]
  },
  {
   "cell_type": "code",
   "execution_count": 71,
   "id": "19337567-da45-4529-8d4b-e6610bc3fa88",
   "metadata": {},
   "outputs": [
    {
     "data": {
      "text/plain": [
       "MercedesBenz-S300      True\n",
       "BMW-M850               True\n",
       "BMW-620                True\n",
       "BMW-425                True\n",
       "MercedesBenz-ML450     True\n",
       "                      ...  \n",
       "BMW-330               False\n",
       "BMW-218               False\n",
       "MercedesBenz-C180     False\n",
       "BMW-X5                False\n",
       "BMW-320               False\n",
       "Name: make_model, Length: 294, dtype: bool"
      ]
     },
     "execution_count": 71,
     "metadata": {},
     "output_type": "execute_result"
    }
   ],
   "source": [
    "(df.make_model.value_counts(ascending= True) < 30)"
   ]
  },
  {
   "cell_type": "code",
   "execution_count": 72,
   "id": "03a42682-f1c4-423e-a1f5-f2cff3f29cd6",
   "metadata": {},
   "outputs": [
    {
     "data": {
      "text/plain": [
       "Index(['MercedesBenz-S300', 'BMW-M850', 'BMW-620', 'BMW-425',\n",
       "       'MercedesBenz-ML450', 'MercedesBenz-S550', 'BMW-ActiveHybridX6',\n",
       "       'MercedesBenz-CLA35AMG', 'BMW-123', 'MercedesBenz-E430',\n",
       "       ...\n",
       "       'MercedesBenz-B180', 'BMW-318', 'BMW-118', 'BMW-X1',\n",
       "       'MercedesBenz-A180', 'BMW-330', 'BMW-218', 'MercedesBenz-C180',\n",
       "       'BMW-X5', 'BMW-320'],\n",
       "      dtype='object', length=294)"
      ]
     },
     "execution_count": 72,
     "metadata": {},
     "output_type": "execute_result"
    }
   ],
   "source": [
    "(df.make_model.value_counts(ascending= True) < 30).index"
   ]
  },
  {
   "cell_type": "code",
   "execution_count": 185,
   "id": "f7b871be-c07b-4169-a718-22e50c872e38",
   "metadata": {},
   "outputs": [
    {
     "data": {
      "text/plain": [
       "['BMW-645',\n",
       " 'BMW-430',\n",
       " 'BMW-X4',\n",
       " 'MercedesBenz-A220',\n",
       " 'BMW-135',\n",
       " 'MercedesBenz-S320',\n",
       " 'MercedesBenz-C63AMG',\n",
       " 'MercedesBenz-S500',\n",
       " 'BMW-440',\n",
       " 'MercedesBenz-E280']"
      ]
     },
     "execution_count": 185,
     "metadata": {},
     "output_type": "execute_result"
    }
   ],
   "source": [
    "[i for i in small_30_tf.index if small_30_tf[i]][:10]"
   ]
  },
  {
   "cell_type": "code",
   "execution_count": 96,
   "id": "4bf6997a-58f6-454f-8748-e93e08860b6c",
   "metadata": {},
   "outputs": [
    {
     "data": {
      "text/plain": [
       "(203,)"
      ]
     },
     "execution_count": 96,
     "metadata": {},
     "output_type": "execute_result"
    }
   ],
   "source": [
    "small_30_tf[small_30_tf].index.shape"
   ]
  },
  {
   "cell_type": "code",
   "execution_count": 84,
   "id": "aed59e44-57b7-4f72-a7ca-b496743349ee",
   "metadata": {},
   "outputs": [
    {
     "data": {
      "text/plain": [
       "0     True\n",
       "1    False\n",
       "2     True\n",
       "3     True\n",
       "4    False\n",
       "5    False\n",
       "6    False\n",
       "7     True\n",
       "dtype: bool"
      ]
     },
     "execution_count": 84,
     "metadata": {},
     "output_type": "execute_result"
    }
   ],
   "source": [
    "s = pd.Series([True, False, True, True, False, False, False, True])\n",
    "s"
   ]
  },
  {
   "cell_type": "code",
   "execution_count": 85,
   "id": "494de46f-5d0c-49bd-8474-53fbc4b10631",
   "metadata": {},
   "outputs": [
    {
     "data": {
      "text/plain": [
       "RangeIndex(start=0, stop=8, step=1)"
      ]
     },
     "execution_count": 85,
     "metadata": {},
     "output_type": "execute_result"
    }
   ],
   "source": [
    "s.index"
   ]
  },
  {
   "cell_type": "code",
   "execution_count": 86,
   "id": "c06aacbd-efe5-4e70-9024-60d32d4a7000",
   "metadata": {},
   "outputs": [
    {
     "data": {
      "text/plain": [
       "array([0, 1, 2, 3, 4, 5, 6, 7])"
      ]
     },
     "execution_count": 86,
     "metadata": {},
     "output_type": "execute_result"
    }
   ],
   "source": [
    "s.index.values"
   ]
  },
  {
   "cell_type": "code",
   "execution_count": 87,
   "id": "39fb7dbf-fce0-4113-8d99-ae83a3f32dbe",
   "metadata": {},
   "outputs": [
    {
     "data": {
      "text/plain": [
       "Int64Index([0, 2, 3, 7], dtype='int64')"
      ]
     },
     "execution_count": 87,
     "metadata": {},
     "output_type": "execute_result"
    }
   ],
   "source": [
    "s[s].index"
   ]
  },
  {
   "cell_type": "code",
   "execution_count": 89,
   "id": "18ea81d0-ce57-4779-ac5a-d97e391a0f4b",
   "metadata": {},
   "outputs": [
    {
     "data": {
      "text/plain": [
       "2"
      ]
     },
     "execution_count": 89,
     "metadata": {},
     "output_type": "execute_result"
    }
   ],
   "source": [
    "s[s].index.values"
   ]
  },
  {
   "cell_type": "code",
   "execution_count": 152,
   "id": "41f596c8-8909-48ab-9f1f-3ea447bdb9ca",
   "metadata": {},
   "outputs": [
    {
     "data": {
      "text/plain": [
       "Index(['BMW-645', 'BMW-430', 'BMW-X4', 'MercedesBenz-A220', 'BMW-135',\n",
       "       'MercedesBenz-S320', 'MercedesBenz-C63AMG', 'MercedesBenz-S500',\n",
       "       'BMW-440', 'MercedesBenz-E280',\n",
       "       ...\n",
       "       'BMW-X3M', 'MercedesBenz-GLK300', 'MercedesBenz-GL63AMG',\n",
       "       'MercedesBenz-GLA35AMG', 'MercedesBenz-E430', 'MercedesBenz-CLS63AMG',\n",
       "       'MercedesBenz-S550', 'MercedesBenz-CLA35AMG', 'MercedesBenz-416',\n",
       "       'MercedesBenz-S300'],\n",
       "      dtype='object', length=203)"
      ]
     },
     "execution_count": 152,
     "metadata": {},
     "output_type": "execute_result"
    }
   ],
   "source": [
    "aranan = small_30_tf[small_30_tf].index\n",
    "aranan"
   ]
  },
  {
   "cell_type": "code",
   "execution_count": 168,
   "id": "0fb98503-4633-4668-af89-e2ff9778dc08",
   "metadata": {},
   "outputs": [
    {
     "data": {
      "text/plain": [
       "203"
      ]
     },
     "execution_count": 168,
     "metadata": {},
     "output_type": "execute_result"
    }
   ],
   "source": [
    "list_aranan = list(aranan)\n",
    "len(list_aranan)\n"
   ]
  },
  {
   "cell_type": "code",
   "execution_count": 101,
   "id": "d99026f6-79fe-48bf-b71c-70bd0bac1af1",
   "metadata": {},
   "outputs": [
    {
     "data": {
      "text/html": [
       "<div>\n",
       "<style scoped>\n",
       "    .dataframe tbody tr th:only-of-type {\n",
       "        vertical-align: middle;\n",
       "    }\n",
       "\n",
       "    .dataframe tbody tr th {\n",
       "        vertical-align: top;\n",
       "    }\n",
       "\n",
       "    .dataframe thead th {\n",
       "        text-align: right;\n",
       "    }\n",
       "</style>\n",
       "<table border=\"1\" class=\"dataframe\">\n",
       "  <thead>\n",
       "    <tr style=\"text-align: right;\">\n",
       "      <th></th>\n",
       "      <th>location</th>\n",
       "      <th>make</th>\n",
       "      <th>model</th>\n",
       "      <th>make_model</th>\n",
       "      <th>age</th>\n",
       "      <th>short_description</th>\n",
       "      <th>year</th>\n",
       "      <th>price</th>\n",
       "      <th>mileage_km</th>\n",
       "      <th>registration</th>\n",
       "      <th>...</th>\n",
       "      <th>Safety &amp; Security</th>\n",
       "      <th>extras</th>\n",
       "      <th>colour</th>\n",
       "      <th>manufacturer_color</th>\n",
       "      <th>paint</th>\n",
       "      <th>upholstery_colour</th>\n",
       "      <th>upholstery</th>\n",
       "      <th>power_kw</th>\n",
       "      <th>power_hp</th>\n",
       "      <th>make_country</th>\n",
       "    </tr>\n",
       "  </thead>\n",
       "  <tbody>\n",
       "    <tr>\n",
       "      <th>0</th>\n",
       "      <td>APLHEN AAN DEN RIJN</td>\n",
       "      <td>BMW</td>\n",
       "      <td>316</td>\n",
       "      <td>BMW-316</td>\n",
       "      <td>21.0</td>\n",
       "      <td>Compact 316ti Executive</td>\n",
       "      <td>2001.0</td>\n",
       "      <td>1450.0</td>\n",
       "      <td>231339.0</td>\n",
       "      <td>2001-09-01</td>\n",
       "      <td>...</td>\n",
       "      <td>'ABS', 'Alarm system', 'Central door lock', 'C...</td>\n",
       "      <td>'Sport suspension'</td>\n",
       "      <td>Blue</td>\n",
       "      <td>None</td>\n",
       "      <td>Metallic</td>\n",
       "      <td>None</td>\n",
       "      <td>Cloth</td>\n",
       "      <td>85.0</td>\n",
       "      <td>116.0</td>\n",
       "      <td>German</td>\n",
       "    </tr>\n",
       "  </tbody>\n",
       "</table>\n",
       "<p>1 rows × 50 columns</p>\n",
       "</div>"
      ],
      "text/plain": [
       "              location make model make_model   age        short_description  \\\n",
       "0  APLHEN AAN DEN RIJN  BMW   316    BMW-316  21.0  Compact 316ti Executive   \n",
       "\n",
       "     year   price  mileage_km registration  ...  \\\n",
       "0  2001.0  1450.0    231339.0   2001-09-01  ...   \n",
       "\n",
       "                                   Safety & Security              extras  \\\n",
       "0  'ABS', 'Alarm system', 'Central door lock', 'C...  'Sport suspension'   \n",
       "\n",
       "  colour manufacturer_color     paint  upholstery_colour  upholstery power_kw  \\\n",
       "0   Blue               None  Metallic               None       Cloth     85.0   \n",
       "\n",
       "  power_hp  make_country  \n",
       "0    116.0        German  \n",
       "\n",
       "[1 rows x 50 columns]"
      ]
     },
     "execution_count": 101,
     "metadata": {},
     "output_type": "execute_result"
    }
   ],
   "source": [
    "df.head(1)"
   ]
  },
  {
   "cell_type": "code",
   "execution_count": 133,
   "id": "163fa88a-23e8-4134-887a-5131ab3ea629",
   "metadata": {},
   "outputs": [
    {
     "data": {
      "text/html": [
       "<div>\n",
       "<style scoped>\n",
       "    .dataframe tbody tr th:only-of-type {\n",
       "        vertical-align: middle;\n",
       "    }\n",
       "\n",
       "    .dataframe tbody tr th {\n",
       "        vertical-align: top;\n",
       "    }\n",
       "\n",
       "    .dataframe thead th {\n",
       "        text-align: right;\n",
       "    }\n",
       "</style>\n",
       "<table border=\"1\" class=\"dataframe\">\n",
       "  <thead>\n",
       "    <tr style=\"text-align: right;\">\n",
       "      <th></th>\n",
       "      <th>make_model</th>\n",
       "      <th>price</th>\n",
       "    </tr>\n",
       "  </thead>\n",
       "  <tbody>\n",
       "    <tr>\n",
       "      <th>10415</th>\n",
       "      <td>MercedesBenz-AMGGT</td>\n",
       "      <td>1250000.0</td>\n",
       "    </tr>\n",
       "    <tr>\n",
       "      <th>11276</th>\n",
       "      <td>MercedesBenz-G400</td>\n",
       "      <td>999999.0</td>\n",
       "    </tr>\n",
       "  </tbody>\n",
       "</table>\n",
       "</div>"
      ],
      "text/plain": [
       "               make_model      price\n",
       "10415  MercedesBenz-AMGGT  1250000.0\n",
       "11276   MercedesBenz-G400   999999.0"
      ]
     },
     "execution_count": 133,
     "metadata": {},
     "output_type": "execute_result"
    }
   ],
   "source": [
    "df.loc[(df.price > 300000), ['make_model' , 'price'] ]"
   ]
  },
  {
   "cell_type": "code",
   "execution_count": 141,
   "id": "44690837-ac1a-4532-9a17-e69562f68a27",
   "metadata": {},
   "outputs": [
    {
     "data": {
      "text/plain": [
       "Int64Index([10415, 11276], dtype='int64')"
      ]
     },
     "execution_count": 141,
     "metadata": {},
     "output_type": "execute_result"
    }
   ],
   "source": [
    "(df.price > 300000)[(df.price > 300000)]"
   ]
  },
  {
   "cell_type": "code",
   "execution_count": 169,
   "id": "1720f6d1-b6a8-4286-9745-67b4c4642dc3",
   "metadata": {},
   "outputs": [],
   "source": [
    "\n",
    "criteria = df['make_model'].map(lambda x :  x in list_aranan)"
   ]
  },
  {
   "cell_type": "code",
   "execution_count": 175,
   "id": "977219ee-b1e2-4b53-915c-9dd462c4eb54",
   "metadata": {},
   "outputs": [
    {
     "data": {
      "text/plain": [
       "make_model\n",
       "BMW-114               17\n",
       "BMW-123                1\n",
       "BMW-125               23\n",
       "BMW-130                6\n",
       "BMW-135               27\n",
       "                      ..\n",
       "MercedesBenz-V250     18\n",
       "MercedesBenz-V300      9\n",
       "MercedesBenz-Viano    16\n",
       "MercedesBenz-X250     10\n",
       "MercedesBenz-X350      4\n",
       "Name: model, Length: 203, dtype: int64"
      ]
     },
     "execution_count": 175,
     "metadata": {},
     "output_type": "execute_result"
    }
   ],
   "source": [
    "df[criteria].groupby('make_model')['model'].count()"
   ]
  },
  {
   "cell_type": "code",
   "execution_count": 177,
   "id": "4d958927-edce-44dd-b508-f352724251c5",
   "metadata": {},
   "outputs": [
    {
     "data": {
      "text/plain": [
       "Int64Index([    5,     6,    16,   115,   147,   185,   191,   193,   202,\n",
       "              204,\n",
       "            ...\n",
       "            13718, 13720, 13770, 13775, 13788, 13797, 13923, 13936, 13945,\n",
       "            13952],\n",
       "           dtype='int64', length=1561)"
      ]
     },
     "execution_count": 177,
     "metadata": {},
     "output_type": "execute_result"
    }
   ],
   "source": [
    "df[criteria].index"
   ]
  },
  {
   "cell_type": "code",
   "execution_count": 178,
   "id": "e131c0bd-6e72-4a9e-ad30-f7b13334ce76",
   "metadata": {},
   "outputs": [
    {
     "data": {
      "text/plain": [
       "RangeIndex(start=0, stop=13956, step=1)"
      ]
     },
     "execution_count": 178,
     "metadata": {},
     "output_type": "execute_result"
    }
   ],
   "source": [
    "df.index"
   ]
  },
  {
   "cell_type": "code",
   "execution_count": 179,
   "id": "0dd2897c-46fd-4675-aee1-9e5319658356",
   "metadata": {},
   "outputs": [
    {
     "data": {
      "text/plain": [
       "Int64Index([    5,     6,    16,   115,   147,   185,   191,   193,   202,\n",
       "              204,\n",
       "            ...\n",
       "            13718, 13720, 13770, 13775, 13788, 13797, 13923, 13936, 13945,\n",
       "            13952],\n",
       "           dtype='int64', length=1561)"
      ]
     },
     "execution_count": 179,
     "metadata": {},
     "output_type": "execute_result"
    }
   ],
   "source": [
    "small_30_tf = (df.make_model.value_counts() < 30)\n",
    "\n",
    "aranan = small_30_tf[small_30_tf].index\n",
    "\n",
    "list_aranan = list(aranan)\n",
    "\n",
    "criteria = df['make_model'].map(lambda x :  x in list_aranan)\n",
    "\n",
    "df[criteria].index"
   ]
  },
  {
   "cell_type": "code",
   "execution_count": 180,
   "id": "de782ea1-fb17-49f8-9e21-292d623252a1",
   "metadata": {},
   "outputs": [
    {
     "data": {
      "text/plain": [
       "(13956, 50)"
      ]
     },
     "execution_count": 180,
     "metadata": {},
     "output_type": "execute_result"
    }
   ],
   "source": [
    "df.shape"
   ]
  },
  {
   "cell_type": "code",
   "execution_count": 181,
   "id": "882f80a8-3091-4977-a985-0e30ef3e8019",
   "metadata": {},
   "outputs": [
    {
     "data": {
      "text/plain": [
       "(12395, 50)"
      ]
     },
     "execution_count": 181,
     "metadata": {},
     "output_type": "execute_result"
    }
   ],
   "source": [
    "df.drop(index= df[criteria].index ).shape"
   ]
  },
  {
   "cell_type": "code",
   "execution_count": 182,
   "id": "3cf3b6d5-83d8-404d-a238-94142f03c7e1",
   "metadata": {},
   "outputs": [
    {
     "data": {
      "text/plain": [
       "BMW-320                  False\n",
       "BMW-X5                   False\n",
       "MercedesBenz-C180        False\n",
       "BMW-218                  False\n",
       "BMW-330                  False\n",
       "                         ...  \n",
       "MercedesBenz-CLS63AMG     True\n",
       "MercedesBenz-S550         True\n",
       "MercedesBenz-CLA35AMG     True\n",
       "MercedesBenz-416          True\n",
       "MercedesBenz-S300         True\n",
       "Name: make_model, Length: 294, dtype: bool"
      ]
     },
     "execution_count": 182,
     "metadata": {},
     "output_type": "execute_result"
    }
   ],
   "source": [
    "small_30_tf"
   ]
  },
  {
   "cell_type": "code",
   "execution_count": 184,
   "id": "f86f3e3c-3d60-44c8-8db5-96717db3f8a3",
   "metadata": {},
   "outputs": [
    {
     "data": {
      "text/plain": [
       "BMW-320                  False\n",
       "BMW-X5                   False\n",
       "MercedesBenz-C180        False\n",
       "BMW-218                  False\n",
       "BMW-330                  False\n",
       "                         ...  \n",
       "MercedesBenz-CLS63AMG     True\n",
       "MercedesBenz-S550         True\n",
       "MercedesBenz-CLA35AMG     True\n",
       "MercedesBenz-416          True\n",
       "MercedesBenz-S300         True\n",
       "Name: make_model, Length: 294, dtype: bool"
      ]
     },
     "execution_count": 184,
     "metadata": {},
     "output_type": "execute_result"
    }
   ],
   "source": [
    "(df.make_model.value_counts() < 30)"
   ]
  },
  {
   "cell_type": "code",
   "execution_count": 186,
   "id": "3b9bb2a8-c798-495a-ab43-2452bbf3b731",
   "metadata": {},
   "outputs": [
    {
     "data": {
      "text/html": [
       "<div>\n",
       "<style scoped>\n",
       "    .dataframe tbody tr th:only-of-type {\n",
       "        vertical-align: middle;\n",
       "    }\n",
       "\n",
       "    .dataframe tbody tr th {\n",
       "        vertical-align: top;\n",
       "    }\n",
       "\n",
       "    .dataframe thead th {\n",
       "        text-align: right;\n",
       "    }\n",
       "</style>\n",
       "<table border=\"1\" class=\"dataframe\">\n",
       "  <thead>\n",
       "    <tr style=\"text-align: right;\">\n",
       "      <th></th>\n",
       "      <th>make</th>\n",
       "      <th>price</th>\n",
       "    </tr>\n",
       "  </thead>\n",
       "  <tbody>\n",
       "    <tr>\n",
       "      <th>0</th>\n",
       "      <td>audi</td>\n",
       "      <td>NaN</td>\n",
       "    </tr>\n",
       "    <tr>\n",
       "      <th>1</th>\n",
       "      <td>audi</td>\n",
       "      <td>200.0</td>\n",
       "    </tr>\n",
       "    <tr>\n",
       "      <th>2</th>\n",
       "      <td>audi</td>\n",
       "      <td>200.0</td>\n",
       "    </tr>\n",
       "    <tr>\n",
       "      <th>3</th>\n",
       "      <td>mercedes</td>\n",
       "      <td>3000.0</td>\n",
       "    </tr>\n",
       "    <tr>\n",
       "      <th>4</th>\n",
       "      <td>NaN</td>\n",
       "      <td>70000.0</td>\n",
       "    </tr>\n",
       "    <tr>\n",
       "      <th>5</th>\n",
       "      <td>honda</td>\n",
       "      <td>NaN</td>\n",
       "    </tr>\n",
       "  </tbody>\n",
       "</table>\n",
       "</div>"
      ],
      "text/plain": [
       "       make    price\n",
       "0      audi      NaN\n",
       "1      audi    200.0\n",
       "2      audi    200.0\n",
       "3  mercedes   3000.0\n",
       "4       NaN  70000.0\n",
       "5     honda      NaN"
      ]
     },
     "execution_count": 186,
     "metadata": {},
     "output_type": "execute_result"
    }
   ],
   "source": [
    "df = pd.DataFrame({\n",
    "    'make': ['audi','audi','audi','mercedes',np.NaN, 'honda'],\n",
    "    'price': [np.NaN,200,200,3000,70000,np.NaN]\n",
    "})\n",
    "df    "
   ]
  },
  {
   "cell_type": "code",
   "execution_count": 188,
   "id": "fc8c7ebe-9d48-4402-a654-ac2c7f69b589",
   "metadata": {},
   "outputs": [
    {
     "data": {
      "text/html": [
       "<div>\n",
       "<style scoped>\n",
       "    .dataframe tbody tr th:only-of-type {\n",
       "        vertical-align: middle;\n",
       "    }\n",
       "\n",
       "    .dataframe tbody tr th {\n",
       "        vertical-align: top;\n",
       "    }\n",
       "\n",
       "    .dataframe thead th {\n",
       "        text-align: right;\n",
       "    }\n",
       "</style>\n",
       "<table border=\"1\" class=\"dataframe\">\n",
       "  <thead>\n",
       "    <tr style=\"text-align: right;\">\n",
       "      <th></th>\n",
       "      <th>make</th>\n",
       "      <th>price</th>\n",
       "      <th>country</th>\n",
       "    </tr>\n",
       "  </thead>\n",
       "  <tbody>\n",
       "    <tr>\n",
       "      <th>0</th>\n",
       "      <td>audi</td>\n",
       "      <td>NaN</td>\n",
       "      <td>german</td>\n",
       "    </tr>\n",
       "    <tr>\n",
       "      <th>1</th>\n",
       "      <td>audi</td>\n",
       "      <td>200.0</td>\n",
       "      <td>german</td>\n",
       "    </tr>\n",
       "    <tr>\n",
       "      <th>2</th>\n",
       "      <td>audi</td>\n",
       "      <td>200.0</td>\n",
       "      <td>german</td>\n",
       "    </tr>\n",
       "    <tr>\n",
       "      <th>3</th>\n",
       "      <td>mercedes</td>\n",
       "      <td>3000.0</td>\n",
       "      <td>german</td>\n",
       "    </tr>\n",
       "    <tr>\n",
       "      <th>4</th>\n",
       "      <td>NaN</td>\n",
       "      <td>70000.0</td>\n",
       "      <td>NaN</td>\n",
       "    </tr>\n",
       "    <tr>\n",
       "      <th>5</th>\n",
       "      <td>honda</td>\n",
       "      <td>NaN</td>\n",
       "      <td>japan</td>\n",
       "    </tr>\n",
       "  </tbody>\n",
       "</table>\n",
       "</div>"
      ],
      "text/plain": [
       "       make    price country\n",
       "0      audi      NaN  german\n",
       "1      audi    200.0  german\n",
       "2      audi    200.0  german\n",
       "3  mercedes   3000.0  german\n",
       "4       NaN  70000.0     NaN\n",
       "5     honda      NaN   japan"
      ]
     },
     "execution_count": 188,
     "metadata": {},
     "output_type": "execute_result"
    }
   ],
   "source": [
    "make_to_country = {'audi' : 'german',\n",
    "                   'mercedes' : 'german',\n",
    "                   'honda' : 'japan'\n",
    "}\n",
    "df['country'] = df.make.map(make_to_country)\n",
    "df"
   ]
  },
  {
   "cell_type": "code",
   "execution_count": 189,
   "id": "b1775cb1-fec7-4fa0-871a-4d7d1c3bf8c3",
   "metadata": {},
   "outputs": [
    {
     "data": {
      "text/html": [
       "<div>\n",
       "<style scoped>\n",
       "    .dataframe tbody tr th:only-of-type {\n",
       "        vertical-align: middle;\n",
       "    }\n",
       "\n",
       "    .dataframe tbody tr th {\n",
       "        vertical-align: top;\n",
       "    }\n",
       "\n",
       "    .dataframe thead th {\n",
       "        text-align: right;\n",
       "    }\n",
       "</style>\n",
       "<table border=\"1\" class=\"dataframe\">\n",
       "  <thead>\n",
       "    <tr style=\"text-align: right;\">\n",
       "      <th></th>\n",
       "      <th>make</th>\n",
       "      <th>price</th>\n",
       "    </tr>\n",
       "  </thead>\n",
       "  <tbody>\n",
       "    <tr>\n",
       "      <th>0</th>\n",
       "      <td>audi</td>\n",
       "      <td>NaN</td>\n",
       "    </tr>\n",
       "    <tr>\n",
       "      <th>1</th>\n",
       "      <td>audi</td>\n",
       "      <td>200.0</td>\n",
       "    </tr>\n",
       "    <tr>\n",
       "      <th>2</th>\n",
       "      <td>audi</td>\n",
       "      <td>200.0</td>\n",
       "    </tr>\n",
       "    <tr>\n",
       "      <th>3</th>\n",
       "      <td>mercedes</td>\n",
       "      <td>3000.0</td>\n",
       "    </tr>\n",
       "    <tr>\n",
       "      <th>4</th>\n",
       "      <td>NaN</td>\n",
       "      <td>70000.0</td>\n",
       "    </tr>\n",
       "    <tr>\n",
       "      <th>5</th>\n",
       "      <td>honda</td>\n",
       "      <td>NaN</td>\n",
       "    </tr>\n",
       "  </tbody>\n",
       "</table>\n",
       "</div>"
      ],
      "text/plain": [
       "       make    price\n",
       "0      audi      NaN\n",
       "1      audi    200.0\n",
       "2      audi    200.0\n",
       "3  mercedes   3000.0\n",
       "4       NaN  70000.0\n",
       "5     honda      NaN"
      ]
     },
     "execution_count": 189,
     "metadata": {},
     "output_type": "execute_result"
    }
   ],
   "source": [
    "df = pd.DataFrame({\n",
    "    'make': ['audi','audi','audi','mercedes',np.NaN, 'honda'],\n",
    "    'price': [np.NaN,200,200,3000,70000,np.NaN]\n",
    "})\n",
    "df    "
   ]
  },
  {
   "cell_type": "code",
   "execution_count": 190,
   "id": "2d0878a0-4949-4715-bcc1-06f2bc22c622",
   "metadata": {},
   "outputs": [
    {
     "ename": "TypeError",
     "evalue": "unhashable type: 'list'",
     "output_type": "error",
     "traceback": [
      "\u001b[0;31m---------------------------------------------------------------------------\u001b[0m",
      "\u001b[0;31mTypeError\u001b[0m                                 Traceback (most recent call last)",
      "Input \u001b[0;32mIn [190]\u001b[0m, in \u001b[0;36m<cell line: 1>\u001b[0;34m()\u001b[0m\n\u001b[0;32m----> 1\u001b[0m make_to_country \u001b[38;5;241m=\u001b[39m {[\u001b[38;5;124m'\u001b[39m\u001b[38;5;124maudi\u001b[39m\u001b[38;5;124m'\u001b[39m , \u001b[38;5;124m'\u001b[39m\u001b[38;5;124mmercedes\u001b[39m\u001b[38;5;124m'\u001b[39m] : \u001b[38;5;124m'\u001b[39m\u001b[38;5;124mgerman\u001b[39m\u001b[38;5;124m'\u001b[39m,\n\u001b[1;32m      2\u001b[0m                    \u001b[38;5;124m'\u001b[39m\u001b[38;5;124mhonda\u001b[39m\u001b[38;5;124m'\u001b[39m : \u001b[38;5;124m'\u001b[39m\u001b[38;5;124mjapan\u001b[39m\u001b[38;5;124m'\u001b[39m\n\u001b[1;32m      3\u001b[0m }\n\u001b[1;32m      4\u001b[0m df[\u001b[38;5;124m'\u001b[39m\u001b[38;5;124mcountry\u001b[39m\u001b[38;5;124m'\u001b[39m] \u001b[38;5;241m=\u001b[39m df\u001b[38;5;241m.\u001b[39mmake\u001b[38;5;241m.\u001b[39mmap(make_to_country)\n\u001b[1;32m      5\u001b[0m df\n",
      "\u001b[0;31mTypeError\u001b[0m: unhashable type: 'list'"
     ]
    }
   ],
   "source": [
    "make_to_country = {['audi' , 'mercedes'] : 'german',\n",
    "                   'honda' : 'japan'\n",
    "}\n",
    "df['country'] = df.make.map(make_to_country)\n",
    "df"
   ]
  },
  {
   "cell_type": "code",
   "execution_count": 192,
   "id": "a5fbe0b2-506d-4fec-93aa-68570660cda4",
   "metadata": {},
   "outputs": [
    {
     "data": {
      "text/html": [
       "<div>\n",
       "<style scoped>\n",
       "    .dataframe tbody tr th:only-of-type {\n",
       "        vertical-align: middle;\n",
       "    }\n",
       "\n",
       "    .dataframe tbody tr th {\n",
       "        vertical-align: top;\n",
       "    }\n",
       "\n",
       "    .dataframe thead th {\n",
       "        text-align: right;\n",
       "    }\n",
       "</style>\n",
       "<table border=\"1\" class=\"dataframe\">\n",
       "  <thead>\n",
       "    <tr style=\"text-align: right;\">\n",
       "      <th></th>\n",
       "      <th>a</th>\n",
       "      <th>b</th>\n",
       "    </tr>\n",
       "  </thead>\n",
       "  <tbody>\n",
       "    <tr>\n",
       "      <th>0</th>\n",
       "      <td>1</td>\n",
       "      <td>1</td>\n",
       "    </tr>\n",
       "    <tr>\n",
       "      <th>1</th>\n",
       "      <td>2</td>\n",
       "      <td>10</td>\n",
       "    </tr>\n",
       "    <tr>\n",
       "      <th>2</th>\n",
       "      <td>3</td>\n",
       "      <td>100</td>\n",
       "    </tr>\n",
       "    <tr>\n",
       "      <th>3</th>\n",
       "      <td>4</td>\n",
       "      <td>100</td>\n",
       "    </tr>\n",
       "  </tbody>\n",
       "</table>\n",
       "</div>"
      ],
      "text/plain": [
       "   a    b\n",
       "0  1    1\n",
       "1  2   10\n",
       "2  3  100\n",
       "3  4  100"
      ]
     },
     "execution_count": 192,
     "metadata": {},
     "output_type": "execute_result"
    }
   ],
   "source": [
    "df = pd.DataFrame(np.array([[1, 1], [2, 10], [3, 100], [4, 100]]),\n",
    "\n",
    "                  columns=['a', 'b'])\n",
    "\n",
    "df"
   ]
  },
  {
   "cell_type": "code",
   "execution_count": 195,
   "id": "8245c25c-8a95-407e-a2d3-193a6f0a553e",
   "metadata": {},
   "outputs": [
    {
     "data": {
      "text/plain": [
       "a      3.97\n",
       "b    100.00\n",
       "Name: 0.99, dtype: float64"
      ]
     },
     "execution_count": 195,
     "metadata": {},
     "output_type": "execute_result"
    }
   ],
   "source": [
    "df.quantile(0.99)"
   ]
  },
  {
   "cell_type": "code",
   "execution_count": 197,
   "id": "11d3474a-db10-41ad-ab08-8239c06ae42d",
   "metadata": {},
   "outputs": [
    {
     "data": {
      "text/plain": [
       "0    a\n",
       "1    b\n",
       "2    c\n",
       "3    a\n",
       "dtype: object"
      ]
     },
     "execution_count": 197,
     "metadata": {},
     "output_type": "execute_result"
    }
   ],
   "source": [
    "s = pd.Series(list('abca'))\n",
    "s"
   ]
  },
  {
   "cell_type": "code",
   "execution_count": 198,
   "id": "ba7c30aa-466a-4609-99cf-eb8b7f710d4b",
   "metadata": {},
   "outputs": [
    {
     "data": {
      "text/html": [
       "<div>\n",
       "<style scoped>\n",
       "    .dataframe tbody tr th:only-of-type {\n",
       "        vertical-align: middle;\n",
       "    }\n",
       "\n",
       "    .dataframe tbody tr th {\n",
       "        vertical-align: top;\n",
       "    }\n",
       "\n",
       "    .dataframe thead th {\n",
       "        text-align: right;\n",
       "    }\n",
       "</style>\n",
       "<table border=\"1\" class=\"dataframe\">\n",
       "  <thead>\n",
       "    <tr style=\"text-align: right;\">\n",
       "      <th></th>\n",
       "      <th>a</th>\n",
       "      <th>b</th>\n",
       "    </tr>\n",
       "  </thead>\n",
       "  <tbody>\n",
       "    <tr>\n",
       "      <th>0</th>\n",
       "      <td>1</td>\n",
       "      <td>1</td>\n",
       "    </tr>\n",
       "    <tr>\n",
       "      <th>1</th>\n",
       "      <td>2</td>\n",
       "      <td>10</td>\n",
       "    </tr>\n",
       "    <tr>\n",
       "      <th>2</th>\n",
       "      <td>3</td>\n",
       "      <td>100</td>\n",
       "    </tr>\n",
       "    <tr>\n",
       "      <th>3</th>\n",
       "      <td>4</td>\n",
       "      <td>100</td>\n",
       "    </tr>\n",
       "  </tbody>\n",
       "</table>\n",
       "</div>"
      ],
      "text/plain": [
       "   a    b\n",
       "0  1    1\n",
       "1  2   10\n",
       "2  3  100\n",
       "3  4  100"
      ]
     },
     "execution_count": 198,
     "metadata": {},
     "output_type": "execute_result"
    }
   ],
   "source": [
    "df.head()"
   ]
  },
  {
   "cell_type": "code",
   "execution_count": 200,
   "id": "1baa92ec-00c7-4b79-954e-c9ee7535853a",
   "metadata": {},
   "outputs": [
    {
     "data": {
      "text/plain": [
       "2    100\n",
       "3    100\n",
       "Name: b, dtype: int64"
      ]
     },
     "execution_count": 200,
     "metadata": {},
     "output_type": "execute_result"
    }
   ],
   "source": [
    "df.b.loc[df.b >50]"
   ]
  },
  {
   "cell_type": "code",
   "execution_count": 201,
   "id": "ef8d7dd7-a41a-4cfe-a876-c8f7e6b325b5",
   "metadata": {},
   "outputs": [
    {
     "data": {
      "text/plain": [
       "2    9999\n",
       "3    9999\n",
       "Name: b, dtype: int64"
      ]
     },
     "execution_count": 201,
     "metadata": {},
     "output_type": "execute_result"
    }
   ],
   "source": [
    "df.b.loc[df.b >50] = 9999\n",
    "df.b.loc[df.b >50]"
   ]
  },
  {
   "cell_type": "code",
   "execution_count": 202,
   "id": "19d6ec0a-db30-4462-8453-9b3f161c031c",
   "metadata": {},
   "outputs": [
    {
     "data": {
      "text/html": [
       "<div>\n",
       "<style scoped>\n",
       "    .dataframe tbody tr th:only-of-type {\n",
       "        vertical-align: middle;\n",
       "    }\n",
       "\n",
       "    .dataframe tbody tr th {\n",
       "        vertical-align: top;\n",
       "    }\n",
       "\n",
       "    .dataframe thead th {\n",
       "        text-align: right;\n",
       "    }\n",
       "</style>\n",
       "<table border=\"1\" class=\"dataframe\">\n",
       "  <thead>\n",
       "    <tr style=\"text-align: right;\">\n",
       "      <th></th>\n",
       "      <th>a</th>\n",
       "      <th>b</th>\n",
       "    </tr>\n",
       "  </thead>\n",
       "  <tbody>\n",
       "    <tr>\n",
       "      <th>0</th>\n",
       "      <td>1</td>\n",
       "      <td>1</td>\n",
       "    </tr>\n",
       "    <tr>\n",
       "      <th>1</th>\n",
       "      <td>2</td>\n",
       "      <td>10</td>\n",
       "    </tr>\n",
       "    <tr>\n",
       "      <th>2</th>\n",
       "      <td>3</td>\n",
       "      <td>9999</td>\n",
       "    </tr>\n",
       "    <tr>\n",
       "      <th>3</th>\n",
       "      <td>4</td>\n",
       "      <td>9999</td>\n",
       "    </tr>\n",
       "  </tbody>\n",
       "</table>\n",
       "</div>"
      ],
      "text/plain": [
       "   a     b\n",
       "0  1     1\n",
       "1  2    10\n",
       "2  3  9999\n",
       "3  4  9999"
      ]
     },
     "execution_count": 202,
     "metadata": {},
     "output_type": "execute_result"
    }
   ],
   "source": [
    "df"
   ]
  },
  {
   "cell_type": "code",
   "execution_count": 2,
   "id": "4430e0c1-0ed6-4191-9b85-7c15ec1b5933",
   "metadata": {},
   "outputs": [],
   "source": [
    "from sklearn.compose import make_column_transformer\n",
    "from sklearn.preprocessing import OneHotEncoder\n",
    "from sklearn.linear_model import LinearRegression\n",
    "from sklearn.pipeline import make_pipeline\n",
    "from sklearn.model_selection import cross_val_score"
   ]
  },
  {
   "cell_type": "code",
   "execution_count": 13,
   "id": "003741e7-67ba-4429-8815-78ea6c842041",
   "metadata": {},
   "outputs": [
    {
     "data": {
      "text/html": [
       "<div>\n",
       "<style scoped>\n",
       "    .dataframe tbody tr th:only-of-type {\n",
       "        vertical-align: middle;\n",
       "    }\n",
       "\n",
       "    .dataframe tbody tr th {\n",
       "        vertical-align: top;\n",
       "    }\n",
       "\n",
       "    .dataframe thead th {\n",
       "        text-align: right;\n",
       "    }\n",
       "</style>\n",
       "<table border=\"1\" class=\"dataframe\">\n",
       "  <thead>\n",
       "    <tr style=\"text-align: right;\">\n",
       "      <th></th>\n",
       "      <th>PassengerId</th>\n",
       "      <th>Survived</th>\n",
       "      <th>Pclass</th>\n",
       "      <th>Name</th>\n",
       "      <th>Sex</th>\n",
       "      <th>Age</th>\n",
       "      <th>SibSp</th>\n",
       "      <th>Parch</th>\n",
       "      <th>Ticket</th>\n",
       "      <th>Fare</th>\n",
       "      <th>Cabin</th>\n",
       "      <th>Embarked</th>\n",
       "    </tr>\n",
       "  </thead>\n",
       "  <tbody>\n",
       "    <tr>\n",
       "      <th>0</th>\n",
       "      <td>1</td>\n",
       "      <td>0</td>\n",
       "      <td>3</td>\n",
       "      <td>Braund, Mr. Owen Harris</td>\n",
       "      <td>male</td>\n",
       "      <td>22.0</td>\n",
       "      <td>1</td>\n",
       "      <td>0</td>\n",
       "      <td>A/5 21171</td>\n",
       "      <td>7.2500</td>\n",
       "      <td>NaN</td>\n",
       "      <td>S</td>\n",
       "    </tr>\n",
       "    <tr>\n",
       "      <th>1</th>\n",
       "      <td>2</td>\n",
       "      <td>1</td>\n",
       "      <td>1</td>\n",
       "      <td>Cumings, Mrs. John Bradley (Florence Briggs Th...</td>\n",
       "      <td>female</td>\n",
       "      <td>38.0</td>\n",
       "      <td>1</td>\n",
       "      <td>0</td>\n",
       "      <td>PC 17599</td>\n",
       "      <td>71.2833</td>\n",
       "      <td>C85</td>\n",
       "      <td>C</td>\n",
       "    </tr>\n",
       "    <tr>\n",
       "      <th>2</th>\n",
       "      <td>3</td>\n",
       "      <td>1</td>\n",
       "      <td>3</td>\n",
       "      <td>Heikkinen, Miss. Laina</td>\n",
       "      <td>female</td>\n",
       "      <td>26.0</td>\n",
       "      <td>0</td>\n",
       "      <td>0</td>\n",
       "      <td>STON/O2. 3101282</td>\n",
       "      <td>7.9250</td>\n",
       "      <td>NaN</td>\n",
       "      <td>S</td>\n",
       "    </tr>\n",
       "    <tr>\n",
       "      <th>3</th>\n",
       "      <td>4</td>\n",
       "      <td>1</td>\n",
       "      <td>1</td>\n",
       "      <td>Futrelle, Mrs. Jacques Heath (Lily May Peel)</td>\n",
       "      <td>female</td>\n",
       "      <td>35.0</td>\n",
       "      <td>1</td>\n",
       "      <td>0</td>\n",
       "      <td>113803</td>\n",
       "      <td>53.1000</td>\n",
       "      <td>C123</td>\n",
       "      <td>S</td>\n",
       "    </tr>\n",
       "    <tr>\n",
       "      <th>4</th>\n",
       "      <td>5</td>\n",
       "      <td>0</td>\n",
       "      <td>3</td>\n",
       "      <td>Allen, Mr. William Henry</td>\n",
       "      <td>male</td>\n",
       "      <td>35.0</td>\n",
       "      <td>0</td>\n",
       "      <td>0</td>\n",
       "      <td>373450</td>\n",
       "      <td>8.0500</td>\n",
       "      <td>NaN</td>\n",
       "      <td>S</td>\n",
       "    </tr>\n",
       "  </tbody>\n",
       "</table>\n",
       "</div>"
      ],
      "text/plain": [
       "   PassengerId  Survived  Pclass  \\\n",
       "0            1         0       3   \n",
       "1            2         1       1   \n",
       "2            3         1       3   \n",
       "3            4         1       1   \n",
       "4            5         0       3   \n",
       "\n",
       "                                                Name     Sex   Age  SibSp  \\\n",
       "0                            Braund, Mr. Owen Harris    male  22.0      1   \n",
       "1  Cumings, Mrs. John Bradley (Florence Briggs Th...  female  38.0      1   \n",
       "2                             Heikkinen, Miss. Laina  female  26.0      0   \n",
       "3       Futrelle, Mrs. Jacques Heath (Lily May Peel)  female  35.0      1   \n",
       "4                           Allen, Mr. William Henry    male  35.0      0   \n",
       "\n",
       "   Parch            Ticket     Fare Cabin Embarked  \n",
       "0      0         A/5 21171   7.2500   NaN        S  \n",
       "1      0          PC 17599  71.2833   C85        C  \n",
       "2      0  STON/O2. 3101282   7.9250   NaN        S  \n",
       "3      0            113803  53.1000  C123        S  \n",
       "4      0            373450   8.0500   NaN        S  "
      ]
     },
     "execution_count": 13,
     "metadata": {},
     "output_type": "execute_result"
    }
   ],
   "source": [
    "df = pd.read_csv('titanic.csv')\n",
    "df.head()"
   ]
  },
  {
   "cell_type": "code",
   "execution_count": 14,
   "id": "56c9bc5c-0ec9-4d7b-9fd4-6f1f63c2c674",
   "metadata": {},
   "outputs": [
    {
     "data": {
      "text/plain": [
       "PassengerId      0\n",
       "Survived         0\n",
       "Pclass           0\n",
       "Name             0\n",
       "Sex              0\n",
       "Age            177\n",
       "SibSp            0\n",
       "Parch            0\n",
       "Ticket           0\n",
       "Fare             0\n",
       "Cabin          687\n",
       "Embarked         2\n",
       "dtype: int64"
      ]
     },
     "execution_count": 14,
     "metadata": {},
     "output_type": "execute_result"
    }
   ],
   "source": [
    "df.isnull().sum()"
   ]
  },
  {
   "cell_type": "code",
   "execution_count": 15,
   "id": "1b3390f9-213f-4674-8ea2-ae1612dd4c10",
   "metadata": {},
   "outputs": [
    {
     "data": {
      "text/plain": [
       "array([22116.15639432, 20575.34491639, 14825.92010352, 18720.31927493,\n",
       "       20046.44711295, 23837.85638874, 16337.23308209,  5473.44882059])"
      ]
     },
     "execution_count": 15,
     "metadata": {},
     "output_type": "execute_result"
    }
   ],
   "source": [
    "np.array([ 22116.15639432,  20575.34491639,  14825.92010352,  18720.31927493,\n",
    "        20046.44711295,  23837.85638874,  16337.23308209,   5473.44882059])"
   ]
  },
  {
   "cell_type": "code",
   "execution_count": 18,
   "id": "12faf412-5a56-4f4d-b948-d9bf7c969229",
   "metadata": {},
   "outputs": [
    {
     "data": {
      "text/html": [
       "<div>\n",
       "<style scoped>\n",
       "    .dataframe tbody tr th:only-of-type {\n",
       "        vertical-align: middle;\n",
       "    }\n",
       "\n",
       "    .dataframe tbody tr th {\n",
       "        vertical-align: top;\n",
       "    }\n",
       "\n",
       "    .dataframe thead th {\n",
       "        text-align: right;\n",
       "    }\n",
       "</style>\n",
       "<table border=\"1\" class=\"dataframe\">\n",
       "  <thead>\n",
       "    <tr style=\"text-align: right;\">\n",
       "      <th></th>\n",
       "      <th>PassengerId</th>\n",
       "      <th>Survived</th>\n",
       "      <th>Pclass</th>\n",
       "      <th>Name</th>\n",
       "      <th>Sex</th>\n",
       "      <th>Age</th>\n",
       "      <th>SibSp</th>\n",
       "      <th>Parch</th>\n",
       "      <th>Ticket</th>\n",
       "      <th>Fare</th>\n",
       "      <th>Cabin</th>\n",
       "      <th>Embarked</th>\n",
       "    </tr>\n",
       "  </thead>\n",
       "  <tbody>\n",
       "    <tr>\n",
       "      <th>0</th>\n",
       "      <td>1</td>\n",
       "      <td>0</td>\n",
       "      <td>3</td>\n",
       "      <td>Braund, Mr. Owen Harris</td>\n",
       "      <td>male</td>\n",
       "      <td>22.0</td>\n",
       "      <td>1</td>\n",
       "      <td>0</td>\n",
       "      <td>A/5 21171</td>\n",
       "      <td>7.2500</td>\n",
       "      <td>NaN</td>\n",
       "      <td>S</td>\n",
       "    </tr>\n",
       "    <tr>\n",
       "      <th>1</th>\n",
       "      <td>2</td>\n",
       "      <td>1</td>\n",
       "      <td>1</td>\n",
       "      <td>Cumings, Mrs. John Bradley (Florence Briggs Th...</td>\n",
       "      <td>female</td>\n",
       "      <td>38.0</td>\n",
       "      <td>1</td>\n",
       "      <td>0</td>\n",
       "      <td>PC 17599</td>\n",
       "      <td>71.2833</td>\n",
       "      <td>C85</td>\n",
       "      <td>C</td>\n",
       "    </tr>\n",
       "    <tr>\n",
       "      <th>2</th>\n",
       "      <td>3</td>\n",
       "      <td>1</td>\n",
       "      <td>3</td>\n",
       "      <td>Heikkinen, Miss. Laina</td>\n",
       "      <td>female</td>\n",
       "      <td>26.0</td>\n",
       "      <td>0</td>\n",
       "      <td>0</td>\n",
       "      <td>STON/O2. 3101282</td>\n",
       "      <td>7.9250</td>\n",
       "      <td>NaN</td>\n",
       "      <td>S</td>\n",
       "    </tr>\n",
       "    <tr>\n",
       "      <th>3</th>\n",
       "      <td>4</td>\n",
       "      <td>1</td>\n",
       "      <td>1</td>\n",
       "      <td>Futrelle, Mrs. Jacques Heath (Lily May Peel)</td>\n",
       "      <td>female</td>\n",
       "      <td>35.0</td>\n",
       "      <td>1</td>\n",
       "      <td>0</td>\n",
       "      <td>113803</td>\n",
       "      <td>53.1000</td>\n",
       "      <td>C123</td>\n",
       "      <td>S</td>\n",
       "    </tr>\n",
       "    <tr>\n",
       "      <th>4</th>\n",
       "      <td>5</td>\n",
       "      <td>0</td>\n",
       "      <td>3</td>\n",
       "      <td>Allen, Mr. William Henry</td>\n",
       "      <td>male</td>\n",
       "      <td>35.0</td>\n",
       "      <td>0</td>\n",
       "      <td>0</td>\n",
       "      <td>373450</td>\n",
       "      <td>8.0500</td>\n",
       "      <td>NaN</td>\n",
       "      <td>S</td>\n",
       "    </tr>\n",
       "    <tr>\n",
       "      <th>5</th>\n",
       "      <td>6</td>\n",
       "      <td>0</td>\n",
       "      <td>3</td>\n",
       "      <td>Moran, Mr. James</td>\n",
       "      <td>male</td>\n",
       "      <td>NaN</td>\n",
       "      <td>0</td>\n",
       "      <td>0</td>\n",
       "      <td>330877</td>\n",
       "      <td>8.4583</td>\n",
       "      <td>NaN</td>\n",
       "      <td>Q</td>\n",
       "    </tr>\n",
       "    <tr>\n",
       "      <th>6</th>\n",
       "      <td>7</td>\n",
       "      <td>0</td>\n",
       "      <td>1</td>\n",
       "      <td>McCarthy, Mr. Timothy J</td>\n",
       "      <td>male</td>\n",
       "      <td>54.0</td>\n",
       "      <td>0</td>\n",
       "      <td>0</td>\n",
       "      <td>17463</td>\n",
       "      <td>51.8625</td>\n",
       "      <td>E46</td>\n",
       "      <td>S</td>\n",
       "    </tr>\n",
       "    <tr>\n",
       "      <th>7</th>\n",
       "      <td>8</td>\n",
       "      <td>0</td>\n",
       "      <td>3</td>\n",
       "      <td>Palsson, Master. Gosta Leonard</td>\n",
       "      <td>male</td>\n",
       "      <td>2.0</td>\n",
       "      <td>3</td>\n",
       "      <td>1</td>\n",
       "      <td>349909</td>\n",
       "      <td>21.0750</td>\n",
       "      <td>NaN</td>\n",
       "      <td>S</td>\n",
       "    </tr>\n",
       "  </tbody>\n",
       "</table>\n",
       "</div>"
      ],
      "text/plain": [
       "   PassengerId  Survived  Pclass  \\\n",
       "0            1         0       3   \n",
       "1            2         1       1   \n",
       "2            3         1       3   \n",
       "3            4         1       1   \n",
       "4            5         0       3   \n",
       "5            6         0       3   \n",
       "6            7         0       1   \n",
       "7            8         0       3   \n",
       "\n",
       "                                                Name     Sex   Age  SibSp  \\\n",
       "0                            Braund, Mr. Owen Harris    male  22.0      1   \n",
       "1  Cumings, Mrs. John Bradley (Florence Briggs Th...  female  38.0      1   \n",
       "2                             Heikkinen, Miss. Laina  female  26.0      0   \n",
       "3       Futrelle, Mrs. Jacques Heath (Lily May Peel)  female  35.0      1   \n",
       "4                           Allen, Mr. William Henry    male  35.0      0   \n",
       "5                                   Moran, Mr. James    male   NaN      0   \n",
       "6                            McCarthy, Mr. Timothy J    male  54.0      0   \n",
       "7                     Palsson, Master. Gosta Leonard    male   2.0      3   \n",
       "\n",
       "   Parch            Ticket     Fare Cabin Embarked  \n",
       "0      0         A/5 21171   7.2500   NaN        S  \n",
       "1      0          PC 17599  71.2833   C85        C  \n",
       "2      0  STON/O2. 3101282   7.9250   NaN        S  \n",
       "3      0            113803  53.1000  C123        S  \n",
       "4      0            373450   8.0500   NaN        S  \n",
       "5      0            330877   8.4583   NaN        Q  \n",
       "6      0             17463  51.8625   E46        S  \n",
       "7      1            349909  21.0750   NaN        S  "
      ]
     },
     "execution_count": 18,
     "metadata": {},
     "output_type": "execute_result"
    }
   ],
   "source": [
    "df08 = df.head(8)\n",
    "df08"
   ]
  },
  {
   "cell_type": "code",
   "execution_count": 21,
   "id": "8bc28648-a133-485a-8bcb-3bd462014d32",
   "metadata": {},
   "outputs": [
    {
     "data": {
      "text/html": [
       "<div>\n",
       "<style scoped>\n",
       "    .dataframe tbody tr th:only-of-type {\n",
       "        vertical-align: middle;\n",
       "    }\n",
       "\n",
       "    .dataframe tbody tr th {\n",
       "        vertical-align: top;\n",
       "    }\n",
       "\n",
       "    .dataframe thead th {\n",
       "        text-align: right;\n",
       "    }\n",
       "</style>\n",
       "<table border=\"1\" class=\"dataframe\">\n",
       "  <thead>\n",
       "    <tr style=\"text-align: right;\">\n",
       "      <th></th>\n",
       "      <th>Predict</th>\n",
       "    </tr>\n",
       "  </thead>\n",
       "  <tbody>\n",
       "    <tr>\n",
       "      <th>0</th>\n",
       "      <td>22116.156394</td>\n",
       "    </tr>\n",
       "    <tr>\n",
       "      <th>1</th>\n",
       "      <td>20575.344916</td>\n",
       "    </tr>\n",
       "    <tr>\n",
       "      <th>2</th>\n",
       "      <td>14825.920104</td>\n",
       "    </tr>\n",
       "    <tr>\n",
       "      <th>3</th>\n",
       "      <td>18720.319275</td>\n",
       "    </tr>\n",
       "    <tr>\n",
       "      <th>4</th>\n",
       "      <td>20046.447113</td>\n",
       "    </tr>\n",
       "    <tr>\n",
       "      <th>5</th>\n",
       "      <td>23837.856389</td>\n",
       "    </tr>\n",
       "    <tr>\n",
       "      <th>6</th>\n",
       "      <td>16337.233082</td>\n",
       "    </tr>\n",
       "    <tr>\n",
       "      <th>7</th>\n",
       "      <td>5473.448821</td>\n",
       "    </tr>\n",
       "  </tbody>\n",
       "</table>\n",
       "</div>"
      ],
      "text/plain": [
       "        Predict\n",
       "0  22116.156394\n",
       "1  20575.344916\n",
       "2  14825.920104\n",
       "3  18720.319275\n",
       "4  20046.447113\n",
       "5  23837.856389\n",
       "6  16337.233082\n",
       "7   5473.448821"
      ]
     },
     "execution_count": 21,
     "metadata": {},
     "output_type": "execute_result"
    }
   ],
   "source": [
    "df_pre = pd.DataFrame({'Predict' : np.array([ 22116.15639432,  20575.34491639,  14825.92010352,  18720.31927493,\n",
    "        20046.44711295,  23837.85638874,  16337.23308209,   5473.44882059])})\n",
    "\n",
    "df_pre"
   ]
  },
  {
   "cell_type": "code",
   "execution_count": 23,
   "id": "6cdb410f-7935-4c8c-930c-84f5a9a9ba71",
   "metadata": {},
   "outputs": [
    {
     "data": {
      "text/html": [
       "<div>\n",
       "<style scoped>\n",
       "    .dataframe tbody tr th:only-of-type {\n",
       "        vertical-align: middle;\n",
       "    }\n",
       "\n",
       "    .dataframe tbody tr th {\n",
       "        vertical-align: top;\n",
       "    }\n",
       "\n",
       "    .dataframe thead th {\n",
       "        text-align: right;\n",
       "    }\n",
       "</style>\n",
       "<table border=\"1\" class=\"dataframe\">\n",
       "  <thead>\n",
       "    <tr style=\"text-align: right;\">\n",
       "      <th></th>\n",
       "      <th>PassengerId</th>\n",
       "      <th>Survived</th>\n",
       "      <th>Pclass</th>\n",
       "      <th>Name</th>\n",
       "      <th>Sex</th>\n",
       "      <th>Age</th>\n",
       "      <th>SibSp</th>\n",
       "      <th>Parch</th>\n",
       "      <th>Ticket</th>\n",
       "      <th>Fare</th>\n",
       "      <th>Cabin</th>\n",
       "      <th>Embarked</th>\n",
       "      <th>Predict</th>\n",
       "    </tr>\n",
       "  </thead>\n",
       "  <tbody>\n",
       "    <tr>\n",
       "      <th>0</th>\n",
       "      <td>1</td>\n",
       "      <td>0</td>\n",
       "      <td>3</td>\n",
       "      <td>Braund, Mr. Owen Harris</td>\n",
       "      <td>male</td>\n",
       "      <td>22.0</td>\n",
       "      <td>1</td>\n",
       "      <td>0</td>\n",
       "      <td>A/5 21171</td>\n",
       "      <td>7.2500</td>\n",
       "      <td>NaN</td>\n",
       "      <td>S</td>\n",
       "      <td>22116.156394</td>\n",
       "    </tr>\n",
       "    <tr>\n",
       "      <th>1</th>\n",
       "      <td>2</td>\n",
       "      <td>1</td>\n",
       "      <td>1</td>\n",
       "      <td>Cumings, Mrs. John Bradley (Florence Briggs Th...</td>\n",
       "      <td>female</td>\n",
       "      <td>38.0</td>\n",
       "      <td>1</td>\n",
       "      <td>0</td>\n",
       "      <td>PC 17599</td>\n",
       "      <td>71.2833</td>\n",
       "      <td>C85</td>\n",
       "      <td>C</td>\n",
       "      <td>20575.344916</td>\n",
       "    </tr>\n",
       "    <tr>\n",
       "      <th>2</th>\n",
       "      <td>3</td>\n",
       "      <td>1</td>\n",
       "      <td>3</td>\n",
       "      <td>Heikkinen, Miss. Laina</td>\n",
       "      <td>female</td>\n",
       "      <td>26.0</td>\n",
       "      <td>0</td>\n",
       "      <td>0</td>\n",
       "      <td>STON/O2. 3101282</td>\n",
       "      <td>7.9250</td>\n",
       "      <td>NaN</td>\n",
       "      <td>S</td>\n",
       "      <td>14825.920104</td>\n",
       "    </tr>\n",
       "    <tr>\n",
       "      <th>3</th>\n",
       "      <td>4</td>\n",
       "      <td>1</td>\n",
       "      <td>1</td>\n",
       "      <td>Futrelle, Mrs. Jacques Heath (Lily May Peel)</td>\n",
       "      <td>female</td>\n",
       "      <td>35.0</td>\n",
       "      <td>1</td>\n",
       "      <td>0</td>\n",
       "      <td>113803</td>\n",
       "      <td>53.1000</td>\n",
       "      <td>C123</td>\n",
       "      <td>S</td>\n",
       "      <td>18720.319275</td>\n",
       "    </tr>\n",
       "    <tr>\n",
       "      <th>4</th>\n",
       "      <td>5</td>\n",
       "      <td>0</td>\n",
       "      <td>3</td>\n",
       "      <td>Allen, Mr. William Henry</td>\n",
       "      <td>male</td>\n",
       "      <td>35.0</td>\n",
       "      <td>0</td>\n",
       "      <td>0</td>\n",
       "      <td>373450</td>\n",
       "      <td>8.0500</td>\n",
       "      <td>NaN</td>\n",
       "      <td>S</td>\n",
       "      <td>20046.447113</td>\n",
       "    </tr>\n",
       "    <tr>\n",
       "      <th>5</th>\n",
       "      <td>6</td>\n",
       "      <td>0</td>\n",
       "      <td>3</td>\n",
       "      <td>Moran, Mr. James</td>\n",
       "      <td>male</td>\n",
       "      <td>NaN</td>\n",
       "      <td>0</td>\n",
       "      <td>0</td>\n",
       "      <td>330877</td>\n",
       "      <td>8.4583</td>\n",
       "      <td>NaN</td>\n",
       "      <td>Q</td>\n",
       "      <td>23837.856389</td>\n",
       "    </tr>\n",
       "    <tr>\n",
       "      <th>6</th>\n",
       "      <td>7</td>\n",
       "      <td>0</td>\n",
       "      <td>1</td>\n",
       "      <td>McCarthy, Mr. Timothy J</td>\n",
       "      <td>male</td>\n",
       "      <td>54.0</td>\n",
       "      <td>0</td>\n",
       "      <td>0</td>\n",
       "      <td>17463</td>\n",
       "      <td>51.8625</td>\n",
       "      <td>E46</td>\n",
       "      <td>S</td>\n",
       "      <td>16337.233082</td>\n",
       "    </tr>\n",
       "    <tr>\n",
       "      <th>7</th>\n",
       "      <td>8</td>\n",
       "      <td>0</td>\n",
       "      <td>3</td>\n",
       "      <td>Palsson, Master. Gosta Leonard</td>\n",
       "      <td>male</td>\n",
       "      <td>2.0</td>\n",
       "      <td>3</td>\n",
       "      <td>1</td>\n",
       "      <td>349909</td>\n",
       "      <td>21.0750</td>\n",
       "      <td>NaN</td>\n",
       "      <td>S</td>\n",
       "      <td>5473.448821</td>\n",
       "    </tr>\n",
       "  </tbody>\n",
       "</table>\n",
       "</div>"
      ],
      "text/plain": [
       "   PassengerId  Survived  Pclass  \\\n",
       "0            1         0       3   \n",
       "1            2         1       1   \n",
       "2            3         1       3   \n",
       "3            4         1       1   \n",
       "4            5         0       3   \n",
       "5            6         0       3   \n",
       "6            7         0       1   \n",
       "7            8         0       3   \n",
       "\n",
       "                                                Name     Sex   Age  SibSp  \\\n",
       "0                            Braund, Mr. Owen Harris    male  22.0      1   \n",
       "1  Cumings, Mrs. John Bradley (Florence Briggs Th...  female  38.0      1   \n",
       "2                             Heikkinen, Miss. Laina  female  26.0      0   \n",
       "3       Futrelle, Mrs. Jacques Heath (Lily May Peel)  female  35.0      1   \n",
       "4                           Allen, Mr. William Henry    male  35.0      0   \n",
       "5                                   Moran, Mr. James    male   NaN      0   \n",
       "6                            McCarthy, Mr. Timothy J    male  54.0      0   \n",
       "7                     Palsson, Master. Gosta Leonard    male   2.0      3   \n",
       "\n",
       "   Parch            Ticket     Fare Cabin Embarked       Predict  \n",
       "0      0         A/5 21171   7.2500   NaN        S  22116.156394  \n",
       "1      0          PC 17599  71.2833   C85        C  20575.344916  \n",
       "2      0  STON/O2. 3101282   7.9250   NaN        S  14825.920104  \n",
       "3      0            113803  53.1000  C123        S  18720.319275  \n",
       "4      0            373450   8.0500   NaN        S  20046.447113  \n",
       "5      0            330877   8.4583   NaN        Q  23837.856389  \n",
       "6      0             17463  51.8625   E46        S  16337.233082  \n",
       "7      1            349909  21.0750   NaN        S   5473.448821  "
      ]
     },
     "execution_count": 23,
     "metadata": {},
     "output_type": "execute_result"
    }
   ],
   "source": [
    "df_new = pd.concat([df08, df_pre], axis=1 , ignore_index=False)\n",
    "df_new"
   ]
  },
  {
   "cell_type": "code",
   "execution_count": null,
   "id": "d56c3ce5-e82e-4884-83f9-4058ff5b0610",
   "metadata": {},
   "outputs": [],
   "source": []
  },
  {
   "cell_type": "markdown",
   "id": "ef3b4119-6e9d-4fe5-a585-f02b11a47cea",
   "metadata": {},
   "source": [
    "# LOAD DATASET"
   ]
  },
  {
   "cell_type": "code",
   "execution_count": 91,
   "id": "4ac64eda-e377-422f-9ef9-10ebf7ba31a4",
   "metadata": {},
   "outputs": [
    {
     "name": "stdout",
     "output_type": "stream",
     "text": [
      "  make model  year  mileage_km  price    Gearbox fuel_type colour  seller\n",
      "0  BMW   316  2001      231339   1450  Automatic  Gasoline   Blue  Dealer\n",
      "1  BMW   320  2016      105267  22490  Automatic  Gasoline  Black  Dealer\n"
     ]
    },
    {
     "data": {
      "text/html": [
       "<div>\n",
       "<style scoped>\n",
       "    .dataframe tbody tr th:only-of-type {\n",
       "        vertical-align: middle;\n",
       "    }\n",
       "\n",
       "    .dataframe tbody tr th {\n",
       "        vertical-align: top;\n",
       "    }\n",
       "\n",
       "    .dataframe thead th {\n",
       "        text-align: right;\n",
       "    }\n",
       "</style>\n",
       "<table border=\"1\" class=\"dataframe\">\n",
       "  <thead>\n",
       "    <tr style=\"text-align: right;\">\n",
       "      <th></th>\n",
       "      <th>year</th>\n",
       "      <th>mileage_km</th>\n",
       "      <th>model_BMW</th>\n",
       "      <th>model_MercedesBenz</th>\n",
       "      <th>model_116</th>\n",
       "      <th>model_118</th>\n",
       "      <th>model_120</th>\n",
       "      <th>model_216</th>\n",
       "      <th>model_218</th>\n",
       "      <th>model_220</th>\n",
       "      <th>...</th>\n",
       "      <th>model_Grey</th>\n",
       "      <th>model_None</th>\n",
       "      <th>model_Orange</th>\n",
       "      <th>model_Red</th>\n",
       "      <th>model_Silver</th>\n",
       "      <th>model_Violet</th>\n",
       "      <th>model_White</th>\n",
       "      <th>model_Yellow</th>\n",
       "      <th>model_Dealer</th>\n",
       "      <th>model_Privateseller</th>\n",
       "    </tr>\n",
       "  </thead>\n",
       "  <tbody>\n",
       "    <tr>\n",
       "      <th>0</th>\n",
       "      <td>2001</td>\n",
       "      <td>231339</td>\n",
       "      <td>1</td>\n",
       "      <td>0</td>\n",
       "      <td>0</td>\n",
       "      <td>0</td>\n",
       "      <td>0</td>\n",
       "      <td>0</td>\n",
       "      <td>0</td>\n",
       "      <td>0</td>\n",
       "      <td>...</td>\n",
       "      <td>0</td>\n",
       "      <td>0</td>\n",
       "      <td>0</td>\n",
       "      <td>0</td>\n",
       "      <td>0</td>\n",
       "      <td>0</td>\n",
       "      <td>0</td>\n",
       "      <td>0</td>\n",
       "      <td>1</td>\n",
       "      <td>0</td>\n",
       "    </tr>\n",
       "    <tr>\n",
       "      <th>1</th>\n",
       "      <td>2016</td>\n",
       "      <td>105267</td>\n",
       "      <td>1</td>\n",
       "      <td>0</td>\n",
       "      <td>0</td>\n",
       "      <td>0</td>\n",
       "      <td>0</td>\n",
       "      <td>0</td>\n",
       "      <td>0</td>\n",
       "      <td>0</td>\n",
       "      <td>...</td>\n",
       "      <td>0</td>\n",
       "      <td>0</td>\n",
       "      <td>0</td>\n",
       "      <td>0</td>\n",
       "      <td>0</td>\n",
       "      <td>0</td>\n",
       "      <td>0</td>\n",
       "      <td>0</td>\n",
       "      <td>1</td>\n",
       "      <td>0</td>\n",
       "    </tr>\n",
       "  </tbody>\n",
       "</table>\n",
       "<p>2 rows × 119 columns</p>\n",
       "</div>"
      ],
      "text/plain": [
       "   year  mileage_km  model_BMW  model_MercedesBenz  model_116  model_118  \\\n",
       "0  2001      231339          1                   0          0          0   \n",
       "1  2016      105267          1                   0          0          0   \n",
       "\n",
       "   model_120  model_216  model_218  model_220  ...  model_Grey  model_None  \\\n",
       "0          0          0          0          0  ...           0           0   \n",
       "1          0          0          0          0  ...           0           0   \n",
       "\n",
       "   model_Orange  model_Red  model_Silver  model_Violet  model_White  \\\n",
       "0             0          0             0             0            0   \n",
       "1             0          0             0             0            0   \n",
       "\n",
       "   model_Yellow  model_Dealer  model_Privateseller  \n",
       "0             0             1                    0  \n",
       "1             0             1                    0  \n",
       "\n",
       "[2 rows x 119 columns]"
      ]
     },
     "execution_count": 91,
     "metadata": {},
     "output_type": "execute_result"
    }
   ],
   "source": [
    "pd.set_option('display.float_format', lambda x: '%.0f' % x)\n",
    "df = pd.read_csv('df_full.csv', index_col=[0])\n",
    "df = df[['make', 'model', 'year', 'mileage_km','price', 'Gearbox', 'fuel_type', 'colour', 'seller']]\n",
    "print(df.head(2))\n",
    "\n",
    "df.Gearbox = df.Gearbox.replace('None', np.NaN)\n",
    "\n",
    "dms = pd.get_dummies(df[['make', 'model', 'Gearbox','fuel_type', 'colour','seller']], prefix='model')\n",
    "\n",
    "X_ = df.drop(['price','make', 'model', 'Gearbox','fuel_type', 'colour','seller'], axis='columns').astype('float64')\n",
    "y = df.price\n",
    "X = pd.concat([X_, dms[list(dms.columns)]], axis=1)\n",
    "\n",
    "pd.set_option('display.float_format', lambda x: '%.0f' % x)\n",
    "X.head(2)"
   ]
  },
  {
   "cell_type": "code",
   "execution_count": 92,
   "id": "269a87ae-29aa-4f7c-a164-40412b89d0e0",
   "metadata": {},
   "outputs": [
    {
     "data": {
      "text/plain": [
       "make           0\n",
       "model          0\n",
       "year           0\n",
       "mileage_km     0\n",
       "price          0\n",
       "Gearbox       15\n",
       "fuel_type      0\n",
       "colour         0\n",
       "seller         0\n",
       "dtype: int64"
      ]
     },
     "execution_count": 92,
     "metadata": {},
     "output_type": "execute_result"
    }
   ],
   "source": [
    "df.isna().sum()"
   ]
  },
  {
   "cell_type": "markdown",
   "id": "b953b289-b72f-4803-b51a-f68623d02032",
   "metadata": {},
   "source": [
    "# ML MODEL"
   ]
  },
  {
   "cell_type": "code",
   "execution_count": 14,
   "id": "19bdbf2e-ea6f-4aa2-85c6-96e0e2d11de0",
   "metadata": {},
   "outputs": [],
   "source": [
    "from sklearn.compose import make_column_transformer\n",
    "from sklearn.preprocessing import OneHotEncoder\n",
    "from sklearn.pipeline import make_pipeline\n",
    "from sklearn.model_selection import cross_val_score\n",
    "\n",
    "from sklearn.model_selection import train_test_split, GridSearchCV,cross_val_score\n",
    "from sklearn.metrics import mean_squared_error, r2_score\n",
    "from sklearn.preprocessing import scale \n",
    "from sklearn import model_selection\n",
    "from sklearn.neighbors import KNeighborsRegressor"
   ]
  },
  {
   "cell_type": "code",
   "execution_count": 19,
   "id": "30d37cbd-dcef-407b-9079-b2d41d4470d8",
   "metadata": {},
   "outputs": [
    {
     "name": "stdout",
     "output_type": "stream",
     "text": [
      "GBM_Model hata :  6243.31649227032\n",
      "GBM_Tuned Hata : 5035.3038258909555\n",
      "CPU times: user 494 µs, sys: 78 µs, total: 572 µs\n",
      "Wall time: 587 µs\n"
     ]
    }
   ],
   "source": [
    "from sklearn.ensemble import GradientBoostingRegressor\n",
    "\n",
    "X_train, X_test, y_train, y_test = train_test_split(X, y, \n",
    "                                                    test_size=0.25, \n",
    "                                                    random_state=42)\n",
    "\n",
    "gbm_model =  GradientBoostingRegressor()\n",
    "gbm_model.fit(X_train, y_train)\n",
    "\n",
    "y_pred = gbm_model.predict(X_test)\n",
    "print('GBM_Model hata : ', np.sqrt(mean_squared_error(y_test, y_pred)))\n",
    "\n",
    "gbm_params = {\n",
    "            'learning_rate' :[0.01, 0.1],\n",
    "            'max_depth': [50,100],\n",
    "            'n_estimators': [100],\n",
    "            'subsample': [1, 0.5],}\n",
    "\n",
    "#gbm = GradientBoostingRegressor()\n",
    "#gbm_cv_model =  GridSearchCV(gbm, gbm_params, cv=5, n_jobs=-1, verbose=2)\n",
    "#gbm_cv_model.fit(X_train, y_train)\n",
    "\n",
    "#gbm_cv_model.best_params_\n",
    "\n",
    "gbm_tuned = GradientBoostingRegressor()\n",
    "\n",
    "gbm_tuned = GradientBoostingRegressor ( learning_rate= 0.1,\n",
    "                                       max_depth= 100,\n",
    "                                       n_estimators= 100,\n",
    "                                       subsample= 0.5)\n",
    "\n",
    "gbm_tuned = gbm_tuned.fit(X_train, y_train)\n",
    "\n",
    "y_pred =  gbm_tuned.predict(X_test)\n",
    "%time print('GBM_Tuned Hata :', np.sqrt(mean_squared_error(y_test, y_pred)))"
   ]
  },
  {
   "cell_type": "code",
   "execution_count": 42,
   "id": "e5c983f4-3a23-4e88-908d-eb2acf5f1d3d",
   "metadata": {},
   "outputs": [
    {
     "data": {
      "text/html": [
       "<div>\n",
       "<style scoped>\n",
       "    .dataframe tbody tr th:only-of-type {\n",
       "        vertical-align: middle;\n",
       "    }\n",
       "\n",
       "    .dataframe tbody tr th {\n",
       "        vertical-align: top;\n",
       "    }\n",
       "\n",
       "    .dataframe thead th {\n",
       "        text-align: right;\n",
       "    }\n",
       "</style>\n",
       "<table border=\"1\" class=\"dataframe\">\n",
       "  <thead>\n",
       "    <tr style=\"text-align: right;\">\n",
       "      <th></th>\n",
       "      <th>make</th>\n",
       "      <th>model</th>\n",
       "      <th>year</th>\n",
       "      <th>mileage_km</th>\n",
       "      <th>price</th>\n",
       "      <th>Gearbox</th>\n",
       "      <th>fuel_type</th>\n",
       "      <th>colour</th>\n",
       "      <th>seller</th>\n",
       "    </tr>\n",
       "  </thead>\n",
       "  <tbody>\n",
       "    <tr>\n",
       "      <th>0</th>\n",
       "      <td>BMW</td>\n",
       "      <td>316</td>\n",
       "      <td>2001</td>\n",
       "      <td>231339</td>\n",
       "      <td>1450</td>\n",
       "      <td>Automatic</td>\n",
       "      <td>Gasoline</td>\n",
       "      <td>Blue</td>\n",
       "      <td>Dealer</td>\n",
       "    </tr>\n",
       "    <tr>\n",
       "      <th>1</th>\n",
       "      <td>BMW</td>\n",
       "      <td>320</td>\n",
       "      <td>2016</td>\n",
       "      <td>105267</td>\n",
       "      <td>22490</td>\n",
       "      <td>Automatic</td>\n",
       "      <td>Gasoline</td>\n",
       "      <td>Black</td>\n",
       "      <td>Dealer</td>\n",
       "    </tr>\n",
       "    <tr>\n",
       "      <th>2</th>\n",
       "      <td>BMW</td>\n",
       "      <td>116</td>\n",
       "      <td>2014</td>\n",
       "      <td>70491</td>\n",
       "      <td>15999</td>\n",
       "      <td>Automatic</td>\n",
       "      <td>Gasoline</td>\n",
       "      <td>Grey</td>\n",
       "      <td>Dealer</td>\n",
       "    </tr>\n",
       "    <tr>\n",
       "      <th>3</th>\n",
       "      <td>BMW</td>\n",
       "      <td>120</td>\n",
       "      <td>2004</td>\n",
       "      <td>342421</td>\n",
       "      <td>2790</td>\n",
       "      <td>Automatic</td>\n",
       "      <td>Gasoline</td>\n",
       "      <td>Blue</td>\n",
       "      <td>Dealer</td>\n",
       "    </tr>\n",
       "    <tr>\n",
       "      <th>4</th>\n",
       "      <td>BMW</td>\n",
       "      <td>435</td>\n",
       "      <td>2015</td>\n",
       "      <td>63507</td>\n",
       "      <td>35300</td>\n",
       "      <td>Automatic</td>\n",
       "      <td>Gasoline</td>\n",
       "      <td>Black</td>\n",
       "      <td>Dealer</td>\n",
       "    </tr>\n",
       "  </tbody>\n",
       "</table>\n",
       "</div>"
      ],
      "text/plain": [
       "  make model  year  mileage_km  price    Gearbox fuel_type colour  seller\n",
       "0  BMW   316  2001      231339   1450  Automatic  Gasoline   Blue  Dealer\n",
       "1  BMW   320  2016      105267  22490  Automatic  Gasoline  Black  Dealer\n",
       "2  BMW   116  2014       70491  15999  Automatic  Gasoline   Grey  Dealer\n",
       "3  BMW   120  2004      342421   2790  Automatic  Gasoline   Blue  Dealer\n",
       "4  BMW   435  2015       63507  35300  Automatic  Gasoline  Black  Dealer"
      ]
     },
     "execution_count": 42,
     "metadata": {},
     "output_type": "execute_result"
    }
   ],
   "source": [
    "from sklearn.impute import SimpleImputer\n",
    "df.head()"
   ]
  },
  {
   "cell_type": "code",
   "execution_count": 94,
   "id": "0f01bb4c-3336-4707-9a66-8055cc34cb96",
   "metadata": {},
   "outputs": [],
   "source": [
    "imp = SimpleImputer(strategy='most_frequent')\n",
    "df.iloc[:, :] = imp.fit_transform(df)\n",
    "df.Gearbox.value_counts()"
   ]
  },
  {
   "cell_type": "code",
   "execution_count": 97,
   "id": "98b80e35-c2c2-42e0-adad-312ee80ef713",
   "metadata": {},
   "outputs": [
    {
     "data": {
      "text/plain": [
       "Grey      4291\n",
       "Black     3953\n",
       "White     1511\n",
       "Blue      1362\n",
       "Silver     358\n",
       "Brown      267\n",
       "Red        178\n",
       "Green       83\n",
       "Beige       51\n",
       "Orange      27\n",
       "Yellow      26\n",
       "Gold        12\n",
       "Violet      12\n",
       "Bronze       2\n",
       "Name: colour, dtype: int64"
      ]
     },
     "execution_count": 97,
     "metadata": {},
     "output_type": "execute_result"
    }
   ],
   "source": [
    "imp = SimpleImputer(missing_values='None', strategy='most_frequent')\n",
    "df.iloc[:, :] = imp.fit_transform(df)\n",
    "df.colour.value_counts()"
   ]
  },
  {
   "cell_type": "code",
   "execution_count": 96,
   "id": "76ff76ac-3399-4804-8696-b64bf2bd6f57",
   "metadata": {},
   "outputs": [
    {
     "data": {
      "text/plain": [
       "Automatic        8975\n",
       "Manual           3050\n",
       "Semiautomatic     108\n",
       "Name: Gearbox, dtype: int64"
      ]
     },
     "execution_count": 96,
     "metadata": {},
     "output_type": "execute_result"
    }
   ],
   "source": []
  },
  {
   "cell_type": "code",
   "execution_count": 83,
   "id": "30e2de87-1d3b-4fd7-8a3d-40fb4e7cea71",
   "metadata": {},
   "outputs": [
    {
     "data": {
      "text/plain": [
       "Grey      4177\n",
       "Black     3953\n",
       "White     1511\n",
       "Blue      1362\n",
       "Silver     358\n",
       "Brown      267\n",
       "Red        178\n",
       "None       114\n",
       "Green       83\n",
       "Beige       51\n",
       "Orange      27\n",
       "Yellow      26\n",
       "Gold        12\n",
       "Violet      12\n",
       "Bronze       2\n",
       "Name: colour, dtype: int64"
      ]
     },
     "execution_count": 83,
     "metadata": {},
     "output_type": "execute_result"
    }
   ],
   "source": [
    "df.colour.value_counts()"
   ]
  },
  {
   "cell_type": "code",
   "execution_count": 90,
   "id": "bb6a40c0-a057-44b0-b23f-e444754bc956",
   "metadata": {},
   "outputs": [
    {
     "ename": "ValueError",
     "evalue": "Input contains NaN",
     "output_type": "error",
     "traceback": [
      "\u001b[0;31m---------------------------------------------------------------------------\u001b[0m",
      "\u001b[0;31mValueError\u001b[0m                                Traceback (most recent call last)",
      "Input \u001b[0;32mIn [90]\u001b[0m, in \u001b[0;36m<cell line: 2>\u001b[0;34m()\u001b[0m\n\u001b[1;32m      1\u001b[0m imp \u001b[38;5;241m=\u001b[39m SimpleImputer( missing_values\u001b[38;5;241m=\u001b[39m\u001b[38;5;124m'\u001b[39m\u001b[38;5;124mNone\u001b[39m\u001b[38;5;124m'\u001b[39m, strategy\u001b[38;5;241m=\u001b[39m\u001b[38;5;124m'\u001b[39m\u001b[38;5;124mconstant\u001b[39m\u001b[38;5;124m'\u001b[39m, fill_value\u001b[38;5;241m=\u001b[39m\u001b[38;5;124m'\u001b[39m\u001b[38;5;124mAAA\u001b[39m\u001b[38;5;124m'\u001b[39m)\n\u001b[0;32m----> 2\u001b[0m df\u001b[38;5;241m.\u001b[39miloc[:, :] \u001b[38;5;241m=\u001b[39m \u001b[43mimp\u001b[49m\u001b[38;5;241;43m.\u001b[39;49m\u001b[43mfit_transform\u001b[49m\u001b[43m(\u001b[49m\u001b[43mdf\u001b[49m\u001b[43m)\u001b[49m\n\u001b[1;32m      3\u001b[0m df\u001b[38;5;241m.\u001b[39mcolour\u001b[38;5;241m.\u001b[39mvalue_counts()\n",
      "File \u001b[0;32m/opt/anaconda3/lib/python3.9/site-packages/sklearn/base.py:852\u001b[0m, in \u001b[0;36mTransformerMixin.fit_transform\u001b[0;34m(self, X, y, **fit_params)\u001b[0m\n\u001b[1;32m    848\u001b[0m \u001b[38;5;66;03m# non-optimized default implementation; override when a better\u001b[39;00m\n\u001b[1;32m    849\u001b[0m \u001b[38;5;66;03m# method is possible for a given clustering algorithm\u001b[39;00m\n\u001b[1;32m    850\u001b[0m \u001b[38;5;28;01mif\u001b[39;00m y \u001b[38;5;129;01mis\u001b[39;00m \u001b[38;5;28;01mNone\u001b[39;00m:\n\u001b[1;32m    851\u001b[0m     \u001b[38;5;66;03m# fit method of arity 1 (unsupervised transformation)\u001b[39;00m\n\u001b[0;32m--> 852\u001b[0m     \u001b[38;5;28;01mreturn\u001b[39;00m \u001b[38;5;28;43mself\u001b[39;49m\u001b[38;5;241;43m.\u001b[39;49m\u001b[43mfit\u001b[49m\u001b[43m(\u001b[49m\u001b[43mX\u001b[49m\u001b[43m,\u001b[49m\u001b[43m \u001b[49m\u001b[38;5;241;43m*\u001b[39;49m\u001b[38;5;241;43m*\u001b[39;49m\u001b[43mfit_params\u001b[49m\u001b[43m)\u001b[49m\u001b[38;5;241m.\u001b[39mtransform(X)\n\u001b[1;32m    853\u001b[0m \u001b[38;5;28;01melse\u001b[39;00m:\n\u001b[1;32m    854\u001b[0m     \u001b[38;5;66;03m# fit method of arity 2 (supervised transformation)\u001b[39;00m\n\u001b[1;32m    855\u001b[0m     \u001b[38;5;28;01mreturn\u001b[39;00m \u001b[38;5;28mself\u001b[39m\u001b[38;5;241m.\u001b[39mfit(X, y, \u001b[38;5;241m*\u001b[39m\u001b[38;5;241m*\u001b[39mfit_params)\u001b[38;5;241m.\u001b[39mtransform(X)\n",
      "File \u001b[0;32m/opt/anaconda3/lib/python3.9/site-packages/sklearn/impute/_base.py:319\u001b[0m, in \u001b[0;36mSimpleImputer.fit\u001b[0;34m(self, X, y)\u001b[0m\n\u001b[1;32m    302\u001b[0m \u001b[38;5;28;01mdef\u001b[39;00m \u001b[38;5;21mfit\u001b[39m(\u001b[38;5;28mself\u001b[39m, X, y\u001b[38;5;241m=\u001b[39m\u001b[38;5;28;01mNone\u001b[39;00m):\n\u001b[1;32m    303\u001b[0m     \u001b[38;5;124;03m\"\"\"Fit the imputer on `X`.\u001b[39;00m\n\u001b[1;32m    304\u001b[0m \n\u001b[1;32m    305\u001b[0m \u001b[38;5;124;03m    Parameters\u001b[39;00m\n\u001b[0;32m   (...)\u001b[0m\n\u001b[1;32m    317\u001b[0m \u001b[38;5;124;03m        Fitted estimator.\u001b[39;00m\n\u001b[1;32m    318\u001b[0m \u001b[38;5;124;03m    \"\"\"\u001b[39;00m\n\u001b[0;32m--> 319\u001b[0m     X \u001b[38;5;241m=\u001b[39m \u001b[38;5;28;43mself\u001b[39;49m\u001b[38;5;241;43m.\u001b[39;49m\u001b[43m_validate_input\u001b[49m\u001b[43m(\u001b[49m\u001b[43mX\u001b[49m\u001b[43m,\u001b[49m\u001b[43m \u001b[49m\u001b[43min_fit\u001b[49m\u001b[38;5;241;43m=\u001b[39;49m\u001b[38;5;28;43;01mTrue\u001b[39;49;00m\u001b[43m)\u001b[49m\n\u001b[1;32m    321\u001b[0m     \u001b[38;5;66;03m# default fill_value is 0 for numerical input and \"missing_value\"\u001b[39;00m\n\u001b[1;32m    322\u001b[0m     \u001b[38;5;66;03m# otherwise\u001b[39;00m\n\u001b[1;32m    323\u001b[0m     \u001b[38;5;28;01mif\u001b[39;00m \u001b[38;5;28mself\u001b[39m\u001b[38;5;241m.\u001b[39mfill_value \u001b[38;5;129;01mis\u001b[39;00m \u001b[38;5;28;01mNone\u001b[39;00m:\n",
      "File \u001b[0;32m/opt/anaconda3/lib/python3.9/site-packages/sklearn/impute/_base.py:287\u001b[0m, in \u001b[0;36mSimpleImputer._validate_input\u001b[0;34m(self, X, in_fit)\u001b[0m\n\u001b[1;32m    285\u001b[0m         \u001b[38;5;28;01mraise\u001b[39;00m new_ve \u001b[38;5;28;01mfrom\u001b[39;00m \u001b[38;5;28mNone\u001b[39m\n\u001b[1;32m    286\u001b[0m     \u001b[38;5;28;01melse\u001b[39;00m:\n\u001b[0;32m--> 287\u001b[0m         \u001b[38;5;28;01mraise\u001b[39;00m ve\n\u001b[1;32m    289\u001b[0m _check_inputs_dtype(X, \u001b[38;5;28mself\u001b[39m\u001b[38;5;241m.\u001b[39mmissing_values)\n\u001b[1;32m    290\u001b[0m \u001b[38;5;28;01mif\u001b[39;00m X\u001b[38;5;241m.\u001b[39mdtype\u001b[38;5;241m.\u001b[39mkind \u001b[38;5;129;01mnot\u001b[39;00m \u001b[38;5;129;01min\u001b[39;00m (\u001b[38;5;124m\"\u001b[39m\u001b[38;5;124mi\u001b[39m\u001b[38;5;124m\"\u001b[39m, \u001b[38;5;124m\"\u001b[39m\u001b[38;5;124mu\u001b[39m\u001b[38;5;124m\"\u001b[39m, \u001b[38;5;124m\"\u001b[39m\u001b[38;5;124mf\u001b[39m\u001b[38;5;124m\"\u001b[39m, \u001b[38;5;124m\"\u001b[39m\u001b[38;5;124mO\u001b[39m\u001b[38;5;124m\"\u001b[39m):\n",
      "File \u001b[0;32m/opt/anaconda3/lib/python3.9/site-packages/sklearn/impute/_base.py:270\u001b[0m, in \u001b[0;36mSimpleImputer._validate_input\u001b[0;34m(self, X, in_fit)\u001b[0m\n\u001b[1;32m    267\u001b[0m     force_all_finite \u001b[38;5;241m=\u001b[39m \u001b[38;5;124m\"\u001b[39m\u001b[38;5;124mallow-nan\u001b[39m\u001b[38;5;124m\"\u001b[39m\n\u001b[1;32m    269\u001b[0m \u001b[38;5;28;01mtry\u001b[39;00m:\n\u001b[0;32m--> 270\u001b[0m     X \u001b[38;5;241m=\u001b[39m \u001b[38;5;28;43mself\u001b[39;49m\u001b[38;5;241;43m.\u001b[39;49m\u001b[43m_validate_data\u001b[49m\u001b[43m(\u001b[49m\n\u001b[1;32m    271\u001b[0m \u001b[43m        \u001b[49m\u001b[43mX\u001b[49m\u001b[43m,\u001b[49m\n\u001b[1;32m    272\u001b[0m \u001b[43m        \u001b[49m\u001b[43mreset\u001b[49m\u001b[38;5;241;43m=\u001b[39;49m\u001b[43min_fit\u001b[49m\u001b[43m,\u001b[49m\n\u001b[1;32m    273\u001b[0m \u001b[43m        \u001b[49m\u001b[43maccept_sparse\u001b[49m\u001b[38;5;241;43m=\u001b[39;49m\u001b[38;5;124;43m\"\u001b[39;49m\u001b[38;5;124;43mcsc\u001b[39;49m\u001b[38;5;124;43m\"\u001b[39;49m\u001b[43m,\u001b[49m\n\u001b[1;32m    274\u001b[0m \u001b[43m        \u001b[49m\u001b[43mdtype\u001b[49m\u001b[38;5;241;43m=\u001b[39;49m\u001b[43mdtype\u001b[49m\u001b[43m,\u001b[49m\n\u001b[1;32m    275\u001b[0m \u001b[43m        \u001b[49m\u001b[43mforce_all_finite\u001b[49m\u001b[38;5;241;43m=\u001b[39;49m\u001b[43mforce_all_finite\u001b[49m\u001b[43m,\u001b[49m\n\u001b[1;32m    276\u001b[0m \u001b[43m        \u001b[49m\u001b[43mcopy\u001b[49m\u001b[38;5;241;43m=\u001b[39;49m\u001b[38;5;28;43mself\u001b[39;49m\u001b[38;5;241;43m.\u001b[39;49m\u001b[43mcopy\u001b[49m\u001b[43m,\u001b[49m\n\u001b[1;32m    277\u001b[0m \u001b[43m    \u001b[49m\u001b[43m)\u001b[49m\n\u001b[1;32m    278\u001b[0m \u001b[38;5;28;01mexcept\u001b[39;00m \u001b[38;5;167;01mValueError\u001b[39;00m \u001b[38;5;28;01mas\u001b[39;00m ve:\n\u001b[1;32m    279\u001b[0m     \u001b[38;5;28;01mif\u001b[39;00m \u001b[38;5;124m\"\u001b[39m\u001b[38;5;124mcould not convert\u001b[39m\u001b[38;5;124m\"\u001b[39m \u001b[38;5;129;01min\u001b[39;00m \u001b[38;5;28mstr\u001b[39m(ve):\n",
      "File \u001b[0;32m/opt/anaconda3/lib/python3.9/site-packages/sklearn/base.py:566\u001b[0m, in \u001b[0;36mBaseEstimator._validate_data\u001b[0;34m(self, X, y, reset, validate_separately, **check_params)\u001b[0m\n\u001b[1;32m    564\u001b[0m     \u001b[38;5;28;01mraise\u001b[39;00m \u001b[38;5;167;01mValueError\u001b[39;00m(\u001b[38;5;124m\"\u001b[39m\u001b[38;5;124mValidation should be done on X, y or both.\u001b[39m\u001b[38;5;124m\"\u001b[39m)\n\u001b[1;32m    565\u001b[0m \u001b[38;5;28;01melif\u001b[39;00m \u001b[38;5;129;01mnot\u001b[39;00m no_val_X \u001b[38;5;129;01mand\u001b[39;00m no_val_y:\n\u001b[0;32m--> 566\u001b[0m     X \u001b[38;5;241m=\u001b[39m \u001b[43mcheck_array\u001b[49m\u001b[43m(\u001b[49m\u001b[43mX\u001b[49m\u001b[43m,\u001b[49m\u001b[43m \u001b[49m\u001b[38;5;241;43m*\u001b[39;49m\u001b[38;5;241;43m*\u001b[39;49m\u001b[43mcheck_params\u001b[49m\u001b[43m)\u001b[49m\n\u001b[1;32m    567\u001b[0m     out \u001b[38;5;241m=\u001b[39m X\n\u001b[1;32m    568\u001b[0m \u001b[38;5;28;01melif\u001b[39;00m no_val_X \u001b[38;5;129;01mand\u001b[39;00m \u001b[38;5;129;01mnot\u001b[39;00m no_val_y:\n",
      "File \u001b[0;32m/opt/anaconda3/lib/python3.9/site-packages/sklearn/utils/validation.py:800\u001b[0m, in \u001b[0;36mcheck_array\u001b[0;34m(array, accept_sparse, accept_large_sparse, dtype, order, copy, force_all_finite, ensure_2d, allow_nd, ensure_min_samples, ensure_min_features, estimator)\u001b[0m\n\u001b[1;32m    794\u001b[0m         \u001b[38;5;28;01mraise\u001b[39;00m \u001b[38;5;167;01mValueError\u001b[39;00m(\n\u001b[1;32m    795\u001b[0m             \u001b[38;5;124m\"\u001b[39m\u001b[38;5;124mFound array with dim \u001b[39m\u001b[38;5;132;01m%d\u001b[39;00m\u001b[38;5;124m. \u001b[39m\u001b[38;5;132;01m%s\u001b[39;00m\u001b[38;5;124m expected <= 2.\u001b[39m\u001b[38;5;124m\"\u001b[39m\n\u001b[1;32m    796\u001b[0m             \u001b[38;5;241m%\u001b[39m (array\u001b[38;5;241m.\u001b[39mndim, estimator_name)\n\u001b[1;32m    797\u001b[0m         )\n\u001b[1;32m    799\u001b[0m     \u001b[38;5;28;01mif\u001b[39;00m force_all_finite:\n\u001b[0;32m--> 800\u001b[0m         \u001b[43m_assert_all_finite\u001b[49m\u001b[43m(\u001b[49m\u001b[43marray\u001b[49m\u001b[43m,\u001b[49m\u001b[43m \u001b[49m\u001b[43mallow_nan\u001b[49m\u001b[38;5;241;43m=\u001b[39;49m\u001b[43mforce_all_finite\u001b[49m\u001b[43m \u001b[49m\u001b[38;5;241;43m==\u001b[39;49m\u001b[43m \u001b[49m\u001b[38;5;124;43m\"\u001b[39;49m\u001b[38;5;124;43mallow-nan\u001b[39;49m\u001b[38;5;124;43m\"\u001b[39;49m\u001b[43m)\u001b[49m\n\u001b[1;32m    802\u001b[0m \u001b[38;5;28;01mif\u001b[39;00m ensure_min_samples \u001b[38;5;241m>\u001b[39m \u001b[38;5;241m0\u001b[39m:\n\u001b[1;32m    803\u001b[0m     n_samples \u001b[38;5;241m=\u001b[39m _num_samples(array)\n",
      "File \u001b[0;32m/opt/anaconda3/lib/python3.9/site-packages/sklearn/utils/validation.py:122\u001b[0m, in \u001b[0;36m_assert_all_finite\u001b[0;34m(X, allow_nan, msg_dtype)\u001b[0m\n\u001b[1;32m    120\u001b[0m \u001b[38;5;28;01melif\u001b[39;00m X\u001b[38;5;241m.\u001b[39mdtype \u001b[38;5;241m==\u001b[39m np\u001b[38;5;241m.\u001b[39mdtype(\u001b[38;5;124m\"\u001b[39m\u001b[38;5;124mobject\u001b[39m\u001b[38;5;124m\"\u001b[39m) \u001b[38;5;129;01mand\u001b[39;00m \u001b[38;5;129;01mnot\u001b[39;00m allow_nan:\n\u001b[1;32m    121\u001b[0m     \u001b[38;5;28;01mif\u001b[39;00m _object_dtype_isnan(X)\u001b[38;5;241m.\u001b[39many():\n\u001b[0;32m--> 122\u001b[0m         \u001b[38;5;28;01mraise\u001b[39;00m \u001b[38;5;167;01mValueError\u001b[39;00m(\u001b[38;5;124m\"\u001b[39m\u001b[38;5;124mInput contains NaN\u001b[39m\u001b[38;5;124m\"\u001b[39m)\n",
      "\u001b[0;31mValueError\u001b[0m: Input contains NaN"
     ]
    }
   ],
   "source": [
    "imp = SimpleImputer( missing_values='None', strategy='constant', fill_value='AAA')\n",
    "df.iloc[:, :] = imp.fit_transform(df)\n",
    "df.colour.value_counts()"
   ]
  },
  {
   "cell_type": "code",
   "execution_count": null,
   "id": "c3f88111-4357-4b52-b3b9-61d94c68ed5f",
   "metadata": {},
   "outputs": [],
   "source": []
  }
 ],
 "metadata": {
  "kernelspec": {
   "display_name": "Python 3 (ipykernel)",
   "language": "python",
   "name": "python3"
  },
  "language_info": {
   "codemirror_mode": {
    "name": "ipython",
    "version": 3
   },
   "file_extension": ".py",
   "mimetype": "text/x-python",
   "name": "python",
   "nbconvert_exporter": "python",
   "pygments_lexer": "ipython3",
   "version": "3.9.12"
  }
 },
 "nbformat": 4,
 "nbformat_minor": 5
}
