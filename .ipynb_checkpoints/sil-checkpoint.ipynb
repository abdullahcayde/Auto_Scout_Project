{
 "cells": [
  {
   "cell_type": "code",
   "execution_count": 1,
   "id": "c44564a0-1a9a-452a-b49e-4935c5d6426d",
   "metadata": {},
   "outputs": [],
   "source": [
    "import pandas as pd\n",
    "import numpy as np"
   ]
  },
  {
   "cell_type": "code",
   "execution_count": 2,
   "id": "cb4e95b8-2947-4897-a7ca-45b8b2c0d749",
   "metadata": {},
   "outputs": [
    {
     "data": {
      "text/html": [
       "<div>\n",
       "<style scoped>\n",
       "    .dataframe tbody tr th:only-of-type {\n",
       "        vertical-align: middle;\n",
       "    }\n",
       "\n",
       "    .dataframe tbody tr th {\n",
       "        vertical-align: top;\n",
       "    }\n",
       "\n",
       "    .dataframe thead th {\n",
       "        text-align: right;\n",
       "    }\n",
       "</style>\n",
       "<table border=\"1\" class=\"dataframe\">\n",
       "  <thead>\n",
       "    <tr style=\"text-align: right;\">\n",
       "      <th></th>\n",
       "      <th>name</th>\n",
       "      <th>age</th>\n",
       "    </tr>\n",
       "  </thead>\n",
       "  <tbody>\n",
       "    <tr>\n",
       "      <th>0</th>\n",
       "      <td>alice</td>\n",
       "      <td>2</td>\n",
       "    </tr>\n",
       "    <tr>\n",
       "      <th>1</th>\n",
       "      <td>bob</td>\n",
       "      <td>15</td>\n",
       "    </tr>\n",
       "    <tr>\n",
       "      <th>2</th>\n",
       "      <td>charlie</td>\n",
       "      <td>30</td>\n",
       "    </tr>\n",
       "    <tr>\n",
       "      <th>3</th>\n",
       "      <td>daniel</td>\n",
       "      <td>70</td>\n",
       "    </tr>\n",
       "  </tbody>\n",
       "</table>\n",
       "</div>"
      ],
      "text/plain": [
       "      name  age\n",
       "0    alice    2\n",
       "1      bob   15\n",
       "2  charlie   30\n",
       "3   daniel   70"
      ]
     },
     "execution_count": 2,
     "metadata": {},
     "output_type": "execute_result"
    }
   ],
   "source": [
    "df = pd.DataFrame({\n",
    "    'name': ['alice','bob','charlie','daniel'],\n",
    "    'age': [2,15,30,70]\n",
    "})\n",
    "df    "
   ]
  },
  {
   "cell_type": "code",
   "execution_count": 3,
   "id": "9510c1db-5215-4198-97c8-a1ec0710d4c6",
   "metadata": {},
   "outputs": [
    {
     "data": {
      "text/html": [
       "<div>\n",
       "<style scoped>\n",
       "    .dataframe tbody tr th:only-of-type {\n",
       "        vertical-align: middle;\n",
       "    }\n",
       "\n",
       "    .dataframe tbody tr th {\n",
       "        vertical-align: top;\n",
       "    }\n",
       "\n",
       "    .dataframe thead th {\n",
       "        text-align: right;\n",
       "    }\n",
       "</style>\n",
       "<table border=\"1\" class=\"dataframe\">\n",
       "  <thead>\n",
       "    <tr style=\"text-align: right;\">\n",
       "      <th></th>\n",
       "      <th>name</th>\n",
       "      <th>age</th>\n",
       "      <th>age_cat</th>\n",
       "    </tr>\n",
       "  </thead>\n",
       "  <tbody>\n",
       "    <tr>\n",
       "      <th>0</th>\n",
       "      <td>alice</td>\n",
       "      <td>2</td>\n",
       "      <td>Young</td>\n",
       "    </tr>\n",
       "    <tr>\n",
       "      <th>1</th>\n",
       "      <td>bob</td>\n",
       "      <td>15</td>\n",
       "      <td>Young</td>\n",
       "    </tr>\n",
       "    <tr>\n",
       "      <th>2</th>\n",
       "      <td>charlie</td>\n",
       "      <td>30</td>\n",
       "      <td>Old</td>\n",
       "    </tr>\n",
       "    <tr>\n",
       "      <th>3</th>\n",
       "      <td>daniel</td>\n",
       "      <td>70</td>\n",
       "      <td>Old</td>\n",
       "    </tr>\n",
       "  </tbody>\n",
       "</table>\n",
       "</div>"
      ],
      "text/plain": [
       "      name  age age_cat\n",
       "0    alice    2   Young\n",
       "1      bob   15   Young\n",
       "2  charlie   30     Old\n",
       "3   daniel   70     Old"
      ]
     },
     "execution_count": 3,
     "metadata": {},
     "output_type": "execute_result"
    }
   ],
   "source": [
    "df.assign(\n",
    "    age_cat = lambda x : x.age.map(lambda x : 'Young' if x < 30 else 'Old')\n",
    ")"
   ]
  },
  {
   "cell_type": "code",
   "execution_count": 4,
   "id": "81dcbee5-cfd4-401c-816b-7011e4917b62",
   "metadata": {},
   "outputs": [
    {
     "data": {
      "text/html": [
       "<div>\n",
       "<style scoped>\n",
       "    .dataframe tbody tr th:only-of-type {\n",
       "        vertical-align: middle;\n",
       "    }\n",
       "\n",
       "    .dataframe tbody tr th {\n",
       "        vertical-align: top;\n",
       "    }\n",
       "\n",
       "    .dataframe thead th {\n",
       "        text-align: right;\n",
       "    }\n",
       "</style>\n",
       "<table border=\"1\" class=\"dataframe\">\n",
       "  <thead>\n",
       "    <tr style=\"text-align: right;\">\n",
       "      <th></th>\n",
       "      <th>make</th>\n",
       "      <th>price</th>\n",
       "    </tr>\n",
       "  </thead>\n",
       "  <tbody>\n",
       "    <tr>\n",
       "      <th>0</th>\n",
       "      <td>audi</td>\n",
       "      <td>200</td>\n",
       "    </tr>\n",
       "    <tr>\n",
       "      <th>1</th>\n",
       "      <td>audi</td>\n",
       "      <td>200</td>\n",
       "    </tr>\n",
       "    <tr>\n",
       "      <th>2</th>\n",
       "      <td>mercedes</td>\n",
       "      <td>3000</td>\n",
       "    </tr>\n",
       "    <tr>\n",
       "      <th>3</th>\n",
       "      <td>toyota</td>\n",
       "      <td>70000</td>\n",
       "    </tr>\n",
       "    <tr>\n",
       "      <th>4</th>\n",
       "      <td>honda</td>\n",
       "      <td>5000</td>\n",
       "    </tr>\n",
       "  </tbody>\n",
       "</table>\n",
       "</div>"
      ],
      "text/plain": [
       "       make  price\n",
       "0      audi    200\n",
       "1      audi    200\n",
       "2  mercedes   3000\n",
       "3    toyota  70000\n",
       "4     honda   5000"
      ]
     },
     "execution_count": 4,
     "metadata": {},
     "output_type": "execute_result"
    }
   ],
   "source": [
    "df = pd.DataFrame({\n",
    "    'make': ['audi','audi','mercedes','toyota', 'honda'],\n",
    "    'price': [200,200,3000,70000,5000]\n",
    "})\n",
    "df    "
   ]
  },
  {
   "cell_type": "code",
   "execution_count": 5,
   "id": "533e3424-e8dc-4c52-a998-ababfe8d5236",
   "metadata": {},
   "outputs": [
    {
     "data": {
      "text/html": [
       "<div>\n",
       "<style scoped>\n",
       "    .dataframe tbody tr th:only-of-type {\n",
       "        vertical-align: middle;\n",
       "    }\n",
       "\n",
       "    .dataframe tbody tr th {\n",
       "        vertical-align: top;\n",
       "    }\n",
       "\n",
       "    .dataframe thead th {\n",
       "        text-align: right;\n",
       "    }\n",
       "</style>\n",
       "<table border=\"1\" class=\"dataframe\">\n",
       "  <thead>\n",
       "    <tr style=\"text-align: right;\">\n",
       "      <th></th>\n",
       "      <th>make</th>\n",
       "      <th>price</th>\n",
       "      <th>make_country</th>\n",
       "    </tr>\n",
       "  </thead>\n",
       "  <tbody>\n",
       "    <tr>\n",
       "      <th>0</th>\n",
       "      <td>audi</td>\n",
       "      <td>200</td>\n",
       "      <td>German</td>\n",
       "    </tr>\n",
       "    <tr>\n",
       "      <th>1</th>\n",
       "      <td>audi</td>\n",
       "      <td>200</td>\n",
       "      <td>German</td>\n",
       "    </tr>\n",
       "    <tr>\n",
       "      <th>2</th>\n",
       "      <td>mercedes</td>\n",
       "      <td>3000</td>\n",
       "      <td>German</td>\n",
       "    </tr>\n",
       "    <tr>\n",
       "      <th>3</th>\n",
       "      <td>toyota</td>\n",
       "      <td>70000</td>\n",
       "      <td>Japan</td>\n",
       "    </tr>\n",
       "    <tr>\n",
       "      <th>4</th>\n",
       "      <td>honda</td>\n",
       "      <td>5000</td>\n",
       "      <td>Japan</td>\n",
       "    </tr>\n",
       "  </tbody>\n",
       "</table>\n",
       "</div>"
      ],
      "text/plain": [
       "       make  price make_country\n",
       "0      audi    200       German\n",
       "1      audi    200       German\n",
       "2  mercedes   3000       German\n",
       "3    toyota  70000        Japan\n",
       "4     honda   5000        Japan"
      ]
     },
     "execution_count": 5,
     "metadata": {},
     "output_type": "execute_result"
    }
   ],
   "source": [
    "german_list = ['audi', 'mercedes', 'bmw', ]\n",
    "japan_list = ['toyota', 'honda', 'mazda']\n",
    "\n",
    "conditions = [ \n",
    "    (df.make.isin(german_list)),\n",
    "    (df.make.isin(japan_list)),\n",
    "]\n",
    "\n",
    "values = ['German', 'Japan']\n",
    "\n",
    "df['make_country'] = np.select(conditions, values)\n",
    "df"
   ]
  },
  {
   "cell_type": "code",
   "execution_count": 6,
   "id": "df744248-00d0-4cf9-ae72-4a77b1665171",
   "metadata": {},
   "outputs": [],
   "source": [
    "German = ['audi', 'mercedes', 'bmw']\n",
    "df.loc[df.make.isin(German),  'country'] = 'German'"
   ]
  },
  {
   "cell_type": "code",
   "execution_count": 7,
   "id": "3582105a-28e2-4920-88d4-2e3df448cdb5",
   "metadata": {},
   "outputs": [
    {
     "data": {
      "text/html": [
       "<div>\n",
       "<style scoped>\n",
       "    .dataframe tbody tr th:only-of-type {\n",
       "        vertical-align: middle;\n",
       "    }\n",
       "\n",
       "    .dataframe tbody tr th {\n",
       "        vertical-align: top;\n",
       "    }\n",
       "\n",
       "    .dataframe thead th {\n",
       "        text-align: right;\n",
       "    }\n",
       "</style>\n",
       "<table border=\"1\" class=\"dataframe\">\n",
       "  <thead>\n",
       "    <tr style=\"text-align: right;\">\n",
       "      <th></th>\n",
       "      <th>make</th>\n",
       "      <th>price</th>\n",
       "      <th>make_country</th>\n",
       "      <th>country</th>\n",
       "    </tr>\n",
       "  </thead>\n",
       "  <tbody>\n",
       "    <tr>\n",
       "      <th>0</th>\n",
       "      <td>audi</td>\n",
       "      <td>299</td>\n",
       "      <td>German</td>\n",
       "      <td>German</td>\n",
       "    </tr>\n",
       "    <tr>\n",
       "      <th>1</th>\n",
       "      <td>audi</td>\n",
       "      <td>200</td>\n",
       "      <td>German</td>\n",
       "      <td>German</td>\n",
       "    </tr>\n",
       "    <tr>\n",
       "      <th>2</th>\n",
       "      <td>mercedes</td>\n",
       "      <td>3000</td>\n",
       "      <td>German</td>\n",
       "      <td>German</td>\n",
       "    </tr>\n",
       "    <tr>\n",
       "      <th>3</th>\n",
       "      <td>toyota</td>\n",
       "      <td>299</td>\n",
       "      <td>Japan</td>\n",
       "      <td>NaN</td>\n",
       "    </tr>\n",
       "    <tr>\n",
       "      <th>4</th>\n",
       "      <td>honda</td>\n",
       "      <td>5000</td>\n",
       "      <td>Japan</td>\n",
       "      <td>NaN</td>\n",
       "    </tr>\n",
       "  </tbody>\n",
       "</table>\n",
       "</div>"
      ],
      "text/plain": [
       "       make  price make_country country\n",
       "0      audi    299       German  German\n",
       "1      audi    200       German  German\n",
       "2  mercedes   3000       German  German\n",
       "3    toyota    299        Japan     NaN\n",
       "4     honda   5000        Japan     NaN"
      ]
     },
     "execution_count": 7,
     "metadata": {},
     "output_type": "execute_result"
    }
   ],
   "source": [
    "df.loc[[0,3], 'price'] = 299\n",
    "df"
   ]
  },
  {
   "cell_type": "code",
   "execution_count": 8,
   "id": "379a063f-b9ef-4bd2-86fc-5cad426e0711",
   "metadata": {},
   "outputs": [
    {
     "data": {
      "text/plain": [
       "299"
      ]
     },
     "execution_count": 8,
     "metadata": {},
     "output_type": "execute_result"
    }
   ],
   "source": [
    "df.loc[0, 'price']"
   ]
  },
  {
   "cell_type": "code",
   "execution_count": 9,
   "id": "bb03c6c5-ed72-4832-af81-8acf3eef451b",
   "metadata": {},
   "outputs": [
    {
     "data": {
      "text/html": [
       "<div>\n",
       "<style scoped>\n",
       "    .dataframe tbody tr th:only-of-type {\n",
       "        vertical-align: middle;\n",
       "    }\n",
       "\n",
       "    .dataframe tbody tr th {\n",
       "        vertical-align: top;\n",
       "    }\n",
       "\n",
       "    .dataframe thead th {\n",
       "        text-align: right;\n",
       "    }\n",
       "</style>\n",
       "<table border=\"1\" class=\"dataframe\">\n",
       "  <thead>\n",
       "    <tr style=\"text-align: right;\">\n",
       "      <th></th>\n",
       "      <th>make</th>\n",
       "      <th>price</th>\n",
       "      <th>make_country</th>\n",
       "      <th>country</th>\n",
       "    </tr>\n",
       "  </thead>\n",
       "  <tbody>\n",
       "    <tr>\n",
       "      <th>0</th>\n",
       "      <td>audi</td>\n",
       "      <td>299</td>\n",
       "      <td>German</td>\n",
       "      <td>German</td>\n",
       "    </tr>\n",
       "    <tr>\n",
       "      <th>1</th>\n",
       "      <td>audi</td>\n",
       "      <td>200</td>\n",
       "      <td>German</td>\n",
       "      <td>German</td>\n",
       "    </tr>\n",
       "    <tr>\n",
       "      <th>2</th>\n",
       "      <td>mercedes</td>\n",
       "      <td>3000</td>\n",
       "      <td>German</td>\n",
       "      <td>German</td>\n",
       "    </tr>\n",
       "    <tr>\n",
       "      <th>3</th>\n",
       "      <td>toyota</td>\n",
       "      <td>299</td>\n",
       "      <td>Japan</td>\n",
       "      <td>NaN</td>\n",
       "    </tr>\n",
       "    <tr>\n",
       "      <th>4</th>\n",
       "      <td>honda</td>\n",
       "      <td>5000</td>\n",
       "      <td>Japan</td>\n",
       "      <td>NaN</td>\n",
       "    </tr>\n",
       "  </tbody>\n",
       "</table>\n",
       "</div>"
      ],
      "text/plain": [
       "       make  price make_country country\n",
       "0      audi    299       German  German\n",
       "1      audi    200       German  German\n",
       "2  mercedes   3000       German  German\n",
       "3    toyota    299        Japan     NaN\n",
       "4     honda   5000        Japan     NaN"
      ]
     },
     "execution_count": 9,
     "metadata": {},
     "output_type": "execute_result"
    }
   ],
   "source": [
    "df"
   ]
  },
  {
   "cell_type": "code",
   "execution_count": 10,
   "id": "8f667d8b-3830-4ccf-b212-92fb4398e451",
   "metadata": {},
   "outputs": [
    {
     "data": {
      "text/plain": [
       "0    False\n",
       "1    False\n",
       "2    False\n",
       "3    False\n",
       "4    False\n",
       "dtype: bool"
      ]
     },
     "execution_count": 10,
     "metadata": {},
     "output_type": "execute_result"
    }
   ],
   "source": [
    "df.duplicated()"
   ]
  },
  {
   "cell_type": "code",
   "execution_count": 11,
   "id": "5730cb83-a601-4c62-8004-c9c45e0306f2",
   "metadata": {},
   "outputs": [
    {
     "data": {
      "text/plain": [
       "0    False\n",
       "1    False\n",
       "2    False\n",
       "3    False\n",
       "4    False\n",
       "dtype: bool"
      ]
     },
     "execution_count": 11,
     "metadata": {},
     "output_type": "execute_result"
    }
   ],
   "source": [
    "df.duplicated(keep= 'last')"
   ]
  },
  {
   "cell_type": "code",
   "execution_count": 12,
   "id": "d18eb6d8-d1e8-4e95-a340-70b4900ad0c8",
   "metadata": {},
   "outputs": [
    {
     "data": {
      "text/plain": [
       "0    False\n",
       "1    False\n",
       "2    False\n",
       "3    False\n",
       "4    False\n",
       "dtype: bool"
      ]
     },
     "execution_count": 12,
     "metadata": {},
     "output_type": "execute_result"
    }
   ],
   "source": [
    "df.duplicated(keep= 'first')"
   ]
  },
  {
   "cell_type": "code",
   "execution_count": 13,
   "id": "dac0ba35-6e7a-436a-b2fd-35a24e8e3405",
   "metadata": {},
   "outputs": [
    {
     "data": {
      "text/plain": [
       "0    False\n",
       "1    False\n",
       "2    False\n",
       "3    False\n",
       "4    False\n",
       "dtype: bool"
      ]
     },
     "execution_count": 13,
     "metadata": {},
     "output_type": "execute_result"
    }
   ],
   "source": [
    "df.duplicated(keep= False)"
   ]
  },
  {
   "cell_type": "code",
   "execution_count": 14,
   "id": "88cac6c6-9b82-4327-a9f6-8b8bad2f4701",
   "metadata": {},
   "outputs": [
    {
     "data": {
      "text/plain": [
       "0     True\n",
       "1     True\n",
       "2    False\n",
       "3    False\n",
       "4    False\n",
       "dtype: bool"
      ]
     },
     "execution_count": 14,
     "metadata": {},
     "output_type": "execute_result"
    }
   ],
   "source": [
    "df.duplicated(subset=['make', 'country'], keep= False)"
   ]
  },
  {
   "cell_type": "code",
   "execution_count": 15,
   "id": "bebb95f1-f7a2-4d3d-8f21-211c381272a5",
   "metadata": {},
   "outputs": [
    {
     "data": {
      "text/html": [
       "<div>\n",
       "<style scoped>\n",
       "    .dataframe tbody tr th:only-of-type {\n",
       "        vertical-align: middle;\n",
       "    }\n",
       "\n",
       "    .dataframe tbody tr th {\n",
       "        vertical-align: top;\n",
       "    }\n",
       "\n",
       "    .dataframe thead th {\n",
       "        text-align: right;\n",
       "    }\n",
       "</style>\n",
       "<table border=\"1\" class=\"dataframe\">\n",
       "  <thead>\n",
       "    <tr style=\"text-align: right;\">\n",
       "      <th></th>\n",
       "      <th>make</th>\n",
       "      <th>price</th>\n",
       "      <th>make_country</th>\n",
       "      <th>country</th>\n",
       "    </tr>\n",
       "  </thead>\n",
       "  <tbody>\n",
       "    <tr>\n",
       "      <th>0</th>\n",
       "      <td>audi</td>\n",
       "      <td>299</td>\n",
       "      <td>German</td>\n",
       "      <td>German</td>\n",
       "    </tr>\n",
       "    <tr>\n",
       "      <th>1</th>\n",
       "      <td>audi</td>\n",
       "      <td>200</td>\n",
       "      <td>German</td>\n",
       "      <td>German</td>\n",
       "    </tr>\n",
       "    <tr>\n",
       "      <th>2</th>\n",
       "      <td>mercedes</td>\n",
       "      <td>3000</td>\n",
       "      <td>German</td>\n",
       "      <td>German</td>\n",
       "    </tr>\n",
       "    <tr>\n",
       "      <th>3</th>\n",
       "      <td>toyota</td>\n",
       "      <td>299</td>\n",
       "      <td>Japan</td>\n",
       "      <td>NaN</td>\n",
       "    </tr>\n",
       "    <tr>\n",
       "      <th>4</th>\n",
       "      <td>honda</td>\n",
       "      <td>5000</td>\n",
       "      <td>Japan</td>\n",
       "      <td>NaN</td>\n",
       "    </tr>\n",
       "  </tbody>\n",
       "</table>\n",
       "</div>"
      ],
      "text/plain": [
       "       make  price make_country country\n",
       "0      audi    299       German  German\n",
       "1      audi    200       German  German\n",
       "2  mercedes   3000       German  German\n",
       "3    toyota    299        Japan     NaN\n",
       "4     honda   5000        Japan     NaN"
      ]
     },
     "execution_count": 15,
     "metadata": {},
     "output_type": "execute_result"
    }
   ],
   "source": [
    "df"
   ]
  },
  {
   "cell_type": "code",
   "execution_count": 16,
   "id": "0b67450d-1ee2-4b32-a76a-8065d49e973c",
   "metadata": {},
   "outputs": [
    {
     "name": "stdout",
     "output_type": "stream",
     "text": [
      "(5, 4)\n"
     ]
    },
    {
     "data": {
      "text/plain": [
       "(5, 4)"
      ]
     },
     "execution_count": 16,
     "metadata": {},
     "output_type": "execute_result"
    }
   ],
   "source": [
    "print(df.shape)\n",
    "df.drop_duplicates().shape"
   ]
  },
  {
   "cell_type": "code",
   "execution_count": 17,
   "id": "2c97ff5c-0eb6-4278-ac70-4f4a90eed049",
   "metadata": {},
   "outputs": [
    {
     "data": {
      "text/html": [
       "<div>\n",
       "<style scoped>\n",
       "    .dataframe tbody tr th:only-of-type {\n",
       "        vertical-align: middle;\n",
       "    }\n",
       "\n",
       "    .dataframe tbody tr th {\n",
       "        vertical-align: top;\n",
       "    }\n",
       "\n",
       "    .dataframe thead th {\n",
       "        text-align: right;\n",
       "    }\n",
       "</style>\n",
       "<table border=\"1\" class=\"dataframe\">\n",
       "  <thead>\n",
       "    <tr style=\"text-align: right;\">\n",
       "      <th></th>\n",
       "      <th>location</th>\n",
       "      <th>make</th>\n",
       "      <th>model</th>\n",
       "      <th>make_model</th>\n",
       "      <th>age</th>\n",
       "      <th>short_description</th>\n",
       "      <th>year</th>\n",
       "      <th>price</th>\n",
       "      <th>mileage_km</th>\n",
       "      <th>registration</th>\n",
       "      <th>...</th>\n",
       "      <th>Safety &amp; Security</th>\n",
       "      <th>extras</th>\n",
       "      <th>colour</th>\n",
       "      <th>manufacturer_color</th>\n",
       "      <th>paint</th>\n",
       "      <th>upholstery_colour</th>\n",
       "      <th>upholstery</th>\n",
       "      <th>power_kw</th>\n",
       "      <th>power_hp</th>\n",
       "      <th>make_country</th>\n",
       "    </tr>\n",
       "  </thead>\n",
       "  <tbody>\n",
       "    <tr>\n",
       "      <th>0</th>\n",
       "      <td>LOON OP ZAND</td>\n",
       "      <td>Audi</td>\n",
       "      <td>A3</td>\n",
       "      <td>Audi-A3</td>\n",
       "      <td>19.0</td>\n",
       "      <td>2.0 FSI Ambition Pro Line</td>\n",
       "      <td>2003.0</td>\n",
       "      <td>4450.0</td>\n",
       "      <td>191066.0</td>\n",
       "      <td>2003-08-01</td>\n",
       "      <td>...</td>\n",
       "      <td>'ABS', 'Alarm system', 'Central door lock', 'C...</td>\n",
       "      <td>'Alloy wheels'</td>\n",
       "      <td>Grey</td>\n",
       "      <td>None</td>\n",
       "      <td>Metallic</td>\n",
       "      <td>Black</td>\n",
       "      <td>Cloth</td>\n",
       "      <td>110.0</td>\n",
       "      <td>150.0</td>\n",
       "      <td>German</td>\n",
       "    </tr>\n",
       "    <tr>\n",
       "      <th>1</th>\n",
       "      <td>HEERLEN</td>\n",
       "      <td>Audi</td>\n",
       "      <td>A3</td>\n",
       "      <td>Audi-A3</td>\n",
       "      <td>9.0</td>\n",
       "      <td>Sportback 1.4 TFSI Ambiente/ECC/PDC//Lichtmeta...</td>\n",
       "      <td>2013.0</td>\n",
       "      <td>12950.0</td>\n",
       "      <td>94758.0</td>\n",
       "      <td>2013-10-01</td>\n",
       "      <td>...</td>\n",
       "      <td>'Alarm system', 'Central door lock', 'Central ...</td>\n",
       "      <td>'Alloy wheels (16\")'</td>\n",
       "      <td>White</td>\n",
       "      <td>None</td>\n",
       "      <td>None</td>\n",
       "      <td>Black</td>\n",
       "      <td>Cloth</td>\n",
       "      <td>92.0</td>\n",
       "      <td>125.0</td>\n",
       "      <td>German</td>\n",
       "    </tr>\n",
       "  </tbody>\n",
       "</table>\n",
       "<p>2 rows × 50 columns</p>\n",
       "</div>"
      ],
      "text/plain": [
       "       location  make model make_model   age  \\\n",
       "0  LOON OP ZAND  Audi    A3    Audi-A3  19.0   \n",
       "1       HEERLEN  Audi    A3    Audi-A3   9.0   \n",
       "\n",
       "                                   short_description    year    price  \\\n",
       "0                          2.0 FSI Ambition Pro Line  2003.0   4450.0   \n",
       "1  Sportback 1.4 TFSI Ambiente/ECC/PDC//Lichtmeta...  2013.0  12950.0   \n",
       "\n",
       "   mileage_km registration  ...  \\\n",
       "0    191066.0   2003-08-01  ...   \n",
       "1     94758.0   2013-10-01  ...   \n",
       "\n",
       "                                   Safety & Security                extras  \\\n",
       "0  'ABS', 'Alarm system', 'Central door lock', 'C...        'Alloy wheels'   \n",
       "1  'Alarm system', 'Central door lock', 'Central ...  'Alloy wheels (16\")'   \n",
       "\n",
       "  colour manufacturer_color     paint  upholstery_colour  upholstery power_kw  \\\n",
       "0   Grey               None  Metallic              Black       Cloth    110.0   \n",
       "1  White               None      None              Black       Cloth     92.0   \n",
       "\n",
       "  power_hp  make_country  \n",
       "0    150.0        German  \n",
       "1    125.0        German  \n",
       "\n",
       "[2 rows x 50 columns]"
      ]
     },
     "execution_count": 17,
     "metadata": {},
     "output_type": "execute_result"
    }
   ],
   "source": [
    "df = pd.read_csv('auto_02.csv')\n",
    "df.drop('Unnamed: 0', axis=1, inplace=True)\n",
    "df.head(2)"
   ]
  },
  {
   "cell_type": "code",
   "execution_count": 18,
   "id": "a38b6c7a-2331-4441-9bde-76f69c98fbbb",
   "metadata": {},
   "outputs": [
    {
     "name": "stdout",
     "output_type": "stream",
     "text": [
      "<class 'pandas.core.frame.DataFrame'>\n",
      "RangeIndex: 71104 entries, 0 to 71103\n",
      "Data columns (total 50 columns):\n",
      " #   Column                   Non-Null Count  Dtype  \n",
      "---  ------                   --------------  -----  \n",
      " 0   location                 71100 non-null  object \n",
      " 1   make                     71104 non-null  object \n",
      " 2   model                    71094 non-null  object \n",
      " 3   make_model               71104 non-null  object \n",
      " 4   age                      71054 non-null  float64\n",
      " 5   short_description        70935 non-null  object \n",
      " 6   year                     71054 non-null  float64\n",
      " 7   price                    69534 non-null  float64\n",
      " 8   mileage_km               70951 non-null  float64\n",
      " 9   registration             71056 non-null  object \n",
      " 10  fuel_type                71104 non-null  object \n",
      " 11  seller                   71104 non-null  object \n",
      " 12  body_type                71104 non-null  object \n",
      " 13  type                     71104 non-null  object \n",
      " 14  drivetrain               71104 non-null  object \n",
      " 15  seats                    65562 non-null  float64\n",
      " 16  doors                    69790 non-null  float64\n",
      " 17  country_version          71104 non-null  object \n",
      " 18  offer_number             71072 non-null  object \n",
      " 19  warranty_months          24004 non-null  float64\n",
      " 20  first_registration       71064 non-null  object \n",
      " 21  production_date          7416 non-null   object \n",
      " 22  general_inspection       36486 non-null  object \n",
      " 23  last_service             71104 non-null  object \n",
      " 24  full_service_history     71104 non-null  object \n",
      " 25  non_smoker_vehicle       71104 non-null  object \n",
      " 26  previous_owner           71104 non-null  object \n",
      " 27  last_timing_belt_change  71104 non-null  object \n",
      " 28  Gearbox                  71104 non-null  object \n",
      " 29  engine_size_cc           65265 non-null  float64\n",
      " 30  gears                    71104 non-null  object \n",
      " 31  cylinders                64809 non-null  float64\n",
      " 32  empty_weight_kg          69500 non-null  float64\n",
      " 33  Fuel_type                71104 non-null  object \n",
      " 34  fuel_consumption         62871 non-null  object \n",
      " 35  co2_emissions_g_km_comb  52190 non-null  float64\n",
      " 36  emission_class           71104 non-null  object \n",
      " 37  emissions_sticker        71104 non-null  object \n",
      " 38  Comfort & Convenience    71104 non-null  object \n",
      " 39  Entertainment & Media    71104 non-null  object \n",
      " 40  Safety & Security        71104 non-null  object \n",
      " 41  extras                   71104 non-null  object \n",
      " 42  colour                   71104 non-null  object \n",
      " 43  manufacturer_color       71104 non-null  object \n",
      " 44  paint                    71104 non-null  object \n",
      " 45  upholstery_colour        71104 non-null  object \n",
      " 46  upholstery               71104 non-null  object \n",
      " 47  power_kw                 65045 non-null  float64\n",
      " 48  power_hp                 65041 non-null  float64\n",
      " 49  make_country             71104 non-null  object \n",
      "dtypes: float64(13), object(37)\n",
      "memory usage: 27.1+ MB\n"
     ]
    }
   ],
   "source": [
    "df.info()"
   ]
  },
  {
   "cell_type": "code",
   "execution_count": 19,
   "id": "3b9a13ef-61c6-4fb3-b0c8-ca44f0e8aa27",
   "metadata": {},
   "outputs": [
    {
     "data": {
      "text/plain": [
       "3995"
      ]
     },
     "execution_count": 19,
     "metadata": {},
     "output_type": "execute_result"
    }
   ],
   "source": [
    "df.duplicated(keep= False).sum()"
   ]
  },
  {
   "cell_type": "code",
   "execution_count": 20,
   "id": "fd56c3aa-ad5b-4448-b241-c12950465fec",
   "metadata": {},
   "outputs": [
    {
     "data": {
      "text/plain": [
       "3123"
      ]
     },
     "execution_count": 20,
     "metadata": {},
     "output_type": "execute_result"
    }
   ],
   "source": [
    "df.duplicated(subset=['make_model', 'year', 'mileage_km','price', 'short_description' ]).sum()"
   ]
  },
  {
   "cell_type": "code",
   "execution_count": 21,
   "id": "92be985a-4c57-4d04-b81c-742ac0b6a8fb",
   "metadata": {},
   "outputs": [
    {
     "data": {
      "text/html": [
       "<div>\n",
       "<style scoped>\n",
       "    .dataframe tbody tr th:only-of-type {\n",
       "        vertical-align: middle;\n",
       "    }\n",
       "\n",
       "    .dataframe tbody tr th {\n",
       "        vertical-align: top;\n",
       "    }\n",
       "\n",
       "    .dataframe thead th {\n",
       "        text-align: right;\n",
       "    }\n",
       "</style>\n",
       "<table border=\"1\" class=\"dataframe\">\n",
       "  <thead>\n",
       "    <tr style=\"text-align: right;\">\n",
       "      <th></th>\n",
       "      <th>location</th>\n",
       "      <th>make</th>\n",
       "      <th>model</th>\n",
       "      <th>make_model</th>\n",
       "      <th>age</th>\n",
       "      <th>short_description</th>\n",
       "      <th>year</th>\n",
       "      <th>price</th>\n",
       "      <th>mileage_km</th>\n",
       "      <th>registration</th>\n",
       "      <th>...</th>\n",
       "      <th>Safety &amp; Security</th>\n",
       "      <th>extras</th>\n",
       "      <th>colour</th>\n",
       "      <th>manufacturer_color</th>\n",
       "      <th>paint</th>\n",
       "      <th>upholstery_colour</th>\n",
       "      <th>upholstery</th>\n",
       "      <th>power_kw</th>\n",
       "      <th>power_hp</th>\n",
       "      <th>make_country</th>\n",
       "    </tr>\n",
       "  </thead>\n",
       "  <tbody>\n",
       "    <tr>\n",
       "      <th>415</th>\n",
       "      <td>ROTTERDAM</td>\n",
       "      <td>Audi</td>\n",
       "      <td>A3</td>\n",
       "      <td>Audi-A3</td>\n",
       "      <td>12.0</td>\n",
       "      <td>1.4 TFSI S-edition</td>\n",
       "      <td>2010.0</td>\n",
       "      <td>6749.0</td>\n",
       "      <td>220000.0</td>\n",
       "      <td>2010-03-01</td>\n",
       "      <td>...</td>\n",
       "      <td>'Central door lock with remote control', 'Dayt...</td>\n",
       "      <td>'Alloy wheels', 'Roof rack', 'Spoiler', 'Sport...</td>\n",
       "      <td>Black</td>\n",
       "      <td>None</td>\n",
       "      <td>None</td>\n",
       "      <td>Black</td>\n",
       "      <td>Partleather</td>\n",
       "      <td>92.0</td>\n",
       "      <td>125.0</td>\n",
       "      <td>German</td>\n",
       "    </tr>\n",
       "    <tr>\n",
       "      <th>604</th>\n",
       "      <td>ZUILICHEM</td>\n",
       "      <td>Audi</td>\n",
       "      <td>A1</td>\n",
       "      <td>Audi-A1</td>\n",
       "      <td>10.0</td>\n",
       "      <td>1.2 TFSI Connect 2012 Airco Navigatie Cruise C...</td>\n",
       "      <td>2012.0</td>\n",
       "      <td>5950.0</td>\n",
       "      <td>291473.0</td>\n",
       "      <td>2012-01-01</td>\n",
       "      <td>...</td>\n",
       "      <td>'ABS', 'Central door lock', 'Central door lock...</td>\n",
       "      <td>'Alloy wheels (16\")'</td>\n",
       "      <td>Black</td>\n",
       "      <td>None</td>\n",
       "      <td>None</td>\n",
       "      <td>None</td>\n",
       "      <td>None</td>\n",
       "      <td>63.0</td>\n",
       "      <td>86.0</td>\n",
       "      <td>German</td>\n",
       "    </tr>\n",
       "    <tr>\n",
       "      <th>607</th>\n",
       "      <td>GORINCHEM</td>\n",
       "      <td>Audi</td>\n",
       "      <td>A1</td>\n",
       "      <td>Audi-A1</td>\n",
       "      <td>12.0</td>\n",
       "      <td>1.2 TFSI Attraction Airco</td>\n",
       "      <td>2010.0</td>\n",
       "      <td>5950.0</td>\n",
       "      <td>221136.0</td>\n",
       "      <td>2010-12-01</td>\n",
       "      <td>...</td>\n",
       "      <td>'ABS', 'Alarm system', 'Central door lock', 'C...</td>\n",
       "      <td>'Alloy wheels'</td>\n",
       "      <td>White</td>\n",
       "      <td>None</td>\n",
       "      <td>None</td>\n",
       "      <td>None</td>\n",
       "      <td>Cloth</td>\n",
       "      <td>63.0</td>\n",
       "      <td>86.0</td>\n",
       "      <td>German</td>\n",
       "    </tr>\n",
       "    <tr>\n",
       "      <th>625</th>\n",
       "      <td>OOSTDIJK</td>\n",
       "      <td>Audi</td>\n",
       "      <td>A3</td>\n",
       "      <td>Audi-A3</td>\n",
       "      <td>13.0</td>\n",
       "      <td>1.4 TFSI Attraction</td>\n",
       "      <td>2009.0</td>\n",
       "      <td>5700.0</td>\n",
       "      <td>200250.0</td>\n",
       "      <td>2009-04-01</td>\n",
       "      <td>...</td>\n",
       "      <td>'ABS', 'Central door lock with remote control'...</td>\n",
       "      <td>'Alloy wheels (16\")', 'Spare tyre', 'Trailer h...</td>\n",
       "      <td>Blue</td>\n",
       "      <td>None</td>\n",
       "      <td>Metallic</td>\n",
       "      <td>Blue</td>\n",
       "      <td>Cloth</td>\n",
       "      <td>92.0</td>\n",
       "      <td>125.0</td>\n",
       "      <td>German</td>\n",
       "    </tr>\n",
       "    <tr>\n",
       "      <th>635</th>\n",
       "      <td>WOMMELS</td>\n",
       "      <td>Audi</td>\n",
       "      <td>A3</td>\n",
       "      <td>Audi-A3</td>\n",
       "      <td>16.0</td>\n",
       "      <td>1.6 FSI Ambiente</td>\n",
       "      <td>2006.0</td>\n",
       "      <td>2750.0</td>\n",
       "      <td>289500.0</td>\n",
       "      <td>2006-11-01</td>\n",
       "      <td>...</td>\n",
       "      <td>'Central door lock', 'Central door lock with r...</td>\n",
       "      <td>'Alloy wheels (16\")', 'Automatically dimming i...</td>\n",
       "      <td>Blue</td>\n",
       "      <td>None</td>\n",
       "      <td>None</td>\n",
       "      <td>None</td>\n",
       "      <td>None</td>\n",
       "      <td>85.0</td>\n",
       "      <td>116.0</td>\n",
       "      <td>German</td>\n",
       "    </tr>\n",
       "    <tr>\n",
       "      <th>638</th>\n",
       "      <td>WOMMELS</td>\n",
       "      <td>Audi</td>\n",
       "      <td>A3</td>\n",
       "      <td>Audi-A3</td>\n",
       "      <td>16.0</td>\n",
       "      <td>1.6 FSI Ambiente</td>\n",
       "      <td>2006.0</td>\n",
       "      <td>2750.0</td>\n",
       "      <td>289500.0</td>\n",
       "      <td>2006-11-01</td>\n",
       "      <td>...</td>\n",
       "      <td>'Central door lock', 'Central door lock with r...</td>\n",
       "      <td>'Alloy wheels (16\")', 'Automatically dimming i...</td>\n",
       "      <td>Blue</td>\n",
       "      <td>None</td>\n",
       "      <td>None</td>\n",
       "      <td>None</td>\n",
       "      <td>None</td>\n",
       "      <td>85.0</td>\n",
       "      <td>116.0</td>\n",
       "      <td>German</td>\n",
       "    </tr>\n",
       "  </tbody>\n",
       "</table>\n",
       "<p>6 rows × 50 columns</p>\n",
       "</div>"
      ],
      "text/plain": [
       "      location  make model make_model   age  \\\n",
       "415  ROTTERDAM  Audi    A3    Audi-A3  12.0   \n",
       "604  ZUILICHEM  Audi    A1    Audi-A1  10.0   \n",
       "607  GORINCHEM  Audi    A1    Audi-A1  12.0   \n",
       "625   OOSTDIJK  Audi    A3    Audi-A3  13.0   \n",
       "635    WOMMELS  Audi    A3    Audi-A3  16.0   \n",
       "638    WOMMELS  Audi    A3    Audi-A3  16.0   \n",
       "\n",
       "                                     short_description    year   price  \\\n",
       "415                                 1.4 TFSI S-edition  2010.0  6749.0   \n",
       "604  1.2 TFSI Connect 2012 Airco Navigatie Cruise C...  2012.0  5950.0   \n",
       "607                          1.2 TFSI Attraction Airco  2010.0  5950.0   \n",
       "625                                1.4 TFSI Attraction  2009.0  5700.0   \n",
       "635                                   1.6 FSI Ambiente  2006.0  2750.0   \n",
       "638                                   1.6 FSI Ambiente  2006.0  2750.0   \n",
       "\n",
       "     mileage_km registration  ...  \\\n",
       "415    220000.0   2010-03-01  ...   \n",
       "604    291473.0   2012-01-01  ...   \n",
       "607    221136.0   2010-12-01  ...   \n",
       "625    200250.0   2009-04-01  ...   \n",
       "635    289500.0   2006-11-01  ...   \n",
       "638    289500.0   2006-11-01  ...   \n",
       "\n",
       "                                     Safety & Security  \\\n",
       "415  'Central door lock with remote control', 'Dayt...   \n",
       "604  'ABS', 'Central door lock', 'Central door lock...   \n",
       "607  'ABS', 'Alarm system', 'Central door lock', 'C...   \n",
       "625  'ABS', 'Central door lock with remote control'...   \n",
       "635  'Central door lock', 'Central door lock with r...   \n",
       "638  'Central door lock', 'Central door lock with r...   \n",
       "\n",
       "                                                extras colour  \\\n",
       "415  'Alloy wheels', 'Roof rack', 'Spoiler', 'Sport...  Black   \n",
       "604                               'Alloy wheels (16\")'  Black   \n",
       "607                                     'Alloy wheels'  White   \n",
       "625  'Alloy wheels (16\")', 'Spare tyre', 'Trailer h...   Blue   \n",
       "635  'Alloy wheels (16\")', 'Automatically dimming i...   Blue   \n",
       "638  'Alloy wheels (16\")', 'Automatically dimming i...   Blue   \n",
       "\n",
       "    manufacturer_color     paint  upholstery_colour   upholstery power_kw  \\\n",
       "415               None      None              Black  Partleather     92.0   \n",
       "604               None      None               None         None     63.0   \n",
       "607               None      None               None        Cloth     63.0   \n",
       "625               None  Metallic               Blue        Cloth     92.0   \n",
       "635               None      None               None         None     85.0   \n",
       "638               None      None               None         None     85.0   \n",
       "\n",
       "    power_hp  make_country  \n",
       "415    125.0        German  \n",
       "604     86.0        German  \n",
       "607     86.0        German  \n",
       "625    125.0        German  \n",
       "635    116.0        German  \n",
       "638    116.0        German  \n",
       "\n",
       "[6 rows x 50 columns]"
      ]
     },
     "execution_count": 21,
     "metadata": {},
     "output_type": "execute_result"
    }
   ],
   "source": [
    "df.loc[df.duplicated(keep=False), :].head(6)"
   ]
  },
  {
   "cell_type": "code",
   "execution_count": 22,
   "id": "f745cbc1-b25a-4583-9d71-7b4109ea2d12",
   "metadata": {},
   "outputs": [
    {
     "data": {
      "text/plain": [
       "2012"
      ]
     },
     "execution_count": 22,
     "metadata": {},
     "output_type": "execute_result"
    }
   ],
   "source": [
    "df.duplicated().sum()"
   ]
  },
  {
   "cell_type": "code",
   "execution_count": 23,
   "id": "ccf12418-1a90-4de1-8dba-cecfe5ac2885",
   "metadata": {},
   "outputs": [
    {
     "data": {
      "text/plain": [
       "2012"
      ]
     },
     "execution_count": 23,
     "metadata": {},
     "output_type": "execute_result"
    }
   ],
   "source": [
    "df.duplicated(keep ='last').sum()"
   ]
  },
  {
   "cell_type": "code",
   "execution_count": 24,
   "id": "e0950609-f94f-40a2-b6c1-89aee36f17f3",
   "metadata": {},
   "outputs": [
    {
     "data": {
      "text/html": [
       "<div>\n",
       "<style scoped>\n",
       "    .dataframe tbody tr th:only-of-type {\n",
       "        vertical-align: middle;\n",
       "    }\n",
       "\n",
       "    .dataframe tbody tr th {\n",
       "        vertical-align: top;\n",
       "    }\n",
       "\n",
       "    .dataframe thead th {\n",
       "        text-align: right;\n",
       "    }\n",
       "</style>\n",
       "<table border=\"1\" class=\"dataframe\">\n",
       "  <thead>\n",
       "    <tr style=\"text-align: right;\">\n",
       "      <th></th>\n",
       "      <th>make</th>\n",
       "      <th>price</th>\n",
       "    </tr>\n",
       "  </thead>\n",
       "  <tbody>\n",
       "    <tr>\n",
       "      <th>0</th>\n",
       "      <td>audi</td>\n",
       "      <td>200</td>\n",
       "    </tr>\n",
       "    <tr>\n",
       "      <th>1</th>\n",
       "      <td>audi</td>\n",
       "      <td>200</td>\n",
       "    </tr>\n",
       "    <tr>\n",
       "      <th>2</th>\n",
       "      <td>audi</td>\n",
       "      <td>200</td>\n",
       "    </tr>\n",
       "    <tr>\n",
       "      <th>3</th>\n",
       "      <td>mercedes</td>\n",
       "      <td>3000</td>\n",
       "    </tr>\n",
       "    <tr>\n",
       "      <th>4</th>\n",
       "      <td>toyota</td>\n",
       "      <td>70000</td>\n",
       "    </tr>\n",
       "    <tr>\n",
       "      <th>5</th>\n",
       "      <td>honda</td>\n",
       "      <td>5000</td>\n",
       "    </tr>\n",
       "  </tbody>\n",
       "</table>\n",
       "</div>"
      ],
      "text/plain": [
       "       make  price\n",
       "0      audi    200\n",
       "1      audi    200\n",
       "2      audi    200\n",
       "3  mercedes   3000\n",
       "4    toyota  70000\n",
       "5     honda   5000"
      ]
     },
     "execution_count": 24,
     "metadata": {},
     "output_type": "execute_result"
    }
   ],
   "source": [
    "df = pd.DataFrame({\n",
    "    'make': ['audi','audi','audi','mercedes','toyota', 'honda'],\n",
    "    'price': [200,200,200,3000,70000,5000]\n",
    "})\n",
    "df    "
   ]
  },
  {
   "cell_type": "code",
   "execution_count": 25,
   "id": "df3e3540-bf31-4f8f-a9b7-35cad1d695cc",
   "metadata": {},
   "outputs": [
    {
     "data": {
      "text/plain": [
       "2"
      ]
     },
     "execution_count": 25,
     "metadata": {},
     "output_type": "execute_result"
    }
   ],
   "source": [
    "df.duplicated().sum()"
   ]
  },
  {
   "cell_type": "code",
   "execution_count": 26,
   "id": "5b593520-6ae3-4eac-bece-758343a89fcb",
   "metadata": {},
   "outputs": [
    {
     "data": {
      "text/plain": [
       "0     True\n",
       "1     True\n",
       "2     True\n",
       "3    False\n",
       "4    False\n",
       "5    False\n",
       "dtype: bool"
      ]
     },
     "execution_count": 26,
     "metadata": {},
     "output_type": "execute_result"
    }
   ],
   "source": [
    "df.duplicated(keep= False)"
   ]
  },
  {
   "cell_type": "code",
   "execution_count": 27,
   "id": "07b30cda-2928-4be3-b496-4335145cdab8",
   "metadata": {},
   "outputs": [
    {
     "data": {
      "text/plain": [
       "3"
      ]
     },
     "execution_count": 27,
     "metadata": {},
     "output_type": "execute_result"
    }
   ],
   "source": [
    "df.duplicated(keep= False).sum()"
   ]
  },
  {
   "cell_type": "code",
   "execution_count": 29,
   "id": "4568dd2b-0cce-46c2-a2dc-6cba6d2cb8e4",
   "metadata": {},
   "outputs": [
    {
     "data": {
      "text/html": [
       "<div>\n",
       "<style scoped>\n",
       "    .dataframe tbody tr th:only-of-type {\n",
       "        vertical-align: middle;\n",
       "    }\n",
       "\n",
       "    .dataframe tbody tr th {\n",
       "        vertical-align: top;\n",
       "    }\n",
       "\n",
       "    .dataframe thead th {\n",
       "        text-align: right;\n",
       "    }\n",
       "</style>\n",
       "<table border=\"1\" class=\"dataframe\">\n",
       "  <thead>\n",
       "    <tr style=\"text-align: right;\">\n",
       "      <th></th>\n",
       "      <th>make</th>\n",
       "      <th>price</th>\n",
       "    </tr>\n",
       "  </thead>\n",
       "  <tbody>\n",
       "    <tr>\n",
       "      <th>0</th>\n",
       "      <td>audi</td>\n",
       "      <td>200</td>\n",
       "    </tr>\n",
       "    <tr>\n",
       "      <th>1</th>\n",
       "      <td>audi</td>\n",
       "      <td>200</td>\n",
       "    </tr>\n",
       "    <tr>\n",
       "      <th>2</th>\n",
       "      <td>audi</td>\n",
       "      <td>200</td>\n",
       "    </tr>\n",
       "  </tbody>\n",
       "</table>\n",
       "</div>"
      ],
      "text/plain": [
       "   make  price\n",
       "0  audi    200\n",
       "1  audi    200\n",
       "2  audi    200"
      ]
     },
     "execution_count": 29,
     "metadata": {},
     "output_type": "execute_result"
    }
   ],
   "source": [
    "df.loc[df.duplicated(keep = False), :]"
   ]
  },
  {
   "cell_type": "code",
   "execution_count": 32,
   "id": "c4ee57be-9571-4d04-863e-074a0aa91247",
   "metadata": {},
   "outputs": [
    {
     "data": {
      "text/html": [
       "<div>\n",
       "<style scoped>\n",
       "    .dataframe tbody tr th:only-of-type {\n",
       "        vertical-align: middle;\n",
       "    }\n",
       "\n",
       "    .dataframe tbody tr th {\n",
       "        vertical-align: top;\n",
       "    }\n",
       "\n",
       "    .dataframe thead th {\n",
       "        text-align: right;\n",
       "    }\n",
       "</style>\n",
       "<table border=\"1\" class=\"dataframe\">\n",
       "  <thead>\n",
       "    <tr style=\"text-align: right;\">\n",
       "      <th></th>\n",
       "      <th>make</th>\n",
       "      <th>price</th>\n",
       "    </tr>\n",
       "  </thead>\n",
       "  <tbody>\n",
       "    <tr>\n",
       "      <th>1</th>\n",
       "      <td>audi</td>\n",
       "      <td>200</td>\n",
       "    </tr>\n",
       "    <tr>\n",
       "      <th>2</th>\n",
       "      <td>audi</td>\n",
       "      <td>200</td>\n",
       "    </tr>\n",
       "  </tbody>\n",
       "</table>\n",
       "</div>"
      ],
      "text/plain": [
       "   make  price\n",
       "1  audi    200\n",
       "2  audi    200"
      ]
     },
     "execution_count": 32,
     "metadata": {},
     "output_type": "execute_result"
    }
   ],
   "source": [
    "df.loc[df.duplicated() , :]"
   ]
  },
  {
   "cell_type": "code",
   "execution_count": null,
   "id": "db43b020-3a29-40af-b295-5aa8714774e7",
   "metadata": {},
   "outputs": [],
   "source": []
  }
 ],
 "metadata": {
  "kernelspec": {
   "display_name": "Python 3 (ipykernel)",
   "language": "python",
   "name": "python3"
  },
  "language_info": {
   "codemirror_mode": {
    "name": "ipython",
    "version": 3
   },
   "file_extension": ".py",
   "mimetype": "text/x-python",
   "name": "python",
   "nbconvert_exporter": "python",
   "pygments_lexer": "ipython3",
   "version": "3.9.12"
  }
 },
 "nbformat": 4,
 "nbformat_minor": 5
}
